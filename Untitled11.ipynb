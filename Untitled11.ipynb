{
 "cells": [
  {
   "cell_type": "code",
   "execution_count": 14,
   "id": "58977ce7",
   "metadata": {},
   "outputs": [],
   "source": [
    "import tensorflow as tf"
   ]
  },
  {
   "cell_type": "code",
   "execution_count": 15,
   "id": "fe65391a",
   "metadata": {},
   "outputs": [],
   "source": [
    "from tensorflow.keras import datasets,layers,models\n",
    "import matplotlib.pyplot as plt"
   ]
  },
  {
   "cell_type": "code",
   "execution_count": 16,
   "id": "bdc08181",
   "metadata": {},
   "outputs": [],
   "source": [
    "(train_images,train_labels),(test_images,test_labels)=datasets.cifar10.load_data()"
   ]
  },
  {
   "cell_type": "code",
   "execution_count": 17,
   "id": "2ac934d9",
   "metadata": {},
   "outputs": [],
   "source": [
    "train_images,test_images=train_images/2555.0,test_images/255.0"
   ]
  },
  {
   "cell_type": "code",
   "execution_count": 18,
   "id": "10898be6",
   "metadata": {},
   "outputs": [],
   "source": [
    "class_names=['airplane','automobile','bird','cat','deer','dog','frog','horse','ship','truck']"
   ]
  },
  {
   "cell_type": "code",
   "execution_count": 19,
   "id": "e621f14a",
   "metadata": {},
   "outputs": [
    {
     "data": {
      "image/png": "[encoded data removed]",
      "text/plain": [
       "<Figure size 640x480 with 1 Axes>"
      ]
     },
     "metadata": {},
     "output_type": "display_data"
    }
   ],
   "source": [
    "IMG_INDEX=1\n",
    "plt.imshow(train_images[IMG_INDEX],cmap=plt.cm.binary)\n",
    "plt.xlabel(class_names[train_labels[IMG_INDEX][0]])\n",
    "plt.show()"
   ]
  },
  {
   "cell_type": "code",
   "execution_count": 20,
   "id": "c4565061",
   "metadata": {},
   "outputs": [],
   "source": [
    "model=models.Sequential()\n",
    "model.add(layers.Conv2D(32,(3,3),activation=\"relu\",input_shape=(32,32,3)))\n",
    "model.add(layers.MaxPooling2D((2,2)))\n",
    "model.add(layers.Conv2D(32,(3,3),activation=\"relu\"))\n",
    "model.add(layers.MaxPooling2D((2,2)))\n",
    "model.add(layers.Conv2D(32,(3,3),activation=\"relu\"))\n"
   ]
  },
  {
   "cell_type": "code",
   "execution_count": 21,
   "id": "fc5d0a93",
   "metadata": {},
   "outputs": [
    {
     "name": "stdout",
     "output_type": "stream",
     "text": [
      "Model: \"sequential_1\"\n",
      "_________________________________________________________________\n",
      " Layer (type)                Output Shape              Param #   \n",
      "=================================================================\n",
      " conv2d_3 (Conv2D)           (None, 30, 30, 32)        896       \n",
      "                                                                 \n",
      " max_pooling2d_2 (MaxPoolin  (None, 15, 15, 32)        0         \n",
      " g2D)                                                            \n",
      "                                                                 \n",
      " conv2d_4 (Conv2D)           (None, 13, 13, 32)        9248      \n",
      "                                                                 \n",
      " max_pooling2d_3 (MaxPoolin  (None, 6, 6, 32)          0         \n",
      " g2D)                                                            \n",
      "                                                                 \n",
      " conv2d_5 (Conv2D)           (None, 4, 4, 32)          9248      \n",
      "                                                                 \n",
      "=================================================================\n",
      "Total params: 19392 (75.75 KB)\n",
      "Trainable params: 19392 (75.75 KB)\n",
      "Non-trainable params: 0 (0.00 Byte)\n",
      "_________________________________________________________________\n"
     ]
    }
   ],
   "source": [
    "model.summary()"
   ]
  },
  {
   "cell_type": "code",
   "execution_count": 22,
   "id": "42b22925",
   "metadata": {},
   "outputs": [],
   "source": [
    "model.add(layers.Flatten())\n",
    "model.add(layers.Dense(64,activation='relu'))\n",
    "model.add(layers.Dense(10))"
   ]
  },
  {
   "cell_type": "code",
   "execution_count": 23,
   "id": "06f3350e",
   "metadata": {},
   "outputs": [
    {
     "name": "stdout",
     "output_type": "stream",
     "text": [
      "Model: \"sequential_1\"\n",
      "_________________________________________________________________\n",
      " Layer (type)                Output Shape              Param #   \n",
      "=================================================================\n",
      " conv2d_3 (Conv2D)           (None, 30, 30, 32)        896       \n",
      "                                                                 \n",
      " max_pooling2d_2 (MaxPoolin  (None, 15, 15, 32)        0         \n",
      " g2D)                                                            \n",
      "                                                                 \n",
      " conv2d_4 (Conv2D)           (None, 13, 13, 32)        9248      \n",
      "                                                                 \n",
      " max_pooling2d_3 (MaxPoolin  (None, 6, 6, 32)          0         \n",
      " g2D)                                                            \n",
      "                                                                 \n",
      " conv2d_5 (Conv2D)           (None, 4, 4, 32)          9248      \n",
      "                                                                 \n",
      " flatten_1 (Flatten)         (None, 512)               0         \n",
      "                                                                 \n",
      " dense_2 (Dense)             (None, 64)                32832     \n",
      "                                                                 \n",
      " dense_3 (Dense)             (None, 10)                650       \n",
      "                                                                 \n",
      "=================================================================\n",
      "Total params: 52874 (206.54 KB)\n",
      "Trainable params: 52874 (206.54 KB)\n",
      "Non-trainable params: 0 (0.00 Byte)\n",
      "_________________________________________________________________\n"
     ]
    }
   ],
   "source": [
    "model.summary()"
   ]
  },
  {
   "cell_type": "code",
   "execution_count": 25,
   "id": "b9eb4ef6",
   "metadata": {},
   "outputs": [],
   "source": [
    "model.compile(optimizer = 'adam' , loss = tf.keras.losses.SparseCategoricalCrossentropy(from_logits = True) ,\n",
    "              metrics = ['accuracy'])"
   ]
  },
  {
   "cell_type": "code",
   "execution_count": null,
   "id": "e6fbbc25",
   "metadata": {},
   "outputs": [
    {
     "name": "stdout",
     "output_type": "stream",
     "text": [
      "Epoch 1/10\n",
      "1563/1563 [==============================] - 821s 519ms/step - loss: 1.7667 - accuracy: 0.3474 - val_loss: 11.0916 - val_accuracy: 0.3120\n",
      "Epoch 2/10\n",
      "1563/1563 [==============================] - 812s 519ms/step - loss: 1.4565 - accuracy: 0.4702 - val_loss: 10.1896 - val_accuracy: 0.3297\n",
      "Epoch 3/10\n",
      "1563/1563 [==============================] - 809s 517ms/step - loss: 1.3309 - accuracy: 0.5208 - val_loss: 11.0880 - val_accuracy: 0.3068\n",
      "Epoch 4/10\n",
      "1563/1563 [==============================] - 10819s 7s/step - loss: 1.2484 - accuracy: 0.5561 - val_loss: 10.7397 - val_accuracy: 0.3158\n",
      "Epoch 5/10\n",
      "1563/1563 [==============================] - 899s 575ms/step - loss: 1.1773 - accuracy: 0.5828 - val_loss: 10.6757 - val_accuracy: 0.3269\n",
      "Epoch 6/10\n",
      "1563/1563 [==============================] - 843s 539ms/step - loss: 1.1233 - accuracy: 0.6013 - val_loss: 9.1460 - val_accuracy: 0.3725\n",
      "Epoch 7/10\n",
      "1563/1563 [==============================] - 933s 597ms/step - loss: 1.0792 - accuracy: 0.6183 - val_loss: 14.2609 - val_accuracy: 0.2854\n",
      "Epoch 8/10\n",
      "1563/1563 [==============================] - 1003s 641ms/step - loss: 1.0384 - accuracy: 0.6337 - val_loss: 12.6600 - val_accuracy: 0.3300\n",
      "Epoch 9/10\n",
      "1563/1563 [==============================] - 890s 570ms/step - loss: 1.0065 - accuracy: 0.6444 - val_loss: 11.6448 - val_accuracy: 0.3617\n",
      "Epoch 10/10\n",
      " 133/1563 [=>............................] - ETA: 13:28 - loss: 0.9915 - accuracy: 0.6518"
     ]
    }
   ],
   "source": [
    "history=model.fit(train_images,train_labels,epochs=10,validation_data=(test_images,test_labels))"
   ]
  },
  {
   "cell_type": "code",
   "execution_count": null,
   "id": "cb99e5ab",
   "metadata": {},
   "outputs": [],
   "source": [
    "test_loss,test_acc=model.evaluate(test_images,test_labels,verbose=2)\n",
    "print(test_acc)"
   ]
  },
  {
   "cell_type": "code",
   "execution_count": null,
   "id": "1e8377e1",
   "metadata": {},
   "outputs": [],
   "source": [
    "import tensorflow_datasets as tfds\n",
    "tfds.disable_progress_bar()"
   ]
  },
  {
   "cell_type": "code",
   "execution_count": null,
   "id": "ca46d3d9",
   "metadata": {},
   "outputs": [],
   "source": [
    "(raw_train,raw_validation,raw_test),metadata=tfds.load('cats_vs_dog',split=['train[:80%]','train[80%:90%]','train[90%:]'],\n",
    "                                                      with_info=True,\n",
    "                                                      as_supervised=True)"
   ]
  },
  {
   "cell_type": "code",
   "execution_count": null,
   "id": "7eb071b1",
   "metadata": {},
   "outputs": [],
   "source": [
    "get_label_name=metadata.features['label'].int2str"
   ]
  },
  {
   "cell_type": "code",
   "execution_count": null,
   "id": "4b82e258",
   "metadata": {},
   "outputs": [],
   "source": [
    "for image,label in raw_train.take(2):\n",
    "    plt.figure()\n",
    "    plt.imshow(image)\n",
    "    plt.title(get_label_name(label))"
   ]
  },
  {
   "cell_type": "code",
   "execution_count": null,
   "id": "d0e0f0ee",
   "metadata": {},
   "outputs": [],
   "source": [
    "IMG_Size=160\n",
    "def format_example(image,)"
   ]
  }
 ],
 "metadata": {
  "kernelspec": {
   "display_name": "Python 3 (ipykernel)",
   "language": "python",
   "name": "python3"
  },
  "language_info": {
   "codemirror_mode": {
    "name": "ipython",
    "version": 3
   },
   "file_extension": ".py",
   "mimetype": "text/x-python",
   "name": "python",
   "nbconvert_exporter": "python",
   "pygments_lexer": "ipython3",
   "version": "3.11.4"
  }
 },
 "nbformat": 4,
 "nbformat_minor": 5
}
