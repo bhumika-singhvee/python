{
 "cells": [
  {
   "cell_type": "code",
   "execution_count": 6,
   "id": "34525f91",
   "metadata": {},
   "outputs": [
    {
     "name": "stdout",
     "output_type": "stream",
     "text": [
      "1\n",
      "*\n",
      "2\n",
      "****\n",
      "3\n",
      "*********\n",
      "4\n",
      "****************\n"
     ]
    }
   ],
   "source": [
    "for i in range(1,5):\n",
    "    print(i)\n",
    "    for j in range(0,i*i):\n",
    "        print(\"*\",end=\"\")\n",
    "        \n",
    "    print(\"\")\n",
    "        \n",
    "    "
   ]
  },
  {
   "cell_type": "code",
   "execution_count": 8,
   "id": "60bdc429",
   "metadata": {},
   "outputs": [
    {
     "data": {
      "text/plain": [
       "[100, 400, 900]"
      ]
     },
     "execution_count": 8,
     "metadata": {},
     "output_type": "execute_result"
    }
   ],
   "source": [
    "mylist=[10,20,30,45]\n",
    "newlist=[val**2 for val in mylist if val%2==0]\n",
    "newlist"
   ]
  },
  {
   "cell_type": "code",
   "execution_count": 9,
   "id": "03ea9138",
   "metadata": {},
   "outputs": [
    {
     "name": "stdout",
     "output_type": "stream",
     "text": [
      "set()\n"
     ]
    }
   ],
   "source": [
    "i1={\"man\",\"women\",\"hello\"}\n",
    "i2={\"happy\",\"birthday\"}\n",
    "i3={x.title() for x in i1.intersection(i2)}\n",
    "print(i3)"
   ]
  },
  {
   "cell_type": "code",
   "execution_count": 12,
   "id": "7bccbb0a",
   "metadata": {},
   "outputs": [
    {
     "name": "stdout",
     "output_type": "stream",
     "text": [
      "['a', 'hii']\n"
     ]
    }
   ],
   "source": [
    "l1=[\"aman\",\"a\",\"priya\",\"hii\"]\n",
    "l2=[\"a\",\"hello\",\"hii\",\"bye\"]\n",
    "l3=[ i for i in l1 if i in l2]\n",
    "print(l3)"
   ]
  },
  {
   "cell_type": "code",
   "execution_count": null,
   "id": "f55789dc",
   "metadata": {},
   "outputs": [],
   "source": []
  }
 ],
 "metadata": {
  "kernelspec": {
   "display_name": "Python 3 (ipykernel)",
   "language": "python",
   "name": "python3"
  },
  "language_info": {
   "codemirror_mode": {
    "name": "ipython",
    "version": 3
   },
   "file_extension": ".py",
   "mimetype": "text/x-python",
   "name": "python",
   "nbconvert_exporter": "python",
   "pygments_lexer": "ipython3",
   "version": "3.10.11"
  }
 },
 "nbformat": 4,
 "nbformat_minor": 5
}
