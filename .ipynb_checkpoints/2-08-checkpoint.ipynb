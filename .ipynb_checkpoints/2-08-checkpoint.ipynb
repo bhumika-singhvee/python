{
 "cells": [
  {
   "cell_type": "code",
   "execution_count": 3,
   "id": "35d5b88b",
   "metadata": {},
   "outputs": [
    {
     "name": "stdout",
     "output_type": "stream",
     "text": [
      "enter a value0\n",
      "equal to 0\n"
     ]
    }
   ],
   "source": [
    "a=int(input(\"enter a value\"))\n",
    "if(a>0):\n",
    "    print(\"positive value\")\n",
    "elif(a<0):\n",
    "    print(\"negative value\") \n",
    "elif(a==0):\n",
    "    print(\"equal to 0\")\n",
    "    "
   ]
  },
  {
   "cell_type": "code",
   "execution_count": 4,
   "id": "207d424d",
   "metadata": {},
   "outputs": [
    {
     "name": "stdout",
     "output_type": "stream",
     "text": [
      "enter value44\n",
      "enter a value54\n",
      "b is greater than a\n"
     ]
    }
   ],
   "source": [
    "a=int(input(\"enter value\"))\n",
    "b=int(input(\"enter a value\"))\n",
    "if(a>b):\n",
    "    print(\"a is greater than b\")\n",
    "else:\n",
    "    print(\"b is greater than a\")"
   ]
  },
  {
   "cell_type": "code",
   "execution_count": 9,
   "id": "fa7a62c6",
   "metadata": {},
   "outputs": [
    {
     "name": "stdout",
     "output_type": "stream",
     "text": [
      "enter side 1 15\n",
      "enter side 2 15\n",
      "enter side 3 16\n",
      "isoceles triangle\n"
     ]
    }
   ],
   "source": [
    "a=int(input(\"enter side 1 \"))\n",
    "b=int(input(\"enter side 2 \"))\n",
    "c=int(input(\"enter side 3 \"))\n",
    "if(a==b and b==c):\n",
    "    print(\"equilateral triangle\")\n",
    "elif(a==b or b==c or c==a):    \n",
    "    print(\"isoceles triangle\")\n",
    "else:\n",
    "    print(\"right triangle\")"
   ]
  },
  {
   "cell_type": "code",
   "execution_count": 15,
   "id": "7011d10c",
   "metadata": {},
   "outputs": [
    {
     "name": "stdout",
     "output_type": "stream",
     "text": [
      "enter a value123\n",
      "it is not a palindrome\n"
     ]
    }
   ],
   "source": [
    "a=int(input(\"enter a value\"))\n",
    "temp=a\n",
    "sum=0\n",
    "while(a>0):\n",
    "    rem=a%10\n",
    "    sum=sum*10+rem\n",
    "    a=a//10\n",
    "if(temp==sum):   \n",
    "    print(\"it is a palindrome\")\n",
    "else:\n",
    "    print(\"it is not a palindrome\")\n",
    "    \n",
    "    \n"
   ]
  },
  {
   "cell_type": "code",
   "execution_count": 4,
   "id": "c0aece81",
   "metadata": {},
   "outputs": [
    {
     "name": "stdout",
     "output_type": "stream",
     "text": [
      "enter a value5\n",
      "[25]\n"
     ]
    }
   ],
   "source": [
    "num_list=[]\n",
    "a=int(input(\"enter a value\"))\n",
    "if(a%2==0):\n",
    "    num_list.append(a*a*a)\n",
    "    print(num_list)\n",
    "else:\n",
    "    num_list.append(a*a) \n",
    "    print(num_list)  \n",
    "    \n",
    "\n",
    "\n"
   ]
  },
  {
   "cell_type": "code",
   "execution_count": null,
   "id": "f7a0289d",
   "metadata": {},
   "outputs": [],
   "source": []
  }
 ],
 "metadata": {
  "kernelspec": {
   "display_name": "Python 3 (ipykernel)",
   "language": "python",
   "name": "python3"
  },
  "language_info": {
   "codemirror_mode": {
    "name": "ipython",
    "version": 3
   },
   "file_extension": ".py",
   "mimetype": "text/x-python",
   "name": "python",
   "nbconvert_exporter": "python",
   "pygments_lexer": "ipython3",
   "version": "3.10.11"
  }
 },
 "nbformat": 4,
 "nbformat_minor": 5
}
