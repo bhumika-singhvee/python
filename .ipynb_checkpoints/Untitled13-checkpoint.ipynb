{
 "cells": [
  {
   "cell_type": "code",
   "execution_count": null,
   "id": "18e90729",
   "metadata": {},
   "outputs": [],
   "source": [
    "#diff btw series and dataframe\n",
    "#==>a Pandas Series is a 1D array of data, but a single-column DataFrame is a 2D table with one column. The main distinction between the two is this. For a single-column DataFrame, an index can be optional, but a Series has to have an index defined.frame\n"
   ]
  },
  {
   "cell_type": "code",
   "execution_count": 1,
   "id": "48850014",
   "metadata": {},
   "outputs": [
    {
     "name": "stdout",
     "output_type": "stream",
     "text": [
      "0    1000\n",
      "1     200\n",
      "2    3000\n",
      "3    4000\n",
      "4       5\n",
      "dtype: int64\n"
     ]
    }
   ],
   "source": [
    "#series\n",
    "import pandas as pd\n",
    "data = [1000, 200, 3000, 4000, 5]\n",
    "s = pd.Series(data)\n",
    "print(s)"
   ]
  },
  {
   "cell_type": "code",
   "execution_count": 3,
   "id": "0c6d1c80",
   "metadata": {},
   "outputs": [
    {
     "name": "stdout",
     "output_type": "stream",
     "text": [
      "      0\n",
      "0  1000\n",
      "1   200\n",
      "2  3000\n",
      "3  4000\n",
      "4     5\n"
     ]
    }
   ],
   "source": [
    "data = [1000, 200, 3000, 4000, 5]\n",
    "df = pd.DataFrame(data)\n",
    "\n",
    "# Print the DataFrame\n",
    "print(df)"
   ]
  },
  {
   "cell_type": "code",
   "execution_count": 4,
   "id": "3bd76632",
   "metadata": {},
   "outputs": [],
   "source": [
    "#WHAT do u mean by inplace=true and inplace=false\n",
    "#=>When inplace = True is used, it performs operation on data and nothing is returned\n",
    "#df.dropna(axis='index', how='all', inplace=True)\n",
    "#In Pandas the above code means:\n",
    "#Pandas create a copy of the original data.\n",
    "#Performs the required operation on it.\n",
    "#Assigns the results to the original data. (Important point to consider here).\n",
    "#Then deletes the copy.\n",
    "#=>When inplace=False is used, it performs operation on data and returns a new copy of data.\n"
   ]
  },
  {
   "cell_type": "code",
   "execution_count": 5,
   "id": "3b76dbce",
   "metadata": {},
   "outputs": [
    {
     "data": {
      "text/html": [
       "<div>\n",
       "<style scoped>\n",
       "    .dataframe tbody tr th:only-of-type {\n",
       "        vertical-align: middle;\n",
       "    }\n",
       "\n",
       "    .dataframe tbody tr th {\n",
       "        vertical-align: top;\n",
       "    }\n",
       "\n",
       "    .dataframe thead th {\n",
       "        text-align: right;\n",
       "    }\n",
       "</style>\n",
       "<table border=\"1\" class=\"dataframe\">\n",
       "  <thead>\n",
       "    <tr style=\"text-align: right;\">\n",
       "      <th></th>\n",
       "      <th>FirstName</th>\n",
       "      <th>Class</th>\n",
       "      <th>Age</th>\n",
       "    </tr>\n",
       "  </thead>\n",
       "  <tbody>\n",
       "    <tr>\n",
       "      <th>0</th>\n",
       "      <td>Shobhit</td>\n",
       "      <td>11</td>\n",
       "      <td>18</td>\n",
       "    </tr>\n",
       "    <tr>\n",
       "      <th>1</th>\n",
       "      <td>Vaibhav</td>\n",
       "      <td>12</td>\n",
       "      <td>20</td>\n",
       "    </tr>\n",
       "    <tr>\n",
       "      <th>2</th>\n",
       "      <td>Vimal</td>\n",
       "      <td>10</td>\n",
       "      <td>21</td>\n",
       "    </tr>\n",
       "    <tr>\n",
       "      <th>3</th>\n",
       "      <td>Sourabh</td>\n",
       "      <td>9</td>\n",
       "      <td>17</td>\n",
       "    </tr>\n",
       "  </tbody>\n",
       "</table>\n",
       "</div>"
      ],
      "text/plain": [
       "  FirstName  Class  Age\n",
       "0   Shobhit     11   18\n",
       "1   Vaibhav     12   20\n",
       "2     Vimal     10   21\n",
       "3   Sourabh      9   17"
      ]
     },
     "execution_count": 5,
     "metadata": {},
     "output_type": "execute_result"
    }
   ],
   "source": [
    "\n",
    "import pandas as pd\n",
    "dataframe=pd.DataFrame({'Name':['Shobhit','Vaibhav','Vimal','Sourabh'],'Class':[11,12,10,9],'Age':[18,20,21,17]})\n",
    "dataframe\n",
    "\n",
    "# without using inplace \n",
    "new_data = dataframe.rename(columns = {'Name':'FirstName'})\n",
    "new_data\n",
    "\n",
    "# checking whether dataframe is modified or not\n",
    "dataframe\n",
    "\n",
    "# putting inplace=False\n",
    "new_data_2 = dataframe.rename(columns = {'Name':'FirstName'},\n",
    "inplace = False)\n",
    "\n",
    "# Copied dataframe\n",
    "new_data_2\n",
    "\n",
    "dataframe\n",
    "\n",
    "\n",
    "dataframe.rename(columns = {'Name':'FirstName'},inplace = True)\n",
    "\n",
    "dataframe\n"
   ]
  },
  {
   "cell_type": "code",
   "execution_count": null,
   "id": "29ea81e7",
   "metadata": {},
   "outputs": [],
   "source": [
    "#what is diff btw dropna and fillna\n",
    "# fillna replaces the missing values (NaN or None) with specified values, while dropna eliminates the rows or columns containing missing values."
   ]
  }
 ],
 "metadata": {
  "kernelspec": {
   "display_name": "Python 3 (ipykernel)",
   "language": "python",
   "name": "python3"
  },
  "language_info": {
   "codemirror_mode": {
    "name": "ipython",
    "version": 3
   },
   "file_extension": ".py",
   "mimetype": "text/x-python",
   "name": "python",
   "nbconvert_exporter": "python",
   "pygments_lexer": "ipython3",
   "version": "3.11.4"
  }
 },
 "nbformat": 4,
 "nbformat_minor": 5
}
