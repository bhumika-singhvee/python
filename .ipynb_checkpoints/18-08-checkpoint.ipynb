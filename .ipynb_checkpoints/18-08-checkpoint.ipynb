{
 "cells": [
  {
   "cell_type": "code",
   "execution_count": 31,
   "id": "75ae4a2c",
   "metadata": {},
   "outputs": [
    {
     "name": "stdout",
     "output_type": "stream",
     "text": [
      "enter a string : hello\n",
      "new word hxzllxz\n"
     ]
    }
   ],
   "source": [
    "#q1\n",
    "string=input(\"enter a string : \")\n",
    "vowel='aeiou'\n",
    "empty=''\n",
    "for i in string:\n",
    "    if(i in vowel):\n",
    "        empty+='xz'\n",
    "    else:\n",
    "        empty+=i\n",
    "print(\"new word\",empty)        \n",
    "        \n",
    "        "
   ]
  },
  {
   "cell_type": "code",
   "execution_count": 30,
   "id": "426cb23d",
   "metadata": {},
   "outputs": [
    {
     "name": "stdout",
     "output_type": "stream",
     "text": [
      "ZYXW\n",
      " VUT\n",
      "  SR\n",
      "   Q\n"
     ]
    }
   ],
   "source": [
    "#q4\n",
    "start_value=90\n",
    "for i in range(4):\n",
    "    for j in range(i):\n",
    "        print(\" \",end=\"\")\n",
    "    for k in range(4-i):\n",
    "        print(chr(start_value),end=\"\")\n",
    "        start_value -=1\n",
    "    print( )    "
   ]
  },
  {
   "cell_type": "code",
   "execution_count": 5,
   "id": "ffde252b",
   "metadata": {},
   "outputs": [
    {
     "name": "stdout",
     "output_type": "stream",
     "text": [
      "enter a string : hello\n",
      "new word hello\n"
     ]
    }
   ],
   "source": [
    "string=input(\"enter a string : \")\n",
    "vowel='aeiou'\n",
    "empty=''\n",
    "for i in string:\n",
    "    if(i[0] is vowel):\n",
    "        empty[0]+=\"o\"\n",
    "    else:\n",
    "        empty+=i\n",
    "print(\"new word\",empty)  "
   ]
  },
  {
   "cell_type": "code",
   "execution_count": 11,
   "id": "bf19da4b",
   "metadata": {},
   "outputs": [],
   "source": [
    "def hello():\n",
    "    print(\"hello world\")\n",
    "    "
   ]
  },
  {
   "cell_type": "code",
   "execution_count": 12,
   "id": "e93cd16f",
   "metadata": {},
   "outputs": [
    {
     "name": "stdout",
     "output_type": "stream",
     "text": [
      "hello world\n"
     ]
    }
   ],
   "source": [
    "hello()\n",
    "\n",
    "\n",
    "\n",
    "\n",
    "\n",
    "\n",
    "\n",
    "\n",
    "\n",
    "\n",
    "\n",
    "\n",
    "\n",
    "\n",
    "\n",
    "\n",
    "\n",
    "\n",
    "\n",
    "\n",
    "\n",
    "\n",
    "\n",
    "\n",
    "\n",
    "\n",
    "\n",
    "\n",
    "\n",
    "\n",
    "\n",
    "\n"
   ]
  },
  {
   "cell_type": "code",
   "execution_count": 8,
   "id": "588c4bfa",
   "metadata": {},
   "outputs": [],
   "source": [
    "def hello(username,x):\n",
    "    print(\"username\",username,x)\n",
    "    "
   ]
  },
  {
   "cell_type": "code",
   "execution_count": 14,
   "id": "8b068ca0",
   "metadata": {},
   "outputs": [
    {
     "ename": "TypeError",
     "evalue": "hello() takes 0 positional arguments but 1 was given",
     "output_type": "error",
     "traceback": [
      "\u001b[1;31m---------------------------------------------------------------------------\u001b[0m",
      "\u001b[1;31mTypeError\u001b[0m                                 Traceback (most recent call last)",
      "Cell \u001b[1;32mIn[14], line 1\u001b[0m\n\u001b[1;32m----> 1\u001b[0m \u001b[43mhello\u001b[49m\u001b[43m(\u001b[49m\u001b[38;5;241;43m10\u001b[39;49m\u001b[43m)\u001b[49m\n",
      "\u001b[1;31mTypeError\u001b[0m: hello() takes 0 positional arguments but 1 was given"
     ]
    }
   ],
   "source": [
    "hello(10)"
   ]
  },
  {
   "cell_type": "code",
   "execution_count": 15,
   "id": "e39e1e5f",
   "metadata": {},
   "outputs": [],
   "source": [
    "def listupdate(x):\n",
    "    x[0]=99"
   ]
  },
  {
   "cell_type": "code",
   "execution_count": 16,
   "id": "519f9b15",
   "metadata": {},
   "outputs": [
    {
     "name": "stdout",
     "output_type": "stream",
     "text": [
      "[99, 20, 30]\n"
     ]
    }
   ],
   "source": [
    "list1=[10,20,30]\n",
    "listupdate(list1)\n",
    "print(list1)"
   ]
  },
  {
   "cell_type": "code",
   "execution_count": 17,
   "id": "e04c2f47",
   "metadata": {},
   "outputs": [],
   "source": [
    "def listupdate(a,b):\n",
    "    print(a,b)"
   ]
  },
  {
   "cell_type": "code",
   "execution_count": 18,
   "id": "51644802",
   "metadata": {},
   "outputs": [
    {
     "name": "stdout",
     "output_type": "stream",
     "text": [
      "10 20\n"
     ]
    }
   ],
   "source": [
    "listupdate(10,20)"
   ]
  },
  {
   "cell_type": "code",
   "execution_count": 26,
   "id": "bede9f9f",
   "metadata": {},
   "outputs": [],
   "source": [
    "def employe(*a):\n",
    "    print(a,type(a),a[-1])\n",
    "    "
   ]
  },
  {
   "cell_type": "code",
   "execution_count": 22,
   "id": "fa3a4145",
   "metadata": {},
   "outputs": [
    {
     "name": "stdout",
     "output_type": "stream",
     "text": [
      "()\n"
     ]
    }
   ],
   "source": [
    "employe()"
   ]
  },
  {
   "cell_type": "code",
   "execution_count": 27,
   "id": "8a79aa4f",
   "metadata": {},
   "outputs": [
    {
     "name": "stdout",
     "output_type": "stream",
     "text": [
      "(10, 20, 30, 'hello') <class 'tuple'> hello\n"
     ]
    }
   ],
   "source": [
    "employe(10,20,30,\"hello\")"
   ]
  },
  {
   "cell_type": "code",
   "execution_count": 28,
   "id": "4c01541c",
   "metadata": {},
   "outputs": [],
   "source": [
    "def employe(**x):\n",
    "    print(a,type(a),a)    \n",
    "    "
   ]
  },
  {
   "cell_type": "code",
   "execution_count": 29,
   "id": "e358faff",
   "metadata": {},
   "outputs": [],
   "source": [
    "def lcm(num1,num2):\n",
    "    if num1>num2:\n",
    "        greater=a\n",
    "            \n",
    "    else:\n",
    "        greater=b\n",
    "    print(greater)\n",
    "    \n",
    "    while(True):\n",
    "        if(greater%num1==0 and greater%num2==0):\n",
    "            print(\"lcm is greater\")\n",
    "        \n",
    "    \n",
    "    "
   ]
  },
  {
   "cell_type": "code",
   "execution_count": 30,
   "id": "e4c8a73b",
   "metadata": {},
   "outputs": [
    {
     "data": {
      "text/plain": [
       "100"
      ]
     },
     "execution_count": 30,
     "metadata": {},
     "output_type": "execute_result"
    }
   ],
   "source": [
    "out=lambda x:x**2\n",
    "out(10)"
   ]
  },
  {
   "cell_type": "code",
   "execution_count": 31,
   "id": "c3446375",
   "metadata": {},
   "outputs": [
    {
     "data": {
      "text/plain": [
       "100"
      ]
     },
     "execution_count": 31,
     "metadata": {},
     "output_type": "execute_result"
    }
   ],
   "source": [
    "(lambda x:x**2)(10)"
   ]
  },
  {
   "cell_type": "code",
   "execution_count": 32,
   "id": "2466bcd2",
   "metadata": {},
   "outputs": [],
   "source": [
    "def addnumber(x):\n",
    "    return x+5"
   ]
  },
  {
   "cell_type": "code",
   "execution_count": 34,
   "id": "529ad8fb",
   "metadata": {},
   "outputs": [
    {
     "data": {
      "text/plain": [
       "[15, 25, 35]"
      ]
     },
     "execution_count": 34,
     "metadata": {},
     "output_type": "execute_result"
    }
   ],
   "source": [
    "my=[10,20,30]\n",
    "list(map(addnumber,my))"
   ]
  },
  {
   "cell_type": "code",
   "execution_count": 36,
   "id": "b043abaf",
   "metadata": {},
   "outputs": [
    {
     "data": {
      "text/plain": [
       "[15, 25, 35]"
      ]
     },
     "execution_count": 36,
     "metadata": {},
     "output_type": "execute_result"
    }
   ],
   "source": [
    "list(map(lambda x: x+5,my))"
   ]
  },
  {
   "cell_type": "code",
   "execution_count": null,
   "id": "2376219b",
   "metadata": {},
   "outputs": [],
   "source": []
  }
 ],
 "metadata": {
  "kernelspec": {
   "display_name": "Python 3 (ipykernel)",
   "language": "python",
   "name": "python3"
  },
  "language_info": {
   "codemirror_mode": {
    "name": "ipython",
    "version": 3
   },
   "file_extension": ".py",
   "mimetype": "text/x-python",
   "name": "python",
   "nbconvert_exporter": "python",
   "pygments_lexer": "ipython3",
   "version": "3.10.11"
  }
 },
 "nbformat": 4,
 "nbformat_minor": 5
}
