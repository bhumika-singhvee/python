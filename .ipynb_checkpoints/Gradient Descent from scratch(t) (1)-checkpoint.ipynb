{
 "cells": [
  {
   "cell_type": "code",
   "execution_count": 1,
   "id": "4cc4f74d",
   "metadata": {},
   "outputs": [],
   "source": [
    "from sklearn.datasets import make_regression \n",
    "import numpy as np "
   ]
  },
  {
   "cell_type": "markdown",
   "id": "42d8edbb",
   "metadata": {},
   "source": [
    "# n_samples = 4: This specifies the number of samples (rows) in the dataset. In this case, the dataset will have four rows.\n",
    "\n",
    "\n",
    "n_features = 1: This specifies the number of features (columns) in the dataset. In this case, the dataset will have one feature column.\n",
    "\n",
    "\n",
    "\n",
    "n_informative = 1: This specifies the number of informative features in the dataset. Informative features are those that are used to generate the target variable. In this case, there is only one informative feature column.\n",
    "\n",
    "\n",
    "\n",
    "n_targets = 1: This specifies the number of target variables in the dataset. In this case, there is only one target variable.\n",
    "\n",
    "\n",
    "noise = 80: This specifies the amount of noise to add to the target variable. In this case, the noise level is quite high, as it is set to 80.\n",
    "\n",
    "\n",
    "\n",
    "random_state= 13: This sets the random seed for reproducibility of the generated dataset. Setting this parameter ensures that the same dataset can be generated again in the future if needed."
   ]
  },
  {
   "cell_type": "markdown",
   "id": "51cf8fd3",
   "metadata": {},
   "source": [
    "# What is random variaiton ? \n",
    "\n",
    "\n",
    "Random variation refers to the natural fluctuations or differences that occur in a system or process due to chance or randomness. These variations can be caused by a variety of factors, such as measurement errors, environmental conditions, or inherent randomness in the system itself.\n",
    "\n",
    "For example, let's say you flip a fair coin 10 times. Each time you flip the coin, there is a 50% chance of getting heads and a 50% chance of getting tails. However, due to random variation, you might not get exactly 5 heads and 5 tails every time you flip the coin. In fact, you might get 6 heads and 4 tails, or 4 heads and 6 tails, or even 7 heads and 3 tails. These random fluctuations in the results are an example of random variation.\n",
    "\n",
    "Random variation is an important concept in statistics and data analysis because it can affect the results of experiments or studies. By understanding and accounting for random variation, we can better estimate the true underlying relationships or patterns in the data and make more accurate conclusions."
   ]
  },
  {
   "cell_type": "markdown",
   "id": "f34838f9",
   "metadata": {},
   "source": [
    "# what is noise in data  ? \n",
    "\n",
    "In data analysis, noise refers to random variations or errors in the data that are not related to the underlying signal or phenomenon being measured. These random variations can be caused by a variety of factors, such as measurement errors, data collection errors, or natural variations in the data.\n",
    "\n",
    "Noise can be a problem in data analysis because it can obscure the true relationship between variables or make it harder to detect patterns in the data. In some cases, it may be possible to remove or reduce noise through data cleaning or filtering techniques. In other cases, it may be necessary to account for the noise in the analysis by using statistical methods or models that are robust to noise.\n",
    "\n",
    "In machine learning, adding noise to a dataset can be a way to simulate real-world data and improve the generalization performance of models. However, adding too much noise can also make it harder for models to learn the underlying patterns in the data, so it is important to strike a balance between noise and signal in the data."
   ]
  },
  {
   "cell_type": "code",
   "execution_count": 2,
   "id": "1bfaa478",
   "metadata": {},
   "outputs": [],
   "source": [
    "X,y = make_regression(n_samples = 4 , n_features = 1 , n_informative = 1 , n_targets = 1 , noise = 80, random_state= 13) "
   ]
  },
  {
   "cell_type": "code",
   "execution_count": 3,
   "id": "c714d9a4",
   "metadata": {},
   "outputs": [
    {
     "data": {
      "text/plain": [
       "<matplotlib.collections.PathCollection at 0x2a517763850>"
      ]
     },
     "execution_count": 3,
     "metadata": {},
     "output_type": "execute_result"
    },
    {
     "data": {
      "image/png": "[encoded data removed]",
      "text/plain": [
       "<Figure size 432x288 with 1 Axes>"
      ]
     },
     "metadata": {
      "needs_background": "light"
     },
     "output_type": "display_data"
    }
   ],
   "source": [
    "import matplotlib.pyplot as plt \n",
    "plt.scatter(X,y)"
   ]
  },
  {
   "cell_type": "code",
   "execution_count": 4,
   "id": "d85c51a5",
   "metadata": {},
   "outputs": [],
   "source": [
    "# let's apply OLS \n",
    "from sklearn.linear_model import LinearRegression "
   ]
  },
  {
   "cell_type": "code",
   "execution_count": 5,
   "id": "6784f678",
   "metadata": {},
   "outputs": [
    {
     "data": {
      "text/plain": [
       "LinearRegression()"
      ]
     },
     "execution_count": 5,
     "metadata": {},
     "output_type": "execute_result"
    }
   ],
   "source": [
    "reg = LinearRegression() \n",
    "reg.fit(X,y) "
   ]
  },
  {
   "cell_type": "markdown",
   "id": "a94372e5",
   "metadata": {},
   "source": [
    "# copy_X: This parameter specifies whether the data set, X, should be copied or not before fitting the linear regression model. By default, it is set to True, which means a copy of X will be created.\n",
    "\n",
    "fit_intercept: This parameter specifies whether to calculate the intercept for this model. It is set to True by default, which means that the intercept will be calculated.\n",
    "\n",
    "n_jobs: This parameter specifies the number of CPU cores to use for computation. By default, it is set to None, which means that the computation will be performed on a single core.\n",
    "\n",
    "normalize: This parameter specifies whether the independent variables, X, should be normalized before fitting the linear regression model. It is set to False by default, which means that the data will not be normalized.\n",
    "\n",
    "In summary, this code defines a Linear Regression model that will fit a straight line to a given set of data (X), and calculate the intercept and slope of the line to make predictions. The n_jobs parameter can be used to specify the number of CPU cores to use for computation, which can speed up the fitting process for large datasets.\n"
   ]
  },
  {
   "cell_type": "code",
   "execution_count": 6,
   "id": "d04d1e64",
   "metadata": {},
   "outputs": [
    {
     "data": {
      "text/plain": [
       "LinearRegression(normalize=False)"
      ]
     },
     "execution_count": 6,
     "metadata": {},
     "output_type": "execute_result"
    }
   ],
   "source": [
    "LinearRegression(copy_X = True , fit_intercept = True , n_jobs = None , normalize = False)"
   ]
  },
  {
   "cell_type": "code",
   "execution_count": 7,
   "id": "2c84d148",
   "metadata": {},
   "outputs": [
    {
     "data": {
      "text/plain": [
       "array([78.35063668])"
      ]
     },
     "execution_count": 7,
     "metadata": {},
     "output_type": "execute_result"
    }
   ],
   "source": [
    "reg.coef_   #m slope"
   ]
  },
  {
   "cell_type": "code",
   "execution_count": 8,
   "id": "bf59ce86",
   "metadata": {},
   "outputs": [
    {
     "data": {
      "text/plain": [
       "26.15963284313262"
      ]
     },
     "execution_count": 8,
     "metadata": {},
     "output_type": "execute_result"
    }
   ],
   "source": [
    "reg.intercept_     # b "
   ]
  },
  {
   "cell_type": "code",
   "execution_count": 9,
   "id": "a3e1d0ad",
   "metadata": {},
   "outputs": [
    {
     "data": {
      "text/plain": [
       "[<matplotlib.lines.Line2D at 0x2a517ad6d30>]"
      ]
     },
     "execution_count": 9,
     "metadata": {},
     "output_type": "execute_result"
    },
    {
     "data": {
      "image/png": "[encoded data removed]",
      "text/plain": [
       "<Figure size 432x288 with 1 Axes>"
      ]
     },
     "metadata": {
      "needs_background": "light"
     },
     "output_type": "display_data"
    }
   ],
   "source": [
    "plt.scatter(X,y) \n",
    "plt.plot(X, reg.predict(X) , color = 'red')"
   ]
  },
  {
   "cell_type": "code",
   "execution_count": 10,
   "id": "46221343",
   "metadata": {},
   "outputs": [],
   "source": [
    "# Let's apply Gradient Descent assuming slope is constant = 78.35 \n",
    "# and let's assume the starting value for intercept  b = 0 \n",
    "y_pred = ((78.35*X)+0).reshape(4) #y = m*x+b "
   ]
  },
  {
   "cell_type": "code",
   "execution_count": 11,
   "id": "4ff66e70",
   "metadata": {},
   "outputs": [
    {
     "data": {
      "image/png": "[encoded data removed]",
      "text/plain": [
       "<Figure size 432x288 with 1 Axes>"
      ]
     },
     "metadata": {
      "needs_background": "light"
     },
     "output_type": "display_data"
    }
   ],
   "source": [
    "plt.scatter(X,y) \n",
    "plt.plot(X , reg.predict(X) , color = 'red' , label = 'OLS')\n",
    "plt.plot(X,y_pred , color = \"green\" , label = 'b = 0')\n",
    "plt.legend() \n",
    "plt.show() "
   ]
  },
  {
   "cell_type": "markdown",
   "id": "e3d3a2bf",
   "metadata": {},
   "source": [
    "# ravel() is a function in NumPy that returns a flattened array, i.e., it returns a contiguous flattened array in row-major (C-style) order. In other words, it returns a 1D array by flattening the input array, whether it is a multi-dimensional array or a one-dimensional array."
   ]
  },
  {
   "cell_type": "code",
   "execution_count": 12,
   "id": "8068569b",
   "metadata": {},
   "outputs": [
    {
     "name": "stdout",
     "output_type": "stream",
     "text": [
      "[[1 2 3]\n",
      " [4 5 6]]\n",
      "[1 2 3 4 5 6]\n"
     ]
    }
   ],
   "source": [
    "import numpy as np\n",
    "\n",
    "arr = np.array([[1, 2, 3], [4, 5, 6]])\n",
    "\n",
    "# using ravel() function to flatten the array\n",
    "flattened_arr = arr.ravel()\n",
    "\n",
    "print(arr)\n",
    "# Output: [[1 2 3]\n",
    "#          [4 5 6]]\n",
    "\n",
    "print(flattened_arr)\n",
    "# Output: [1 2 3 4 5 6]\n"
   ]
  },
  {
   "cell_type": "code",
   "execution_count": 13,
   "id": "776ec70a",
   "metadata": {},
   "outputs": [
    {
     "data": {
      "text/plain": [
       "-209.27763408209216"
      ]
     },
     "execution_count": 13,
     "metadata": {},
     "output_type": "execute_result"
    }
   ],
   "source": [
    "m = 78.35 \n",
    "b = 0 \n",
    "loss_slope = -2*np.sum(y - m*X.ravel()-b)\n",
    "loss_slope"
   ]
  },
  {
   "cell_type": "code",
   "execution_count": 14,
   "id": "6f543327",
   "metadata": {},
   "outputs": [
    {
     "data": {
      "text/plain": [
       "-20.927763408209216"
      ]
     },
     "execution_count": 14,
     "metadata": {},
     "output_type": "execute_result"
    }
   ],
   "source": [
    "# Let's taKe learning rate  = 0.1 \n",
    "\n",
    "lr = 0.1 \n",
    "step_size = loss_slope*lr \n",
    "step_size"
   ]
  },
  {
   "cell_type": "code",
   "execution_count": 15,
   "id": "ace717ed",
   "metadata": {},
   "outputs": [
    {
     "data": {
      "text/plain": [
       "20.927763408209216"
      ]
     },
     "execution_count": 15,
     "metadata": {},
     "output_type": "execute_result"
    }
   ],
   "source": [
    "# Calculating the new intercept \n",
    "b = b-step_size \n",
    "b"
   ]
  },
  {
   "cell_type": "code",
   "execution_count": 16,
   "id": "b6b58b2a",
   "metadata": {},
   "outputs": [
    {
     "data": {
      "image/png": "[encoded data removed]",
      "text/plain": [
       "<Figure size 432x288 with 1 Axes>"
      ]
     },
     "metadata": {
      "needs_background": "light"
     },
     "output_type": "display_data"
    }
   ],
   "source": [
    "y_pred1 = ((78.35*X)+b).reshape(4)\n",
    "\n",
    "plt.scatter(X,y)\n",
    "plt.plot(X , reg.predict(X) , color = 'black' , label = 'OLS')\n",
    "plt.plot(X , y_pred1 , color = 'red' , label = 'b = {}'.format(b))\n",
    "plt.plot(X,y_pred , color = 'yellow' , label = 'b = 0') \n",
    "plt.legend() \n",
    "plt.show() "
   ]
  },
  {
   "cell_type": "code",
   "execution_count": 17,
   "id": "4ac2b303",
   "metadata": {},
   "outputs": [
    {
     "data": {
      "text/plain": [
       "-41.85552681641843"
      ]
     },
     "execution_count": 17,
     "metadata": {},
     "output_type": "execute_result"
    }
   ],
   "source": [
    "#Iteration -2 \n",
    "\n",
    "loss_slope = -2*np.sum(y - m*X.ravel() - b) \n",
    "loss_slope"
   ]
  },
  {
   "cell_type": "code",
   "execution_count": 18,
   "id": "8169e5c1",
   "metadata": {},
   "outputs": [
    {
     "data": {
      "text/plain": [
       "-4.185552681641844"
      ]
     },
     "execution_count": 18,
     "metadata": {},
     "output_type": "execute_result"
    }
   ],
   "source": [
    "step_size = loss_slope*lr \n",
    "step_size"
   ]
  },
  {
   "cell_type": "code",
   "execution_count": 19,
   "id": "c95c4a86",
   "metadata": {},
   "outputs": [
    {
     "data": {
      "text/plain": [
       "25.11331608985106"
      ]
     },
     "execution_count": 19,
     "metadata": {},
     "output_type": "execute_result"
    }
   ],
   "source": [
    "b = b - step_size \n",
    "b "
   ]
  },
  {
   "cell_type": "code",
   "execution_count": 20,
   "id": "f56fbcb4",
   "metadata": {},
   "outputs": [
    {
     "data": {
      "image/png": "[encoded data removed]",
      "text/plain": [
       "<Figure size 432x288 with 1 Axes>"
      ]
     },
     "metadata": {
      "needs_background": "light"
     },
     "output_type": "display_data"
    }
   ],
   "source": [
    "y_pred2 = ((78.35*X)+b).reshape(4) \n",
    "\n",
    "plt.scatter(X,y) \n",
    "plt.plot(X , reg.predict(X) , color = 'red' , label = 'OLS')\n",
    "plt.plot(X , y_pred2 , color = 'green' , label = 'b = {}'.format(b)) \n",
    "plt.plot(X , y_pred1 , color = 'blue' , label = 'b = {}'.format(b))\n",
    "plt.plot(X , y_pred , color = 'yellow' , label = 'b=  0')\n",
    "plt.legend() \n",
    "plt.show() "
   ]
  },
  {
   "cell_type": "code",
   "execution_count": 21,
   "id": "e86978b4",
   "metadata": {},
   "outputs": [
    {
     "data": {
      "text/plain": [
       "-8.371105363283675"
      ]
     },
     "execution_count": 21,
     "metadata": {},
     "output_type": "execute_result"
    }
   ],
   "source": [
    "# Iteration - 3 \n",
    "\n",
    "loss_slope = -2*np.sum(y - m*X.ravel() - b) \n",
    "loss_slope "
   ]
  },
  {
   "cell_type": "code",
   "execution_count": 22,
   "id": "6df3e2f7",
   "metadata": {},
   "outputs": [
    {
     "data": {
      "text/plain": [
       "-0.8371105363283675"
      ]
     },
     "execution_count": 22,
     "metadata": {},
     "output_type": "execute_result"
    }
   ],
   "source": [
    "step_size = loss_slope*lr \n",
    "step_size"
   ]
  },
  {
   "cell_type": "code",
   "execution_count": 23,
   "id": "384dd982",
   "metadata": {},
   "outputs": [
    {
     "data": {
      "text/plain": [
       "25.95042662617943"
      ]
     },
     "execution_count": 23,
     "metadata": {},
     "output_type": "execute_result"
    }
   ],
   "source": [
    "b = b - step_size \n",
    "b"
   ]
  },
  {
   "cell_type": "code",
   "execution_count": 24,
   "id": "ddc9a996",
   "metadata": {},
   "outputs": [
    {
     "data": {
      "image/png": "[encoded data removed]",
      "text/plain": [
       "<Figure size 432x288 with 1 Axes>"
      ]
     },
     "metadata": {
      "needs_background": "light"
     },
     "output_type": "display_data"
    }
   ],
   "source": [
    "y_pred3 = ((78.35*X)+ b).reshape(4) \n",
    "\n",
    "plt.scatter(X,y) \n",
    "plt.plot(X , reg.predict(X) , color = 'red' , label = 'OLS')\n",
    "plt.plot(X , y_pred3 , color = 'brown' , label = 'OLS')\n",
    "plt.plot(X , y_pred2 , color = 'green' , label = 'b = {}'.format(b)) \n",
    "plt.plot(X , y_pred1 , color = 'blue' , label = 'b = {}'.format(b))\n",
    "plt.plot(X , y_pred , color = 'yellow' , label = 'b=  0')\n",
    "plt.legend() \n",
    "plt.show() "
   ]
  },
  {
   "cell_type": "code",
   "execution_count": 25,
   "id": "f9d5379c",
   "metadata": {},
   "outputs": [],
   "source": [
    "# Example  \n",
    "\n",
    "# ifi have b = 100 randomly "
   ]
  },
  {
   "cell_type": "code",
   "execution_count": 26,
   "id": "515c7917",
   "metadata": {},
   "outputs": [],
   "source": [
    "# Let's apply Gradient Descent assuming slope is constant = 78.35 \n",
    "# and let's assume the starting value for intercept  b = 100 \n",
    "y_pred = ((78.35*X)+100).reshape(4) \n"
   ]
  },
  {
   "cell_type": "code",
   "execution_count": 27,
   "id": "db7e8b77",
   "metadata": {},
   "outputs": [
    {
     "data": {
      "image/png": "[encoded data removed]",
      "text/plain": [
       "<Figure size 432x288 with 1 Axes>"
      ]
     },
     "metadata": {
      "needs_background": "light"
     },
     "output_type": "display_data"
    }
   ],
   "source": [
    "plt.scatter(X,y) \n",
    "plt.plot(X , reg.predict(X) , color = 'red' , label = 'OLS')\n",
    "plt.plot(X,y_pred , color = \"green\" , label = 'b = 100')\n",
    "plt.legend() \n",
    "plt.show() "
   ]
  },
  {
   "cell_type": "code",
   "execution_count": 28,
   "id": "4e523538",
   "metadata": {},
   "outputs": [
    {
     "data": {
      "text/plain": [
       "590.7223659179078"
      ]
     },
     "execution_count": 28,
     "metadata": {},
     "output_type": "execute_result"
    }
   ],
   "source": [
    "m = 78.35 \n",
    "b = 100 \n",
    "loss_slope = -2*np.sum(y - m*X.ravel()-b)\n",
    "loss_slope"
   ]
  },
  {
   "cell_type": "code",
   "execution_count": 29,
   "id": "0b129e08",
   "metadata": {},
   "outputs": [
    {
     "data": {
      "text/plain": [
       "59.072236591790784"
      ]
     },
     "execution_count": 29,
     "metadata": {},
     "output_type": "execute_result"
    }
   ],
   "source": [
    "# Let's taKe learning rate  = 0.1 \n",
    "\n",
    "lr = 0.1 \n",
    "step_size = loss_slope*lr \n",
    "step_size"
   ]
  },
  {
   "cell_type": "code",
   "execution_count": 30,
   "id": "743ac0a6",
   "metadata": {},
   "outputs": [
    {
     "data": {
      "text/plain": [
       "40.927763408209216"
      ]
     },
     "execution_count": 30,
     "metadata": {},
     "output_type": "execute_result"
    }
   ],
   "source": [
    "# Calculating the new intercept \n",
    "b = b-step_size \n",
    "b"
   ]
  },
  {
   "cell_type": "code",
   "execution_count": 31,
   "id": "813611e5",
   "metadata": {},
   "outputs": [
    {
     "data": {
      "image/png": "[encoded data removed]",
      "text/plain": [
       "<Figure size 432x288 with 1 Axes>"
      ]
     },
     "metadata": {
      "needs_background": "light"
     },
     "output_type": "display_data"
    }
   ],
   "source": [
    "y_pred1 = ((78.35*X)+b).reshape(4)\n",
    "\n",
    "plt.scatter(X,y)\n",
    "plt.plot(X , reg.predict(X) , color = 'black' , label = 'OLS')\n",
    "plt.plot(X , y_pred1 , color = 'red' , label = 'b = {}'.format(b))\n",
    "plt.plot(X,y_pred , color = 'yellow' , label = 'b = 100') \n",
    "plt.legend() \n",
    "plt.show() "
   ]
  },
  {
   "cell_type": "code",
   "execution_count": 32,
   "id": "6e0f4381",
   "metadata": {},
   "outputs": [
    {
     "data": {
      "text/plain": [
       "118.14447318358157"
      ]
     },
     "execution_count": 32,
     "metadata": {},
     "output_type": "execute_result"
    }
   ],
   "source": [
    "#Iteration -2 \n",
    "\n",
    "loss_slope = -2*np.sum(y - m*X.ravel() - b) \n",
    "loss_slope"
   ]
  },
  {
   "cell_type": "code",
   "execution_count": 33,
   "id": "10bab870",
   "metadata": {},
   "outputs": [
    {
     "data": {
      "text/plain": [
       "11.814447318358157"
      ]
     },
     "execution_count": 33,
     "metadata": {},
     "output_type": "execute_result"
    }
   ],
   "source": [
    "step_size = loss_slope*lr \n",
    "step_size"
   ]
  },
  {
   "cell_type": "code",
   "execution_count": 34,
   "id": "1ace46ad",
   "metadata": {},
   "outputs": [
    {
     "data": {
      "text/plain": [
       "29.11331608985106"
      ]
     },
     "execution_count": 34,
     "metadata": {},
     "output_type": "execute_result"
    }
   ],
   "source": [
    "b = b - step_size \n",
    "b "
   ]
  },
  {
   "cell_type": "code",
   "execution_count": 35,
   "id": "dc5e9ab6",
   "metadata": {},
   "outputs": [
    {
     "data": {
      "image/png": "[encoded data removed]",
      "text/plain": [
       "<Figure size 432x288 with 1 Axes>"
      ]
     },
     "metadata": {
      "needs_background": "light"
     },
     "output_type": "display_data"
    }
   ],
   "source": [
    "y_pred2 = ((78.35*X)+b).reshape(4) \n",
    "\n",
    "plt.scatter(X,y) \n",
    "plt.plot(X , reg.predict(X) , color = 'red' , label = 'OLS')\n",
    "plt.plot(X , y_pred2 , color = 'green' , label = 'b = {}'.format(b)) \n",
    "plt.plot(X , y_pred1 , color = 'blue' , label = 'b = {}'.format(b))\n",
    "plt.plot(X , y_pred , color = 'yellow' , label = 'b=  100')\n",
    "plt.legend() \n",
    "plt.show() "
   ]
  },
  {
   "cell_type": "code",
   "execution_count": 36,
   "id": "eeb7c029",
   "metadata": {},
   "outputs": [
    {
     "data": {
      "text/plain": [
       "23.62889463671634"
      ]
     },
     "execution_count": 36,
     "metadata": {},
     "output_type": "execute_result"
    }
   ],
   "source": [
    "# Iteration - 3 \n",
    "\n",
    "loss_slope = -2*np.sum(y - m*X.ravel() - b) \n",
    "loss_slope "
   ]
  },
  {
   "cell_type": "code",
   "execution_count": 37,
   "id": "76c67dc7",
   "metadata": {},
   "outputs": [
    {
     "data": {
      "text/plain": [
       "2.362889463671634"
      ]
     },
     "execution_count": 37,
     "metadata": {},
     "output_type": "execute_result"
    }
   ],
   "source": [
    "step_size = loss_slope*lr \n",
    "step_size"
   ]
  },
  {
   "cell_type": "code",
   "execution_count": 38,
   "id": "d0042e86",
   "metadata": {},
   "outputs": [
    {
     "data": {
      "text/plain": [
       "26.750426626179426"
      ]
     },
     "execution_count": 38,
     "metadata": {},
     "output_type": "execute_result"
    }
   ],
   "source": [
    "b = b - step_size \n",
    "b"
   ]
  },
  {
   "cell_type": "code",
   "execution_count": 39,
   "id": "dc9a3dfa",
   "metadata": {},
   "outputs": [
    {
     "data": {
      "image/png": "[encoded data removed]",
      "text/plain": [
       "<Figure size 432x288 with 1 Axes>"
      ]
     },
     "metadata": {
      "needs_background": "light"
     },
     "output_type": "display_data"
    }
   ],
   "source": [
    "y_pred3 = ((78.35*X)+ b).reshape(4) \n",
    "\n",
    "plt.scatter(X,y) \n",
    "plt.plot(X , reg.predict(X) , color = 'red' , label = 'OLS')\n",
    "plt.plot(X , y_pred3 , color = 'brown' , label = 'OLS')\n",
    "plt.plot(X , y_pred2 , color = 'green' , label = 'b = {}'.format(b)) \n",
    "plt.plot(X , y_pred1 , color = 'blue' , label = 'b = {}'.format(b))\n",
    "plt.plot(X , y_pred , color = 'yellow' , label = 'b=  100')\n",
    "plt.legend() \n",
    "plt.show() "
   ]
  },
  {
   "cell_type": "markdown",
   "id": "dff30b42",
   "metadata": {},
   "source": [
    "# Now we use epochs "
   ]
  },
  {
   "cell_type": "code",
   "execution_count": 40,
   "id": "755ff5e8",
   "metadata": {},
   "outputs": [
    {
     "data": {
      "text/plain": [
       "<matplotlib.collections.PathCollection at 0x2a517f69640>"
      ]
     },
     "execution_count": 40,
     "metadata": {},
     "output_type": "execute_result"
    },
    {
     "data": {
      "image/png": "[encoded data removed]",
      "text/plain": [
       "<Figure size 432x288 with 1 Axes>"
      ]
     },
     "metadata": {
      "needs_background": "light"
     },
     "output_type": "display_data"
    }
   ],
   "source": [
    "b = -100 \n",
    "m = 78.35 \n",
    "lr = 0.1 \n",
    "\n",
    "epochs = 10 \n",
    "for i in range(epochs):\n",
    "    loss_slope = -2*np.sum(y - m*X.ravel() - b) \n",
    "    b = b - (lr* loss_slope)\n",
    "    \n",
    "    y_pred = m*X+b \n",
    "    plt.plot(X , y_pred) \n",
    "    \n",
    "plt.scatter(X,y)"
   ]
  },
  {
   "cell_type": "code",
   "execution_count": 41,
   "id": "6763dfb5",
   "metadata": {},
   "outputs": [],
   "source": [
    "# now we slow intercept and increase epochs"
   ]
  },
  {
   "cell_type": "code",
   "execution_count": 42,
   "id": "31a82e14",
   "metadata": {},
   "outputs": [
    {
     "data": {
      "text/plain": [
       "<matplotlib.collections.PathCollection at 0x2a5180c6a90>"
      ]
     },
     "execution_count": 42,
     "metadata": {},
     "output_type": "execute_result"
    },
    {
     "data": {
      "image/png": "[encoded data removed]",
      "text/plain": [
       "<Figure size 432x288 with 1 Axes>"
      ]
     },
     "metadata": {
      "needs_background": "light"
     },
     "output_type": "display_data"
    }
   ],
   "source": [
    "b = -100 \n",
    "m = 78.35 \n",
    "lr = 0.01 \n",
    "\n",
    "epochs = 100 \n",
    "for i in range(epochs):\n",
    "    loss_slope = -2*np.sum(y - m*X.ravel() - b) \n",
    "    b = b - (lr* loss_slope)\n",
    "    \n",
    "    y_pred = m*X+b \n",
    "    plt.plot(X , y_pred) \n",
    "    \n",
    "plt.scatter(X,y)"
   ]
  },
  {
   "cell_type": "markdown",
   "id": "25c7725d",
   "metadata": {},
   "source": [
    "# Now we create Class of Gradient Descent for all data"
   ]
  },
  {
   "cell_type": "code",
   "execution_count": 43,
   "id": "8e6e033e",
   "metadata": {},
   "outputs": [],
   "source": [
    "from sklearn.datasets import make_regression \n",
    "import matplotlib.pyplot as plt \n",
    "import numpy as np "
   ]
  },
  {
   "cell_type": "code",
   "execution_count": 44,
   "id": "93c7b67b",
   "metadata": {},
   "outputs": [],
   "source": [
    "X,y = make_regression(n_samples = 100 , n_features = 1 , n_informative = 1 , n_targets = 1 , noise = 20) \n"
   ]
  },
  {
   "cell_type": "code",
   "execution_count": 45,
   "id": "d06a2dfc",
   "metadata": {},
   "outputs": [
    {
     "data": {
      "text/plain": [
       "<matplotlib.collections.PathCollection at 0x2a518153f70>"
      ]
     },
     "execution_count": 45,
     "metadata": {},
     "output_type": "execute_result"
    },
    {
     "data": {
      "image/png": "[encoded data removed]",
      "text/plain": [
       "<Figure size 432x288 with 1 Axes>"
      ]
     },
     "metadata": {
      "needs_background": "light"
     },
     "output_type": "display_data"
    }
   ],
   "source": [
    "plt.scatter(X,y) "
   ]
  },
  {
   "cell_type": "code",
   "execution_count": 46,
   "id": "c069e301",
   "metadata": {},
   "outputs": [],
   "source": [
    "from sklearn.linear_model import LinearRegression "
   ]
  },
  {
   "cell_type": "code",
   "execution_count": 47,
   "id": "06dba9ab",
   "metadata": {},
   "outputs": [],
   "source": [
    "lr = LinearRegression() "
   ]
  },
  {
   "cell_type": "code",
   "execution_count": 48,
   "id": "84ea0e9d",
   "metadata": {},
   "outputs": [
    {
     "name": "stdout",
     "output_type": "stream",
     "text": [
      "[27.21025146]\n",
      "2.980282741525339\n"
     ]
    }
   ],
   "source": [
    "lr.fit(X,y) \n",
    "print(lr.coef_) \n",
    "print(lr.intercept_)"
   ]
  },
  {
   "cell_type": "code",
   "execution_count": 49,
   "id": "784cf418",
   "metadata": {},
   "outputs": [],
   "source": [
    "m = 15.62"
   ]
  },
  {
   "cell_type": "code",
   "execution_count": 50,
   "id": "48309292",
   "metadata": {},
   "outputs": [],
   "source": [
    "class GDRegressor:\n",
    "    \n",
    "    def __init__(self , learning_rate , epochs):\n",
    "        self.m = 27.21\n",
    "        self.b = 0   # starting i am take this value as 0 \n",
    "        self.lr = learning_rate \n",
    "        self.epochs = epochs \n",
    "        \n",
    "    def fit(self,X,y):\n",
    "        #Calculate the b using GD \n",
    "        for i in range(self.epochs):\n",
    "            loss_slope = -2*np.sum(y - self.m*X.ravel()-self.b)\n",
    "            self.b = self.b - (self.lr * loss_slope)\n",
    "#             print(loss_slope , self.b) \n",
    "        print(self.b)\n",
    "            \n",
    "\n",
    "        "
   ]
  },
  {
   "cell_type": "code",
   "execution_count": 51,
   "id": "53f8a98d",
   "metadata": {},
   "outputs": [],
   "source": [
    "gd  =GDRegressor(0.001 , 100)   # check learning rate and epochs\n"
   ]
  },
  {
   "cell_type": "code",
   "execution_count": 52,
   "id": "e7af20d9",
   "metadata": {},
   "outputs": [
    {
     "name": "stdout",
     "output_type": "stream",
     "text": [
      "2.049260330023255\n"
     ]
    }
   ],
   "source": [
    "gd.fit(X,y) "
   ]
  },
  {
   "cell_type": "markdown",
   "id": "3fb6f5bf",
   "metadata": {},
   "source": [
    "# Now this time to check both on m and b "
   ]
  },
  {
   "cell_type": "code",
   "execution_count": 53,
   "id": "2cca49f5",
   "metadata": {},
   "outputs": [],
   "source": [
    "from sklearn.datasets import make_regression \n",
    "import matplotlib.pyplot as plt \n",
    "import numpy as np \n",
    "from sklearn.model_selection import cross_val_score"
   ]
  },
  {
   "cell_type": "code",
   "execution_count": 54,
   "id": "4f3c6bed",
   "metadata": {},
   "outputs": [],
   "source": [
    "X,y = make_regression(n_samples = 100 , n_features = 1 ,\n",
    "                      n_informative = 1 , n_targets = 1 , noise = 20 , random_state = 13)"
   ]
  },
  {
   "cell_type": "code",
   "execution_count": 55,
   "id": "890de82e",
   "metadata": {},
   "outputs": [
    {
     "data": {
      "text/plain": [
       "<matplotlib.collections.PathCollection at 0x2a517eba610>"
      ]
     },
     "execution_count": 55,
     "metadata": {},
     "output_type": "execute_result"
    },
    {
     "data": {
      "image/png": "[encoded data removed]",
      "text/plain": [
       "<Figure size 432x288 with 1 Axes>"
      ]
     },
     "metadata": {
      "needs_background": "light"
     },
     "output_type": "display_data"
    }
   ],
   "source": [
    "plt.scatter(X,y) "
   ]
  },
  {
   "cell_type": "code",
   "execution_count": 56,
   "id": "75f1f36d",
   "metadata": {},
   "outputs": [],
   "source": [
    "from sklearn.model_selection import train_test_split \n",
    "X_train , X_test  ,y_train , y_test = train_test_split(X,y,test_size = 0.2 , random_state=2)"
   ]
  },
  {
   "cell_type": "code",
   "execution_count": null,
   "id": "f360eed8",
   "metadata": {},
   "outputs": [],
   "source": []
  },
  {
   "cell_type": "code",
   "execution_count": 57,
   "id": "66489552",
   "metadata": {},
   "outputs": [],
   "source": [
    "lr = LinearRegression() "
   ]
  },
  {
   "cell_type": "code",
   "execution_count": 58,
   "id": "0d3c8ebf",
   "metadata": {},
   "outputs": [
    {
     "name": "stdout",
     "output_type": "stream",
     "text": [
      "[28.12597332]\n",
      "-2.271014426178382\n"
     ]
    }
   ],
   "source": [
    "lr.fit(X_train,y_train) \n",
    "print(lr.coef_) \n",
    "print(lr.intercept_) "
   ]
  },
  {
   "cell_type": "code",
   "execution_count": 59,
   "id": "35942d33",
   "metadata": {},
   "outputs": [
    {
     "data": {
      "text/plain": [
       "0.6345158782661013"
      ]
     },
     "execution_count": 59,
     "metadata": {},
     "output_type": "execute_result"
    }
   ],
   "source": [
    "# np.mean(cross_val_score(lr , X,y, scoring ='r2' , cv = 10 ))\n",
    "\n",
    "\n",
    "y_pred = lr.predict(X_test) \n",
    "from sklearn.metrics import r2_score \n",
    "r2_score(y_test , y_pred) "
   ]
  },
  {
   "cell_type": "code",
   "execution_count": 60,
   "id": "f65532f7",
   "metadata": {},
   "outputs": [],
   "source": [
    "class GDRegressor : \n",
    "    \n",
    "    def __init__(self , learning_rate , epochs):\n",
    "        self.m = 100   # we can start any number as like m = 0 \n",
    "        self.b = -120  # we can start any number as like b = 1 \n",
    "        self.lr = learning_rate \n",
    "        self.epochs = epochs \n",
    "        \n",
    "    def fit(self , X,y):\n",
    "        #Calculate the b using GD \n",
    "        for i in range(self.epochs):\n",
    "            loss_slope_b = -2*np.sum(y - self.m*X.ravel() - self.b)\n",
    "            loss_slope_m = -2*np.sum((y - self.m*X.ravel() - self.b)*X.ravel())  \n",
    "            \n",
    "            self.b = self.b - (self.lr * loss_slope_b)\n",
    "            self.m = self.m - (self.lr * loss_slope_m) \n",
    "        print(self.b , self.m)  \n",
    "        \n",
    "    def predict(self , X):\n",
    "        return self.m * X + self.b \n",
    "        "
   ]
  },
  {
   "cell_type": "code",
   "execution_count": 61,
   "id": "3e6df76c",
   "metadata": {},
   "outputs": [],
   "source": [
    "gd = GDRegressor(0.001 , 100)"
   ]
  },
  {
   "cell_type": "code",
   "execution_count": 62,
   "id": "de1b2b6a",
   "metadata": {},
   "outputs": [
    {
     "name": "stdout",
     "output_type": "stream",
     "text": [
      "-2.2710234077993587 28.12598618006269\n"
     ]
    }
   ],
   "source": [
    "gd.fit(X_train,y_train) "
   ]
  },
  {
   "cell_type": "code",
   "execution_count": 63,
   "id": "3afa2b9c",
   "metadata": {},
   "outputs": [],
   "source": [
    "# gd.predict(X)"
   ]
  },
  {
   "cell_type": "code",
   "execution_count": 64,
   "id": "1a0a629f",
   "metadata": {},
   "outputs": [
    {
     "data": {
      "text/plain": [
       "0.634515826773629"
      ]
     },
     "execution_count": 64,
     "metadata": {},
     "output_type": "execute_result"
    }
   ],
   "source": [
    "y_pred = gd.predict(X_test) \n",
    "from sklearn.metrics import r2_score \n",
    "r2_score(y_test , y_pred)"
   ]
  },
  {
   "cell_type": "code",
   "execution_count": null,
   "id": "98556db0",
   "metadata": {},
   "outputs": [],
   "source": []
  }
 ],
 "metadata": {
  "kernelspec": {
   "display_name": "Python 3 (ipykernel)",
   "language": "python",
   "name": "python3"
  },
  "language_info": {
   "codemirror_mode": {
    "name": "ipython",
    "version": 3
   },
   "file_extension": ".py",
   "mimetype": "text/x-python",
   "name": "python",
   "nbconvert_exporter": "python",
   "pygments_lexer": "ipython3",
   "version": "3.9.12"
  }
 },
 "nbformat": 4,
 "nbformat_minor": 5
}
