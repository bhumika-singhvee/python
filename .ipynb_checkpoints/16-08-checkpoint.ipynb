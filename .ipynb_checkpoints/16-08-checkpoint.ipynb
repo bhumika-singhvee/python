{
 "cells": [
  {
   "cell_type": "code",
   "execution_count": null,
   "id": "49007609",
   "metadata": {},
   "outputs": [],
   "source": [
    "a=[10,20,\"hii\",\"bye\"]\n",
    "i=0\n",
    "s=[]\n",
    "while(i<len(a)):\n",
    "    if(type(i) is str):\n",
    "        print(i ,i[1:])\n",
    "        \n",
    "        \n",
    "        \n",
    "        "
   ]
  },
  {
   "cell_type": "code",
   "execution_count": null,
   "id": "f649ebd6",
   "metadata": {},
   "outputs": [],
   "source": [
    "a=10,20,50,60,56,30,\"hii\"\n",
    "b=[]\n",
    "c=[]\n",
    "for i in a:\n",
    "    if(type(i) is int):\n",
    "        if(i%2==0 and i%3==0):\n",
    "            b.append(i)\n",
    "        else:\n",
    "            c.append(i)\n",
    "print(b)\n",
    "print(c)\n",
    "            \n",
    "            "
   ]
  },
  {
   "cell_type": "code",
   "execution_count": null,
   "id": "7e28663e",
   "metadata": {},
   "outputs": [],
   "source": []
  }
 ],
 "metadata": {
  "kernelspec": {
   "display_name": "Python 3 (ipykernel)",
   "language": "python",
   "name": "python3"
  },
  "language_info": {
   "codemirror_mode": {
    "name": "ipython",
    "version": 3
   },
   "file_extension": ".py",
   "mimetype": "text/x-python",
   "name": "python",
   "nbconvert_exporter": "python",
   "pygments_lexer": "ipython3",
   "version": "3.10.11"
  }
 },
 "nbformat": 4,
 "nbformat_minor": 5
}
