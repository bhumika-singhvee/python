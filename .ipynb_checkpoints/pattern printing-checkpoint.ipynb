{
 "cells": [
  {
   "cell_type": "code",
   "execution_count": 11,
   "id": "de308138",
   "metadata": {},
   "outputs": [
    {
     "name": "stdout",
     "output_type": "stream",
     "text": [
      "0 0 0 0 0 \n",
      "\n",
      "1 1 1 1 1 \n",
      "\n",
      "2 2 2 2 2 \n",
      "\n",
      "3 3 3 3 3 \n",
      "\n",
      "4 4 4 4 4 \n",
      "\n"
     ]
    }
   ],
   "source": [
    "for i in range(0,5):\n",
    "    for j in range(0,5):\n",
    "        print(i,end=\" \")\n",
    "    print(\"\\n\")"
   ]
  },
  {
   "cell_type": "code",
   "execution_count": 13,
   "id": "404d3b82",
   "metadata": {},
   "outputs": [
    {
     "name": "stdout",
     "output_type": "stream",
     "text": [
      "* * * * * \n",
      "\n",
      "* * * * * \n",
      "\n",
      "* * * * * \n",
      "\n",
      "* * * * * \n",
      "\n",
      "* * * * * \n",
      "\n"
     ]
    }
   ],
   "source": [
    "for i in range(0,5):\n",
    "    for j in range(0,5):\n",
    "        print(\"*\",end=\" \")\n",
    "    print(\"\\n\")"
   ]
  },
  {
   "cell_type": "code",
   "execution_count": 15,
   "id": "55e9f682",
   "metadata": {},
   "outputs": [
    {
     "name": "stdout",
     "output_type": "stream",
     "text": [
      "\n",
      "\n",
      "* \n",
      "\n",
      "* * \n",
      "\n",
      "* * * \n",
      "\n",
      "* * * * \n",
      "\n"
     ]
    }
   ],
   "source": [
    "for i in range(0,5):\n",
    "    for j in range(0,i):\n",
    "        print(\"*\",end=\" \")\n",
    "    print(\"\\n\")"
   ]
  },
  {
   "cell_type": "code",
   "execution_count": 17,
   "id": "90f53b58",
   "metadata": {},
   "outputs": [
    {
     "name": "stdout",
     "output_type": "stream",
     "text": [
      "\n",
      "\n",
      "1 \n",
      "\n",
      "2 2 \n",
      "\n",
      "3 3 3 \n",
      "\n",
      "4 4 4 4 \n",
      "\n"
     ]
    }
   ],
   "source": [
    "for i in range(0,5):\n",
    "    for j in range(0,i):\n",
    "        print(i,end=\" \")\n",
    "    print(\"\\n\")"
   ]
  },
  {
   "cell_type": "code",
   "execution_count": 24,
   "id": "2d7406dc",
   "metadata": {},
   "outputs": [
    {
     "name": "stdout",
     "output_type": "stream",
     "text": [
      "* * * * * \n",
      "\n",
      "* * * * \n",
      "\n",
      "* * * \n",
      "\n",
      "* * \n",
      "\n",
      "* \n",
      "\n"
     ]
    }
   ],
   "source": [
    "for i in range(5,0,-1):\n",
    "    for j in range(1,i+1):\n",
    "        print(\"*\",end=\" \")\n",
    "    print(\"\\n\")"
   ]
  },
  {
   "cell_type": "code",
   "execution_count": 37,
   "id": "64d5c181",
   "metadata": {},
   "outputs": [],
   "source": [
    "for i in range(5,0):\n",
    "    for j in range(0,5):\n",
    "        print(\" \",end=\"\")\n",
    "    for k in range(0,i):\n",
    "        print(\"*\",end=\"\")\n",
    "    print(\"\\n\")"
   ]
  },
  {
   "cell_type": "code",
   "execution_count": 38,
   "id": "5e5135f6",
   "metadata": {},
   "outputs": [
    {
     "name": "stdout",
     "output_type": "stream",
     "text": [
      "*****\n",
      "\n",
      "*   *\n",
      "\n",
      "*   *\n",
      "\n",
      "*   *\n",
      "\n",
      "*****\n",
      "\n"
     ]
    }
   ],
   "source": [
    "for i in range(5):\n",
    "    for j in range(5):\n",
    "       if(i==0 or j==0 or i==4 or j==4):\n",
    "         print(\"*\",end=\"\")\n",
    "       else:\n",
    "           print(end=\" \")\n",
    "           \n",
    "    print(\"\\n\")"
   ]
  },
  {
   "cell_type": "code",
   "execution_count": 59,
   "id": "c9a7a1d2",
   "metadata": {},
   "outputs": [
    {
     "name": "stdout",
     "output_type": "stream",
     "text": [
      "*   *\n",
      "** **\n",
      "* * *\n",
      "*   *\n",
      "*   *\n"
     ]
    }
   ],
   "source": [
    "for i in range(0,5):\n",
    "    for j in range(0,5):\n",
    "        if(j==0 or j==4 or (i-j==0) and i<3 or (i+j==4) and i<3) :\n",
    "            print(\"*\",end=\"\")     \n",
    "        else:\n",
    "            print(\" \", end=\"\")\n",
    "           \n",
    "    print(\"\")"
   ]
  },
  {
   "cell_type": "code",
   "execution_count": 61,
   "id": "7f528a65",
   "metadata": {},
   "outputs": [
    {
     "name": "stdout",
     "output_type": "stream",
     "text": [
      "*   *\n",
      "*   *\n",
      "*****\n",
      "*   *\n",
      "*   *\n"
     ]
    }
   ],
   "source": [
    "for i in range(0,5):\n",
    "    for j in range(0,5):\n",
    "        if(j==0 or j==4 or i==2):\n",
    "            print(\"*\",end=\"\")\n",
    "        else:\n",
    "            print(\" \",end=\"\")\n",
    "    print(\"\")        "
   ]
  },
  {
   "cell_type": "code",
   "execution_count": 62,
   "id": "fca5bca6",
   "metadata": {},
   "outputs": [
    {
     "name": "stdout",
     "output_type": "stream",
     "text": [
      "*****\n",
      "  *  \n",
      "  *  \n",
      "  *  \n",
      "*****\n"
     ]
    }
   ],
   "source": [
    "for i in range(0,5):\n",
    "    for j in range(0,5):\n",
    "        if(i==0 or i==4 or j==2):\n",
    "            print(\"*\",end=\"\")\n",
    "        else:\n",
    "            print(\" \", end=\"\")\n",
    "    print(\"\")        "
   ]
  },
  {
   "cell_type": "code",
   "execution_count": 64,
   "id": "c922773e",
   "metadata": {},
   "outputs": [
    {
     "name": "stdout",
     "output_type": "stream",
     "text": [
      "*   *\n",
      "*   *\n",
      "*   *\n",
      "*   *\n",
      "*****\n"
     ]
    }
   ],
   "source": [
    "for i in range(0,5):\n",
    "    for j in range(0,5):\n",
    "        if(j==0 or j==4 or i==4):\n",
    "            print(\"*\",end=\"\")\n",
    "        else:\n",
    "            print(\" \",end=\"\")\n",
    "    print(\"\")        "
   ]
  },
  {
   "cell_type": "code",
   "execution_count": 65,
   "id": "3ed69ad3",
   "metadata": {},
   "outputs": [
    {
     "name": "stdout",
     "output_type": "stream",
     "text": [
      "*****\n",
      "*   *\n",
      "*****\n",
      "*   *\n",
      "*****\n"
     ]
    }
   ],
   "source": [
    "for i in range(0,5):\n",
    "    for j in range(0,5):\n",
    "        if(j==0 or j==4 or i==0 or i==4 or i==2):\n",
    "            print(\"*\",end=\"\")\n",
    "        else:\n",
    "            print(\" \",end=\"\")\n",
    "    print(\"\")        "
   ]
  },
  {
   "cell_type": "code",
   "execution_count": 66,
   "id": "7d8f5cb4",
   "metadata": {},
   "outputs": [
    {
     "name": "stdout",
     "output_type": "stream",
     "text": [
      "*****\n",
      "*   *\n",
      "*****\n",
      "*   *\n",
      "*   *\n"
     ]
    }
   ],
   "source": [
    "for i in range (0,5):\n",
    "    for j in range (0,5):\n",
    "        if(j==0 or j==4 or i==0 or i==2):\n",
    "              print(\"*\",end=\"\")\n",
    "        else:\n",
    "             print(\" \",end=\"\")\n",
    "    print(\"\")            "
   ]
  },
  {
   "cell_type": "code",
   "execution_count": 69,
   "id": "fb3a098f",
   "metadata": {},
   "outputs": [
    {
     "name": "stdout",
     "output_type": "stream",
     "text": [
      "*  * \n",
      "* *  \n",
      "**   \n",
      "* *  \n",
      "*  * \n"
     ]
    }
   ],
   "source": [
    "for i in range(0,5):\n",
    "    for j in range (0,5):\n",
    "        if(j==0 or(i-j==1)or (i+j==3)):\n",
    "            print(\"*\",end=\"\")\n",
    "        else:\n",
    "            print(\" \",end=\"\")\n",
    "    print(\"\")    "
   ]
  },
  {
   "cell_type": "code",
   "execution_count": 74,
   "id": "01bb332c",
   "metadata": {},
   "outputs": [
    {
     "name": "stdout",
     "output_type": "stream",
     "text": [
      "*****\n",
      "*   *\n",
      "*****\n",
      "*   *\n",
      "*****\n"
     ]
    }
   ],
   "source": [
    "for i in range (0,5):\n",
    "    for j in range (0,5):\n",
    "        if(i==0 or i==4 or i==2 or j==0 and j<2 or j==4 and j>1):\n",
    "              print(\"*\",end=\"\")\n",
    "        else:\n",
    "             print(\" \",end=\"\")\n",
    "    print(\"\") "
   ]
  },
  {
   "cell_type": "code",
   "execution_count": 92,
   "id": "57a0a91b",
   "metadata": {},
   "outputs": [
    {
     "name": "stdout",
     "output_type": "stream",
     "text": [
      "*****\n",
      "*    \n",
      "*****\n",
      "    *\n",
      "*****\n"
     ]
    }
   ],
   "source": [
    "for i in range (0,5):\n",
    "    for j in range (0,5):\n",
    "        if(i==0 or i==4 or i==2 or j==0 and (i-j==1) or j==4 and (j-i==1)):\n",
    "              print(\"*\",end=\"\")\n",
    "        else:\n",
    "             print(\" \",end=\"\")\n",
    "    print(\"\") "
   ]
  },
  {
   "cell_type": "code",
   "execution_count": 75,
   "id": "d9ecd359",
   "metadata": {},
   "outputs": [
    {
     "name": "stdout",
     "output_type": "stream",
     "text": [
      "*****\n",
      "*   *\n",
      "*****\n",
      "*   *\n",
      "*   *\n"
     ]
    }
   ],
   "source": [
    "for i in range (0,5):\n",
    "    for j in range (0,5):\n",
    "        if(j==0 or j==4 or i==0 or i==2):\n",
    "              print(\"*\",end=\"\")\n",
    "        else:\n",
    "             print(\" \",end=\"\")\n",
    "    print(\"\")            "
   ]
  },
  {
   "cell_type": "code",
   "execution_count": 76,
   "id": "92c75367",
   "metadata": {},
   "outputs": [
    {
     "name": "stdout",
     "output_type": "stream",
     "text": [
      "*   *\n",
      "** **\n",
      "* * *\n",
      "*   *\n",
      "*   *\n"
     ]
    }
   ],
   "source": [
    "for i in range(0,5):\n",
    "    for j in range(0,5):\n",
    "        if(j==0 or j==4 or (i-j==0) and i<3 or (i+j==4) and i<3) :\n",
    "            print(\"*\",end=\"\")     \n",
    "        else:\n",
    "            print(\" \", end=\"\")\n",
    "           \n",
    "    print(\"\")"
   ]
  },
  {
   "cell_type": "code",
   "execution_count": 77,
   "id": "6d94705e",
   "metadata": {},
   "outputs": [
    {
     "name": "stdout",
     "output_type": "stream",
     "text": [
      "*****\n",
      "*    \n",
      "*****\n",
      "*    \n",
      "*****\n"
     ]
    }
   ],
   "source": [
    "for i in range(0,5):\n",
    "    for j in range(0,5):\n",
    "        if(j==0 or i==0 or i==2 or i==4):\n",
    "            print(\"*\",end=\"\")\n",
    "        else:\n",
    "            print(\" \", end=\"\")\n",
    "    print(\"\")        "
   ]
  },
  {
   "cell_type": "code",
   "execution_count": 78,
   "id": "34a9d0ed",
   "metadata": {},
   "outputs": [
    {
     "name": "stdout",
     "output_type": "stream",
     "text": [
      "*****\n",
      "*    \n",
      "*****\n",
      "*    \n",
      "*****\n"
     ]
    }
   ],
   "source": [
    "for i in range(0,5):\n",
    "    for j in range(0,5):\n",
    "        if(j==0 or i==0 or i==2 or i==4):\n",
    "            print(\"*\",end=\"\")\n",
    "        else:\n",
    "            print(\" \", end=\"\")\n",
    "    print(\"\") "
   ]
  },
  {
   "cell_type": "code",
   "execution_count": 90,
   "id": "b9bd4aa3",
   "metadata": {},
   "outputs": [
    {
     "name": "stdout",
     "output_type": "stream",
     "text": [
      "*****\n",
      "*   *\n",
      "*****\n",
      "* *  \n",
      "*  * \n"
     ]
    }
   ],
   "source": [
    "for i in range(0,5):\n",
    "    for j in range (0,5):\n",
    "        if(j==0 or(i-j==1)or i==0 or i==2 or j<=2 and j==4 or (j-i==3)):\n",
    "            print(\"*\",end=\"\")\n",
    "        else:\n",
    "            print(\" \",end=\"\")\n",
    "    print(\"\")    "
   ]
  },
  {
   "cell_type": "code",
   "execution_count": null,
   "id": "1f99f1e7",
   "metadata": {},
   "outputs": [],
   "source": []
  }
 ],
 "metadata": {
  "kernelspec": {
   "display_name": "Python 3 (ipykernel)",
   "language": "python",
   "name": "python3"
  },
  "language_info": {
   "codemirror_mode": {
    "name": "ipython",
    "version": 3
   },
   "file_extension": ".py",
   "mimetype": "text/x-python",
   "name": "python",
   "nbconvert_exporter": "python",
   "pygments_lexer": "ipython3",
   "version": "3.10.11"
  }
 },
 "nbformat": 4,
 "nbformat_minor": 5
}
