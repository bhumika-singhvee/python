{
 "cells": [
  {
   "cell_type": "code",
   "execution_count": 5,
   "id": "f01d62ee",
   "metadata": {},
   "outputs": [
    {
     "name": "stdout",
     "output_type": "stream",
     "text": [
      "60\n"
     ]
    }
   ],
   "source": [
    "a=10\n",
    "b=20\n",
    "c=30\n",
    "if(type(a) and type(b) and type(c) is int):\n",
    "    s=a+b+c\n",
    "    print(s)\n",
    "else:\n",
    "    print(\"enter integer\")\n",
    "    \n",
    "    "
   ]
  },
  {
   "cell_type": "code",
   "execution_count": 3,
   "id": "6c8e6172",
   "metadata": {},
   "outputs": [
    {
     "name": "stdout",
     "output_type": "stream",
     "text": [
      "a is smaller\n"
     ]
    }
   ],
   "source": [
    "a=10\n",
    "b=20\n",
    "c=30\n",
    "if(a<b and a<c):\n",
    "    print(\"a is smaller\")\n",
    "elif(b<a and b<c):\n",
    "    print(\"b is smaller\")\n",
    "else:\n",
    "    print(\"c is smaller\")\n",
    "    "
   ]
  },
  {
   "cell_type": "code",
   "execution_count": 10,
   "id": "67a35fef",
   "metadata": {},
   "outputs": [
    {
     "name": "stdout",
     "output_type": "stream",
     "text": [
      "Enter a number14\n",
      "please enter a integer or float value\n"
     ]
    }
   ],
   "source": [
    "a=input(\"Enter a number\")\n",
    "if(type(a)==int or type(a)==float):\n",
    "    if(a%2==0):\n",
    "        print(\"it is an even number\")\n",
    "    else:\n",
    "        print(\"it is an odd number\")\n",
    "else:\n",
    "    print(\"please enter a integer or float value\")\n",
    "        \n",
    "    "
   ]
  },
  {
   "cell_type": "code",
   "execution_count": 12,
   "id": "844e0edf",
   "metadata": {},
   "outputs": [
    {
     "name": "stdout",
     "output_type": "stream",
     "text": [
      "enter a stringbhumi\n",
      "enter a char you want to check k\n",
      "it is not part of string\n"
     ]
    }
   ],
   "source": [
    "char=input(\"enter a string\")\n",
    "a=input(\"enter a char you want to check \")\n",
    "if(a in char):\n",
    "    print (\"it is a part of string\")\n",
    "else:\n",
    "    print(\"it is not part of string\")"
   ]
  },
  {
   "cell_type": "code",
   "execution_count": 18,
   "id": "736d3bca",
   "metadata": {},
   "outputs": [
    {
     "name": "stdout",
     "output_type": "stream",
     "text": [
      "enter a chara\n",
      "VOWEL IS PRESENT\n"
     ]
    }
   ],
   "source": [
    "char=input(\"enter a char\")\n",
    "if(char=='a'or char=='e'or char=='i'or char=='u'or char=='A' or char=='E'or char=='I'or char=='O'or char=='U'):\n",
    "    print (\"VOWEL IS PRESENT\")\n",
    "else:\n",
    "    print(\"VOWEL IS NOT PRESENT\")"
   ]
  },
  {
   "cell_type": "code",
   "execution_count": 6,
   "id": "511e60ac",
   "metadata": {},
   "outputs": [
    {
     "name": "stdout",
     "output_type": "stream",
     "text": [
      "enter a value29\n",
      "value is greater than 18\n",
      "value is between 25 and 35\n"
     ]
    }
   ],
   "source": [
    "val=int(input(\"enter a value\"))\n",
    "if(val>18):\n",
    "    print(\"value is greater than 18\")\n",
    "    if(val>=25 and val<=35):\n",
    "        print(\"value is between 25 and 35\")\n",
    "    elif(val>40):\n",
    "        print(\"val is greater than 40\")\n",
    "else:\n",
    "    print(\"val is less than 18\")"
   ]
  },
  {
   "cell_type": "code",
   "execution_count": 11,
   "id": "952c0c68",
   "metadata": {},
   "outputs": [
    {
     "name": "stdout",
     "output_type": "stream",
     "text": [
      "enter a value18\n",
      "val is less than 18\n"
     ]
    }
   ],
   "source": [
    "val=int(input(\"enter a value\"))\n",
    "if(val>=25 and val<=35):\n",
    "    print(\"value is between 25 and 35\")\n",
    "elif(val>=40):\n",
    "    print(\"val is greater than 40\")\n",
    "elif(val>=18):\n",
    "    print(\"value is greater than 18\")    \n",
    "else:\n",
    "    print(\"val is less than 18\")"
   ]
  },
  {
   "cell_type": "code",
   "execution_count": 3,
   "id": "9f3426d2",
   "metadata": {},
   "outputs": [
    {
     "name": "stdout",
     "output_type": "stream",
     "text": [
      "Today's date: 2023-08-01\n"
     ]
    }
   ],
   "source": [
    "\n",
    "from datetime import date\n",
    "\n",
    "today = date.today()\n",
    "print(\"Today's date:\", today)"
   ]
  },
  {
   "cell_type": "code",
   "execution_count": 4,
   "id": "5cd887a0",
   "metadata": {},
   "outputs": [
    {
     "ename": "SyntaxError",
     "evalue": "(unicode error) 'unicodeescape' codec can't decode bytes in position 2-3: truncated \\UXXXXXXXX escape (1576829355.py, line 9)",
     "output_type": "error",
     "traceback": [
      "\u001b[1;36m  Cell \u001b[1;32mIn[4], line 9\u001b[1;36m\u001b[0m\n\u001b[1;33m    parent_dir = \"C:\\Users\\User\\desktop\"\u001b[0m\n\u001b[1;37m                                        ^\u001b[0m\n\u001b[1;31mSyntaxError\u001b[0m\u001b[1;31m:\u001b[0m (unicode error) 'unicodeescape' codec can't decode bytes in position 2-3: truncated \\UXXXXXXXX escape\n"
     ]
    }
   ],
   "source": [
    "from datetime import date\n",
    "import os\n",
    "a=int(input(\"enter a value\"))\n",
    "if(a==1):\n",
    " today = date.today()\n",
    " print(\"Today's date:\", today)\n",
    "elif(a==2):\n",
    "    directory = \"bhumika\"\n",
    "    parent_dir = \"C:\\Users\\User\\desktop\"\n",
    "    path = os.path.join(parent_dir, directory)\n",
    "    try:\n",
    "    print(\"Directory '%s' can not be created\" % directory)\n",
    "\n"
   ]
  },
  {
   "cell_type": "code",
   "execution_count": 8,
   "id": "b95be3d4",
   "metadata": {},
   "outputs": [
    {
     "ename": "SyntaxError",
     "evalue": "(unicode error) 'unicodeescape' codec can't decode bytes in position 2-3: truncated \\UXXXXXXXX escape (2043005986.py, line 8)",
     "output_type": "error",
     "traceback": [
      "\u001b[1;36m  Cell \u001b[1;32mIn[8], line 8\u001b[1;36m\u001b[0m\n\u001b[1;33m    parent_dir = \"C:\\Users\\User\\THIS PC\\desktop\"\u001b[0m\n\u001b[1;37m                                                ^\u001b[0m\n\u001b[1;31mSyntaxError\u001b[0m\u001b[1;31m:\u001b[0m (unicode error) 'unicodeescape' codec can't decode bytes in position 2-3: truncated \\UXXXXXXXX escape\n"
     ]
    }
   ],
   "source": [
    "import os\n",
    "  \n",
    "  \n",
    "\n",
    "directory = \"Bhumi\"\n",
    "  \n",
    "# Parent Directory path\n",
    "parent_dir = \"C:\\Users\\User\\THIS PC\\desktop\"\n",
    "  \n",
    "# Path\n",
    "path = os.path.join(parent_dir, directory)\n",
    "  \n",
    "# Create the directory\n",
    "# 'Nikhil'\n",
    "try:\n",
    "    os.makedirs(path, exist_ok = True)\n",
    "    print(\"Directory '%s' created successfully\" % directory)\n",
    "except OSError as error:\n",
    "    print(\"Directory '%s' can not be created\" % directory)"
   ]
  },
  {
   "cell_type": "code",
   "execution_count": 10,
   "id": "51b81940",
   "metadata": {},
   "outputs": [
    {
     "data": {
      "text/plain": [
       "False"
      ]
     },
     "execution_count": 10,
     "metadata": {},
     "output_type": "execute_result"
    }
   ],
   "source": [
    "a=False\n",
    "b=5\n",
    "a and b\n"
   ]
  },
  {
   "cell_type": "code",
   "execution_count": 12,
   "id": "fc898255",
   "metadata": {},
   "outputs": [
    {
     "ename": "ModuleNotFoundError",
     "evalue": "No module named 'pywhatkit'",
     "output_type": "error",
     "traceback": [
      "\u001b[1;31m---------------------------------------------------------------------------\u001b[0m",
      "\u001b[1;31mModuleNotFoundError\u001b[0m                       Traceback (most recent call last)",
      "Cell \u001b[1;32mIn[12], line 1\u001b[0m\n\u001b[1;32m----> 1\u001b[0m \u001b[38;5;28;01mimport\u001b[39;00m \u001b[38;5;21;01mpywhatkit\u001b[39;00m\n\u001b[0;32m      4\u001b[0m pywhatkit\u001b[38;5;241m.\u001b[39msendwhatmsg(\u001b[38;5;124m\"\u001b[39m\u001b[38;5;124m+918107056574\u001b[39m\u001b[38;5;124m\"\u001b[39m,\n\u001b[0;32m      5\u001b[0m \t\t\t\t\t\u001b[38;5;124m\"\u001b[39m\u001b[38;5;124mGeeks For Geeks!\u001b[39m\u001b[38;5;124m\"\u001b[39m,\n\u001b[0;32m      6\u001b[0m \t\t\t\t\t\u001b[38;5;241m18\u001b[39m, \u001b[38;5;241m30\u001b[39m)\n",
      "\u001b[1;31mModuleNotFoundError\u001b[0m: No module named 'pywhatkit'"
     ]
    }
   ],
   "source": [
    "import pywhatkit\n",
    "\n",
    "\n",
    "pywhatkit.sendwhatmsg(\"+918107056574\",\n",
    "\t\t\t\t\t\"Geeks For Geeks!\",\n",
    "\t\t\t\t\t18, 30)\n",
    "\n"
   ]
  },
  {
   "cell_type": "code",
   "execution_count": null,
   "id": "27c0fb36",
   "metadata": {},
   "outputs": [],
   "source": [
    "import os\n",
    "  \n",
    "  \n",
    "\n",
    "directory = \"Bhumi\"\n",
    "  \n",
    "# Parent Directory path\n",
    "parent_dir = \"C:\\Users\\User\\THIS PC\\desktop\"\n",
    "  \n",
    "# Path\n",
    "path = os.path.join(parent_dir, directory)\n",
    "  \n",
    "# Create the directory\n",
    "# 'Nikhil'\n",
    "try:\n",
    "    os.makedirs(path, exist_ok = True)\n",
    "    print(\"Directory '%s' created successfully\" % directory)\n",
    "except OSError as error:\n",
    "    print(\"Directory '%s' can not be created\" % directory)"
   ]
  },
  {
   "cell_type": "code",
   "execution_count": null,
   "id": "eef6ef6c",
   "metadata": {},
   "outputs": [],
   "source": []
  }
 ],
 "metadata": {
  "kernelspec": {
   "display_name": "Python 3 (ipykernel)",
   "language": "python",
   "name": "python3"
  },
  "language_info": {
   "codemirror_mode": {
    "name": "ipython",
    "version": 3
   },
   "file_extension": ".py",
   "mimetype": "text/x-python",
   "name": "python",
   "nbconvert_exporter": "python",
   "pygments_lexer": "ipython3",
   "version": "3.11.4"
  }
 },
 "nbformat": 4,
 "nbformat_minor": 5
}
