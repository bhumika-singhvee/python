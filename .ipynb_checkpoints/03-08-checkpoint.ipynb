{
 "cells": [
  {
   "cell_type": "code",
   "execution_count": 6,
   "id": "da75bd44",
   "metadata": {},
   "outputs": [
    {
     "name": "stdout",
     "output_type": "stream",
     "text": [
      "apple\n",
      "banana\n",
      "cherry\n",
      "kiwi\n"
     ]
    },
    {
     "data": {
      "text/plain": [
       "'apple'"
      ]
     },
     "execution_count": 6,
     "metadata": {},
     "output_type": "execute_result"
    }
   ],
   "source": [
    "fruits=[\"apple\",\"banana\",\"cherry\",\"kiwi\"]\n",
    "for i in range(4):\n",
    "    print(fruits[i])\n",
    "fruits[0]"
   ]
  },
  {
   "cell_type": "code",
   "execution_count": 7,
   "id": "5a05cc88",
   "metadata": {},
   "outputs": [
    {
     "name": "stdout",
     "output_type": "stream",
     "text": [
      "0\n",
      "1\n",
      "2\n",
      "3\n",
      "4\n",
      "5\n"
     ]
    }
   ],
   "source": [
    "count=0\n",
    "while count<=5:\n",
    "    print(count)\n",
    "    count=count+1"
   ]
  },
  {
   "cell_type": "code",
   "execution_count": 8,
   "id": "97fa037f",
   "metadata": {},
   "outputs": [
    {
     "name": "stdout",
     "output_type": "stream",
     "text": [
      "enter values15\n",
      "enter values45\n",
      "enter values36\n",
      "enter values77\n",
      "enter values55\n",
      "output: [15, 45, 36, 77, 55]\n"
     ]
    }
   ],
   "source": [
    "num_list=[]\n",
    "n=5\n",
    "for i in range (n):\n",
    "    num=int(input(\"enter values\"))\n",
    "    num_list.append(num)\n",
    "print('output:',num_list)    "
   ]
  },
  {
   "cell_type": "code",
   "execution_count": 13,
   "id": "1aa75c57",
   "metadata": {},
   "outputs": [
    {
     "name": "stdout",
     "output_type": "stream",
     "text": [
      "enter value15\n",
      "enter value15\n",
      "enter value17\n",
      "enter value18325\n",
      "enter value152\n",
      "[15, 15, 17, 18325, 152]\n"
     ]
    }
   ],
   "source": [
    "num_list=[int(input(\"enter value\"))for _ in range(5)]                                                \n",
    "print(num_list)"
   ]
  },
  {
   "cell_type": "code",
   "execution_count": 16,
   "id": "9f1935fc",
   "metadata": {},
   "outputs": [
    {
     "name": "stdout",
     "output_type": "stream",
     "text": [
      "enter the string12 15 19 63\n"
     ]
    },
    {
     "data": {
      "text/plain": [
       "[12, 15, 19, 63]"
      ]
     },
     "execution_count": 16,
     "metadata": {},
     "output_type": "execute_result"
    }
   ],
   "source": [
    "input_string=input(\"enter the string\")\n",
    "input_list=input_string.split()\n",
    "numbers=list(map(int,input_list))\n",
    "numbers\n"
   ]
  },
  {
   "cell_type": "code",
   "execution_count": 19,
   "id": "a596d28e",
   "metadata": {},
   "outputs": [
    {
     "name": "stdout",
     "output_type": "stream",
     "text": [
      "['wow', 'mom']\n"
     ]
    }
   ],
   "source": [
    "list=['orange','wow','mom','watch']\n",
    "same=[]\n",
    "for i in list:\n",
    "    if(i[0]==i[-1]):\n",
    "        same.append(i)\n",
    "print(same)\n",
    "    \n",
    "\n",
    "\n",
    "\n"
   ]
  },
  {
   "cell_type": "code",
   "execution_count": 21,
   "id": "1b7f1af0",
   "metadata": {},
   "outputs": [
    {
     "name": "stdout",
     "output_type": "stream",
     "text": [
      "enter number123 231\n"
     ]
    },
    {
     "ename": "TypeError",
     "evalue": "'list' object is not callable",
     "output_type": "error",
     "traceback": [
      "\u001b[1;31m---------------------------------------------------------------------------\u001b[0m",
      "\u001b[1;31mTypeError\u001b[0m                                 Traceback (most recent call last)",
      "Cell \u001b[1;32mIn[21], line 3\u001b[0m\n\u001b[0;32m      1\u001b[0m numbers\u001b[38;5;241m=\u001b[39m\u001b[38;5;28mlist\u001b[39m(\u001b[38;5;28mmap\u001b[39m(\u001b[38;5;28mint\u001b[39m,\u001b[38;5;28minput\u001b[39m(\u001b[38;5;124m\"\u001b[39m\u001b[38;5;124menter number\u001b[39m\u001b[38;5;124m\"\u001b[39m)\u001b[38;5;241m.\u001b[39msplit()))\n\u001b[0;32m      2\u001b[0m new\u001b[38;5;241m=\u001b[39m[]\n\u001b[1;32m----> 3\u001b[0m \u001b[38;5;28;01mfor\u001b[39;00m i \u001b[38;5;129;01min\u001b[39;00m \u001b[43mnumbers\u001b[49m\u001b[43m(\u001b[49m\u001b[38;5;241;43m2\u001b[39;49m\u001b[43m)\u001b[49m:\n\u001b[0;32m      4\u001b[0m     \u001b[38;5;28mprint\u001b[39m(i)\n",
      "\u001b[1;31mTypeError\u001b[0m: 'list' object is not callable"
     ]
    }
   ],
   "source": [
    "numbers=list(map(int,input(\"enter number\").split()))\n",
    "new=[]\n",
    "for i in numbers(2):\n",
    "    print(i)"
   ]
  },
  {
   "cell_type": "code",
   "execution_count": 4,
   "id": "76457bf2",
   "metadata": {},
   "outputs": [
    {
     "name": "stdout",
     "output_type": "stream",
     "text": [
      "enter number1221 154 121\n"
     ]
    },
    {
     "data": {
      "text/plain": [
       "['1221', '121']"
      ]
     },
     "execution_count": 4,
     "metadata": {},
     "output_type": "execute_result"
    }
   ],
   "source": [
    "numbers=input(\"enter number\").split()\n",
    "new=[]\n",
    "for i in numbers:\n",
    "    a=i[::-1]\n",
    "    if(a==i):\n",
    "        new.append(i)\n",
    "new        "
   ]
  },
  {
   "cell_type": "code",
   "execution_count": 30,
   "id": "7ec27667",
   "metadata": {},
   "outputs": [
    {
     "name": "stdout",
     "output_type": "stream",
     "text": [
      "enter string123 12321\n"
     ]
    },
    {
     "data": {
      "text/plain": [
       "['12321']"
      ]
     },
     "execution_count": 30,
     "metadata": {},
     "output_type": "execute_result"
    }
   ],
   "source": [
    "a=input(\"enter string\").split()\n",
    "b=[c for c in a if c==c[::-1] ]\n",
    "b"
   ]
  },
  {
   "cell_type": "code",
   "execution_count": 3,
   "id": "a5821fc1",
   "metadata": {},
   "outputs": [
    {
     "name": "stdout",
     "output_type": "stream",
     "text": [
      "enter number12 4 5 6\n"
     ]
    },
    {
     "data": {
      "text/plain": [
       "[144, 16, 25, 36]"
      ]
     },
     "execution_count": 3,
     "metadata": {},
     "output_type": "execute_result"
    }
   ],
   "source": [
    "a=list(map(int,input(\"enter number\").split()))\n",
    "b=[]\n",
    "for i in  a:\n",
    "    b.append(i*i)\n",
    "b    \n"
   ]
  },
  {
   "cell_type": "code",
   "execution_count": 5,
   "id": "009f9128",
   "metadata": {},
   "outputs": [
    {
     "name": "stdout",
     "output_type": "stream",
     "text": [
      "enter numberbhumi radar level\n"
     ]
    },
    {
     "data": {
      "text/plain": [
       "['radar', 'level']"
      ]
     },
     "execution_count": 5,
     "metadata": {},
     "output_type": "execute_result"
    }
   ],
   "source": [
    "numbers=input(\"enter number\").split()\n",
    "new=[]\n",
    "for i in numbers:\n",
    "    a=i[::-1]\n",
    "    if(a==i):\n",
    "        new.append(i)\n",
    "new    "
   ]
  },
  {
   "cell_type": "code",
   "execution_count": 7,
   "id": "db399c40",
   "metadata": {},
   "outputs": [
    {
     "ename": "TypeError",
     "evalue": "'int' object is not subscriptable",
     "output_type": "error",
     "traceback": [
      "\u001b[1;31m---------------------------------------------------------------------------\u001b[0m",
      "\u001b[1;31mTypeError\u001b[0m                                 Traceback (most recent call last)",
      "Cell \u001b[1;32mIn[7], line 3\u001b[0m\n\u001b[0;32m      1\u001b[0m n\u001b[38;5;241m=\u001b[39m\u001b[38;5;241m0\u001b[39m\n\u001b[0;32m      2\u001b[0m \u001b[38;5;28mlist\u001b[39m\u001b[38;5;241m=\u001b[39m[]\n\u001b[1;32m----> 3\u001b[0m \u001b[38;5;28;01mfor\u001b[39;00m a \u001b[38;5;129;01min\u001b[39;00m \u001b[43mn\u001b[49m\u001b[43m[\u001b[49m\u001b[38;5;241;43m10\u001b[39;49m\u001b[43m]\u001b[49m:\n\u001b[0;32m      4\u001b[0m     \u001b[38;5;28;01mif\u001b[39;00m (n\u001b[38;5;241m==\u001b[39m\u001b[38;5;241m1\u001b[39m):\n\u001b[0;32m      5\u001b[0m         \u001b[38;5;28;01mcontinue\u001b[39;00m\n",
      "\u001b[1;31mTypeError\u001b[0m: 'int' object is not subscriptable"
     ]
    }
   ],
   "source": [
    "n=[2,3,4,5,6,8]\n",
    "prime_no=[num for num in n if n>1 and all(num%i!=0 for i in range)]"
   ]
  },
  {
   "cell_type": "code",
   "execution_count": null,
   "id": "6716e3d1",
   "metadata": {},
   "outputs": [],
   "source": []
  }
 ],
 "metadata": {
  "kernelspec": {
   "display_name": "Python 3 (ipykernel)",
   "language": "python",
   "name": "python3"
  },
  "language_info": {
   "codemirror_mode": {
    "name": "ipython",
    "version": 3
   },
   "file_extension": ".py",
   "mimetype": "text/x-python",
   "name": "python",
   "nbconvert_exporter": "python",
   "pygments_lexer": "ipython3",
   "version": "3.10.11"
  }
 },
 "nbformat": 4,
 "nbformat_minor": 5
}
