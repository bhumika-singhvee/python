{
 "cells": [
  {
   "cell_type": "code",
   "execution_count": 3,
   "id": "c9bc9ec9",
   "metadata": {},
   "outputs": [
    {
     "name": "stdout",
     "output_type": "stream",
     "text": [
      "[10, 20, 30, 40, 9, 8, 50]\n",
      "[50, 20, 30, 40, 9, 8, 10]\n"
     ]
    }
   ],
   "source": [
    "a=[10,20,30,40,9,8,50]\n",
    "print(a)\n",
    "c=a[0]\n",
    "a[0]=a[-1]\n",
    "a[-1]=c\n",
    "print(a)"
   ]
  },
  {
   "cell_type": "code",
   "execution_count": 6,
   "id": "d46b6a2d",
   "metadata": {},
   "outputs": [
    {
     "name": "stdout",
     "output_type": "stream",
     "text": [
      "[10, 20, 30, 40, 50, 60]\n"
     ]
    },
    {
     "data": {
      "text/plain": [
       "[10, 20, 30, 40, 50, 60, 10]"
      ]
     },
     "execution_count": 6,
     "metadata": {},
     "output_type": "execute_result"
    }
   ],
   "source": [
    "a=[10,20,30,40,50,60]\n",
    "print(a)\n",
    "temp=\n",
    "a.pop()\n",
    "a.append(a[0])\n",
    "a"
   ]
  },
  {
   "cell_type": "code",
   "execution_count": 9,
   "id": "5404b10b",
   "metadata": {},
   "outputs": [
    {
     "name": "stdout",
     "output_type": "stream",
     "text": [
      "40\n"
     ]
    }
   ],
   "source": [
    "a=[10,20,30,40]\n",
    "if(a[0]>a[1]):\n",
    "    if(a[0]>a[2]):\n",
    "        if(a[0]>a[3]):\n",
    "            print(a[0])\n",
    "        else:\n",
    "            print(a[3])\n",
    "    else:\n",
    "        if(a[2]>a[3]):\n",
    "            print(a[2])\n",
    "        else:\n",
    "            print(a[3])\n",
    "else:\n",
    "    if(a[1]>a[2]):\n",
    "        if(a[1]>a[3]):\n",
    "            print(a[1])\n",
    "        else:\n",
    "            print(a[3])\n",
    "    else:\n",
    "        if(a[2]>a[3]):\n",
    "            print(a[2])\n",
    "        else:\n",
    "            print(a[3])\n",
    "            "
   ]
  },
  {
   "cell_type": "code",
   "execution_count": 12,
   "id": "1a50fb99",
   "metadata": {},
   "outputs": [
    {
     "name": "stdout",
     "output_type": "stream",
     "text": [
      "100\n"
     ]
    }
   ],
   "source": []
  },
  {
   "cell_type": "code",
   "execution_count": 14,
   "id": "104ab962",
   "metadata": {},
   "outputs": [
    {
     "name": "stdout",
     "output_type": "stream",
     "text": [
      "100\n"
     ]
    }
   ],
   "source": [
    "a=[10,20,50,70,8,80,3]\n",
    "if(a[i]>max):\n",
    "    print=a[i]\n",
    "print(max)    "
   ]
  },
  {
   "cell_type": "code",
   "execution_count": 22,
   "id": "fde0e1b8",
   "metadata": {
    "scrolled": true
   },
   "outputs": [
    {
     "name": "stdout",
     "output_type": "stream",
     "text": [
      "['fail', 'fail', 'pass', 'pass', 'fail', 'pass', 'fail']\n"
     ]
    }
   ],
   "source": [
    "a=[10,20,50,70,8,80,3]\n",
    "for n in range(0,len(a)):\n",
    "    if(a[n]>=50):\n",
    "        a[n]=\"pass\"\n",
    "    else:    \n",
    "        a[n]=\"fail\"\n",
    "print(a)    "
   ]
  },
  {
   "cell_type": "code",
   "execution_count": null,
   "id": "b282f144",
   "metadata": {},
   "outputs": [],
   "source": [
    "a=[\"bhumi\",\"natasha\",\"khushi\"]\n",
    "while True:\n",
    "name=input(\"enter your name:\")\n",
    "choice=int(input(\" press a=0, if you want to see your name \\n press a=1 if you want to enter name \\n press a=2 if you want to delete your name\"))\n",
    "if(choice==\"0\"):\n",
    "    for i in range(0,len(a)):\n",
    "        if(a[i]==name):\n",
    "            print(\"your name exist in a list\")\n",
    "        else:\n",
    "            print(\"your name doesnot exist in a list\")\n",
    "    print(a) \n",
    "elif(choice==\"1\"):\n",
    "    a.append(name)\n",
    "    print(a)\n",
    "elif(choice==2):\n",
    "    a.remove(name)\n",
    "    print(a)\n",
    "else:\n",
    "    print(\"enter valid choice\")\n",
    "        \n",
    "    "
   ]
  },
  {
   "cell_type": "code",
   "execution_count": null,
   "id": "492280e2",
   "metadata": {},
   "outputs": [],
   "source": [
    "a=[\"bhumi\",\"natasha\",\"khushi\"]\n",
    "name=input(\"enter your name:\")\n",
    "while True:\n",
    "choice=int(input(\" press a=0, if you want to see your name \\n press a=1 if you want to enter name \\n press a=2 if you want to delete your name \\n press a=3 if ypu want to print complete list\"))\n",
    "if(choice==0):\n",
    "    if name in a:\n",
    "        print(\"name exist\")\n",
    "    else:\n",
    "        print(\"name not exist\")\n",
    "elif(choice==1):\n",
    "    a.append(name)\n",
    "    print(a)\n",
    "elif(choice==2):\n",
    "    if name in a:\n",
    "        a.remove(name)\n",
    "        print(a)\n",
    "    else:\n",
    "        print(\"name not exist in a list\")\n",
    "elif(choice==3):\n",
    "    print(a)\n",
    "else:\n",
    "    print(\"enter valid choice\")\n",
    "        \n",
    "    "
   ]
  },
  {
   "cell_type": "code",
   "execution_count": null,
   "id": "4074fd4b",
   "metadata": {},
   "outputs": [],
   "source": []
  }
 ],
 "metadata": {
  "kernelspec": {
   "display_name": "Python 3 (ipykernel)",
   "language": "python",
   "name": "python3"
  },
  "language_info": {
   "codemirror_mode": {
    "name": "ipython",
    "version": 3
   },
   "file_extension": ".py",
   "mimetype": "text/x-python",
   "name": "python",
   "nbconvert_exporter": "python",
   "pygments_lexer": "ipython3",
   "version": "3.10.11"
  }
 },
 "nbformat": 4,
 "nbformat_minor": 5
}
