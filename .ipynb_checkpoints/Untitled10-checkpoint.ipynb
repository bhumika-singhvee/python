{
 "cells": [
  {
   "cell_type": "code",
   "execution_count": null,
   "id": "efae8c29",
   "metadata": {},
   "outputs": [],
   "source": [
    "a=int(input(\"enter no\"))\n",
    "i=1\n",
    "fact=i\n",
    "while(i<=a):\n",
    "    fact*=i\n",
    "    print(fact)"
   ]
  },
  {
   "cell_type": "code",
   "execution_count": null,
   "id": "89a67cde",
   "metadata": {},
   "outputs": [],
   "source": [
    "P=int(input(\"enter principle amount\"))\n",
    "R=int(input(\"enter rate of interest\"))\n",
    "T=int(input(\"enter time\"))\n",
    "SI=(P*R*T)/100\n",
    "print(\"your simple interst is:\",SI)\n"
   ]
  },
  {
   "cell_type": "code",
   "execution_count": null,
   "id": "3ccab73c",
   "metadata": {},
   "outputs": [],
   "source": []
  }
 ],
 "metadata": {
  "kernelspec": {
   "display_name": "Python 3 (ipykernel)",
   "language": "python",
   "name": "python3"
  },
  "language_info": {
   "codemirror_mode": {
    "name": "ipython",
    "version": 3
   },
   "file_extension": ".py",
   "mimetype": "text/x-python",
   "name": "python",
   "nbconvert_exporter": "python",
   "pygments_lexer": "ipython3",
   "version": "3.10.11"
  }
 },
 "nbformat": 4,
 "nbformat_minor": 5
}
