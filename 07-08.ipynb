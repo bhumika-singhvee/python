{
 "cells": [
  {
   "cell_type": "code",
   "execution_count": null,
   "id": "1006fa9b",
   "metadata": {},
   "outputs": [],
   "source": [
    "a=int(input(\"enter a number:  \"))\n",
    "i=1\n",
    "f=i\n",
    "while(i<=a):\n",
    "    f*=i\n",
    "    i+=1\n",
    "print(fact)    "
   ]
  },
  {
   "cell_type": "code",
   "execution_count": null,
   "id": "a00b939d",
   "metadata": {},
   "outputs": [],
   "source": [
    "n=input(int(\"enter your digit\"))\n",
    "for i in range(0,10):\n",
    "    count=0\n",
    "    temp=n\n",
    "    while temp>0:\n",
    "        rem=temp%10\n",
    "        if rem==i\n",
    "            count=count+1\n",
    "        temp=temp//10\n",
    "        if count>0\n",
    "           print(i,count)"
   ]
  },
  {
   "cell_type": "code",
   "execution_count": null,
   "id": "f6ceb2ff",
   "metadata": {},
   "outputs": [],
   "source": [
    "for char in range(97,122):\n",
    "    print(chr(char),end=' ')\n"
   ]
  },
  {
   "cell_type": "code",
   "execution_count": null,
   "id": "ea3e8a64",
   "metadata": {},
   "outputs": [],
   "source": [
    "char=97\n",
    "while char<=122:\n",
    "    print(chr(char),end=' ')\n",
    "    char=char+1\n",
    "    \n",
    "    "
   ]
  },
  {
   "cell_type": "code",
   "execution_count": null,
   "id": "7b82073c",
   "metadata": {},
   "outputs": [],
   "source": []
  }
 ],
 "metadata": {
  "kernelspec": {
   "display_name": "Python 3 (ipykernel)",
   "language": "python",
   "name": "python3"
  },
  "language_info": {
   "codemirror_mode": {
    "name": "ipython",
    "version": 3
   },
   "file_extension": ".py",
   "mimetype": "text/x-python",
   "name": "python",
   "nbconvert_exporter": "python",
   "pygments_lexer": "ipython3",
   "version": "3.10.11"
  }
 },
 "nbformat": 4,
 "nbformat_minor": 5
}
