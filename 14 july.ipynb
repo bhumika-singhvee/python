{
 "cells": [
  {
   "cell_type": "code",
   "execution_count": 1,
   "id": "8d888b60",
   "metadata": {},
   "outputs": [
    {
     "name": "stdout",
     "output_type": "stream",
     "text": [
      "\n",
      "**\n",
      "****\n",
      "******\n",
      "********\n"
     ]
    }
   ],
   "source": [
    "for n in range(5):\n",
    "    for m in range(0,n*2):\n",
    "        print(\"*\",end=\"\")\n",
    "    print(\"\")"
   ]
  },
  {
   "cell_type": "code",
   "execution_count": 43,
   "id": "87df16e9",
   "metadata": {},
   "outputs": [
    {
     "name": "stdout",
     "output_type": "stream",
     "text": [
      "*****\n",
      " ****\n",
      "  ***\n",
      "   **\n",
      "    *\n"
     ]
    }
   ],
   "source": [
    "for i in range(5):\n",
    "    for j in range(i):\n",
    "        print(\" \",end=\"\")\n",
    "    for j in range(5,i,-1):\n",
    "         print(\"*\",end=\"\")\n",
    "    print()"
   ]
  },
  {
   "cell_type": "code",
   "execution_count": 4,
   "id": "6aa47de3",
   "metadata": {},
   "outputs": [
    {
     "name": "stdout",
     "output_type": "stream",
     "text": [
      "A\n",
      "AB\n",
      "ABC\n",
      "ABCD\n"
     ]
    }
   ],
   "source": [
    "n=4\n",
    "for i in range(0,n):\n",
    "    for j in range(0,i+1):\n",
    "        print(chr(j+65),end=\"\")\n",
    "    print()    "
   ]
  },
  {
   "cell_type": "code",
   "execution_count": 6,
   "id": "2c7e4da2",
   "metadata": {},
   "outputs": [
    {
     "name": "stdout",
     "output_type": "stream",
     "text": [
      "\n",
      "A\n",
      "BC\n",
      "DEF\n",
      "GHIJ\n"
     ]
    }
   ],
   "source": [
    "value=65\n",
    "for i in range(0,5):\n",
    "    for j in range(0,i):\n",
    "        ch=chr(value)\n",
    "        print(ch,end=\"\")\n",
    "        value=value+1\n",
    "    print()    "
   ]
  },
  {
   "cell_type": "code",
   "execution_count": 8,
   "id": "b8d5765e",
   "metadata": {},
   "outputs": [
    {
     "name": "stdout",
     "output_type": "stream",
     "text": [
      "\n",
      "\n",
      "A\n",
      "BC\n",
      "DEF\n"
     ]
    }
   ],
   "source": [
    "value=65\n",
    "for i in range(0,5):\n",
    "    for j in range(0,i-1):\n",
    "        ch=chr(value)\n",
    "        print(ch,end=\"\")\n",
    "        value=value+1\n",
    "    print() "
   ]
  },
  {
   "cell_type": "code",
   "execution_count": null,
   "id": "1711b764",
   "metadata": {},
   "outputs": [],
   "source": []
  }
 ],
 "metadata": {
  "kernelspec": {
   "display_name": "Python 3 (ipykernel)",
   "language": "python",
   "name": "python3"
  },
  "language_info": {
   "codemirror_mode": {
    "name": "ipython",
    "version": 3
   },
   "file_extension": ".py",
   "mimetype": "text/x-python",
   "name": "python",
   "nbconvert_exporter": "python",
   "pygments_lexer": "ipython3",
   "version": "3.10.11"
  }
 },
 "nbformat": 4,
 "nbformat_minor": 5
}
