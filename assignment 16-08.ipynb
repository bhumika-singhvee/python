{
 "cells": [
  {
   "cell_type": "code",
   "execution_count": null,
   "id": "0bdd1a3c",
   "metadata": {},
   "outputs": [],
   "source": [
    "#q3\n",
    "list1=[\"abc\",\"hello\",1.0,2.5,4,\"deny\",8,5]\n",
    "i=0\n",
    "while(i<len(list1)):\n",
    "    if(type(i) is str):\n",
    "        for i in a:\n",
    "            for j in i:\n",
    "                if j in 'aeiou':\n",
    "                    list1.pop(i)\n",
    "print(i)                    "
   ]
  },
  {
   "cell_type": "code",
   "execution_count": null,
   "id": "beaaf1a8",
   "metadata": {},
   "outputs": [],
   "source": [
    "#q-4\n",
    "mytuple=(10,12,15,16,18)\n",
    "new=[]\n",
    "old=[]\n",
    "for i in (mytuple):\n",
    "        if(type(i)==int):\n",
    "            if(i%2==0 and i%3==0):\n",
    "                new.append(i)\n",
    "            else:\n",
    "                old.append(i)\n",
    "print(new)\n",
    "print(old)"
   ]
  },
  {
   "cell_type": "code",
   "execution_count": null,
   "id": "9a3cf5fa",
   "metadata": {},
   "outputs": [],
   "source": [
    "#q-1\n",
    "mylist=[\"hello\",\"sakshi\",\"hello\",\"sachi\",\"hey\",\"you\",\"hey\"]\n",
    "unique=[]\n",
    "duplicate=[]\n",
    "for i in (mylist):\n",
    "    if(mylist.count(i)>1):\n",
    "        duplicate.append(i)\n",
    "    else:\n",
    "        unique.append(i)\n",
    "print(unique)\n",
    "print(duplicate)"
   ]
  },
  {
   "cell_type": "code",
   "execution_count": null,
   "id": "1d12e9d7",
   "metadata": {},
   "outputs": [],
   "source": [
    "#q-2\n",
    "mylist=[\"elephent\",\"sakshi\",\"yuuio\",\"hello\",\"venuee\"]\n",
    "vowellist=[]\n",
    "for i in mylist:\n",
    "    vowel_count=0\n",
    "    for j in i:\n",
    "        if j in \"aeiou\":\n",
    "            vowel_count+=1\n",
    "    if vowel_count>2:\n",
    "        vowellist.append(i)\n",
    "print(vowellist)"
   ]
  }
 ],
 "metadata": {
  "kernelspec": {
   "display_name": "Python 3 (ipykernel)",
   "language": "python",
   "name": "python3"
  },
  "language_info": {
   "codemirror_mode": {
    "name": "ipython",
    "version": 3
   },
   "file_extension": ".py",
   "mimetype": "text/x-python",
   "name": "python",
   "nbconvert_exporter": "python",
   "pygments_lexer": "ipython3",
   "version": "3.10.11"
  }
 },
 "nbformat": 4,
 "nbformat_minor": 5
}
