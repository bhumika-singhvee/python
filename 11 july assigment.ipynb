{
 "cells": [
  {
   "cell_type": "code",
   "execution_count": null,
   "id": "bcae1b81",
   "metadata": {},
   "outputs": [],
   "source": [
    "city=input(\"enter a string:\")\n",
    "city(2)\n"
   ]
  },
  {
   "cell_type": "code",
   "execution_count": null,
   "id": "a3f74dab",
   "metadata": {},
   "outputs": [],
   "source": [
    "city=input(\"enter a string:\")\n",
    "city[2]"
   ]
  },
  {
   "cell_type": "code",
   "execution_count": null,
   "id": "bae90736",
   "metadata": {},
   "outputs": [],
   "source": [
    "city=input(\"enter a string:\")\n",
    "city[2]"
   ]
  },
  {
   "cell_type": "code",
   "execution_count": 18,
   "id": "0a36d1f5",
   "metadata": {},
   "outputs": [
    {
     "name": "stdout",
     "output_type": "stream",
     "text": [
      "enter number 1:15\n",
      "enter number 2:21\n"
     ]
    }
   ],
   "source": [
    "num1=int(input(\"enter number 1:\"))\n",
    "num2=int(input(\"enter number 2:\"))\n",
    "if(num1%4==0):\n",
    "    if(num2%6==0):\n",
    "        print(\"num1 and num2 are divisble by 4 and 6\")\n",
    "    elif(num1%4==0):\n",
    "        if(num2%6!=0):\n",
    "            print(\"num1 is divible by 4 \")\n",
    "elif(num1%4!=0):\n",
    "     if(num2%6==0):\n",
    "        print(\"num2 is divisble by 6\")\n",
    "else:\n",
    "    print(\"num1 and num2 are not divisble by 4 and 6\")\n"
   ]
  },
  {
   "cell_type": "code",
   "execution_count": 7,
   "id": "fa1ad6fb",
   "metadata": {},
   "outputs": [
    {
     "name": "stdout",
     "output_type": "stream",
     "text": [
      "63\n"
     ]
    }
   ],
   "source": [
    "\n",
    "for i in range(1,101):\n",
    "    if (i%7==0):\n",
    "        if(i%9==0):\n",
    "            print(i)\n",
    "\n",
    "        "
   ]
  },
  {
   "cell_type": "code",
   "execution_count": 8,
   "id": "59679390",
   "metadata": {},
   "outputs": [
    {
     "name": "stdout",
     "output_type": "stream",
     "text": [
      "2\n",
      "4\n",
      "6\n",
      "8\n",
      "10\n",
      "12\n",
      "14\n",
      "16\n",
      "18\n",
      "20\n",
      "22\n",
      "24\n",
      "26\n",
      "28\n",
      "30\n",
      "32\n",
      "34\n",
      "36\n",
      "38\n",
      "40\n",
      "42\n",
      "44\n",
      "46\n",
      "48\n",
      "50\n",
      "52\n",
      "54\n",
      "56\n",
      "58\n",
      "60\n",
      "62\n",
      "64\n",
      "66\n",
      "68\n",
      "70\n",
      "72\n",
      "74\n",
      "76\n",
      "78\n",
      "80\n",
      "82\n",
      "84\n",
      "86\n",
      "88\n",
      "90\n",
      "92\n",
      "94\n",
      "96\n",
      "98\n",
      "100\n"
     ]
    }
   ],
   "source": [
    "for i in range(1,101):\n",
    "    if (i%2==0):\n",
    "        print(i)\n",
    "    "
   ]
  },
  {
   "cell_type": "code",
   "execution_count": 11,
   "id": "234cebe4",
   "metadata": {},
   "outputs": [
    {
     "name": "stdout",
     "output_type": "stream",
     "text": [
      "enter a var25\n",
      "var greater than 20\n"
     ]
    }
   ],
   "source": [
    "var=int(input(\"enter a var\"))\n",
    "if var==23:\n",
    "    print(\"var is equal to 23\")\n",
    "elif var>=30 and var<=40:\n",
    "    print(\"var is greater than 30 and var is smaller than 40\")\n",
    "elif var>20:\n",
    "    print(\"var greater than 20\")     \n",
    "\n",
    "        \n",
    "        \n"
   ]
  },
  {
   "cell_type": "code",
   "execution_count": 20,
   "id": "4e72a227",
   "metadata": {},
   "outputs": [
    {
     "name": "stdout",
     "output_type": "stream",
     "text": [
      "enter a stringbhumika\n",
      "h\n",
      "m\n",
      "k\n"
     ]
    }
   ],
   "source": [
    "string=input(\"enter a string\")\n",
    "for index in range(len(string)):\n",
    "    if(index % 2 != 0):\n",
    "        print(string[index])"
   ]
  },
  {
   "cell_type": "code",
   "execution_count": 2,
   "id": "fc5b50ee",
   "metadata": {},
   "outputs": [
    {
     "ename": "SyntaxError",
     "evalue": "invalid syntax (1051176638.py, line 3)",
     "output_type": "error",
     "traceback": [
      "\u001b[1;36m  Cell \u001b[1;32mIn[2], line 3\u001b[1;36m\u001b[0m\n\u001b[1;33m    if(i =! 'a'or i =! 'e'or i =! 'i'or i =! 'o'or i =! 'u'):\u001b[0m\n\u001b[1;37m         ^\u001b[0m\n\u001b[1;31mSyntaxError\u001b[0m\u001b[1;31m:\u001b[0m invalid syntax\n"
     ]
    }
   ],
   "source": [
    "string=input(\"enter a string\")\n",
    "for i in string:\n",
    "    if(i =!'a'or i =! 'e'or i =! 'i'or i =! 'o'or i =! 'u'):\n",
    "        cosonants=consonant+1;\n",
    "    else:\n",
    "        vowels=vowels+1;\n",
    "print(\"The number of vowels:\",vowels);\n",
    "print(\"\\nThe number of consonant:\",consonants);      \n",
    "     \n",
    "        "
   ]
  },
  {
   "cell_type": "code",
   "execution_count": null,
   "id": "1319582d",
   "metadata": {},
   "outputs": [],
   "source": []
  }
 ],
 "metadata": {
  "kernelspec": {
   "display_name": "Python 3 (ipykernel)",
   "language": "python",
   "name": "python3"
  },
  "language_info": {
   "codemirror_mode": {
    "name": "ipython",
    "version": 3
   },
   "file_extension": ".py",
   "mimetype": "text/x-python",
   "name": "python",
   "nbconvert_exporter": "python",
   "pygments_lexer": "ipython3",
   "version": "3.10.11"
  }
 },
 "nbformat": 4,
 "nbformat_minor": 5
}
