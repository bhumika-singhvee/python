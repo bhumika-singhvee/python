{
 "cells": [
  {
   "cell_type": "code",
   "execution_count": null,
   "id": "7e610fdb",
   "metadata": {},
   "outputs": [],
   "source": [
    "print(\"enter your choice \")\n",
    "print(\"a=1 burger\")\n",
    "print(\"a=2 pizza\")\n",
    "print(\"a=3 cold coffee\")\n",
    "a=input(\"enter your choice \")\n",
    "if(a==1):\n",
    "    print(\"price=40 ,enjoy your burger!!\")\n",
    "elif(a==2):\n",
    "    print(\"price=170 ,enjoy your burger!!\")\n",
    "elif(a==3):\n",
    "    print(\"price=70 ,enjoy your cold coffee!!\")  \n",
    "else:\n",
    "     print(\"oops!! out of menu\")     "
   ]
  },
  {
   "cell_type": "code",
   "execution_count": null,
   "id": "624ad2f9",
   "metadata": {},
   "outputs": [],
   "source": [
    "print(\"enter your choice \")\n",
    "print(\"a=1 burger\")\n",
    "print(\"a=2 pizza\")\n",
    "print(\"a=3 cold coffee\")\n",
    "a=input(\"enter your choice \")\n",
    "if(a==1):\n",
    "    print(\"price=40 ,enjoy your burger!!\")\n",
    "elif(a==2):\n",
    "    print(\"price=170 ,enjoy your burger!!\")\n",
    "elif(a==3):\n",
    "    print(\"price=70 ,enjoy your cold coffee!!\")  \n",
    "else:\n",
    "     print(\"oops!! out of menu\")     "
   ]
  },
  {
   "cell_type": "code",
   "execution_count": null,
   "id": "c4fa26b2",
   "metadata": {},
   "outputs": [],
   "source": []
  }
 ],
 "metadata": {
  "kernelspec": {
   "display_name": "Python 3 (ipykernel)",
   "language": "python",
   "name": "python3"
  },
  "language_info": {
   "codemirror_mode": {
    "name": "ipython",
    "version": 3
   },
   "file_extension": ".py",
   "mimetype": "text/x-python",
   "name": "python",
   "nbconvert_exporter": "python",
   "pygments_lexer": "ipython3",
   "version": "3.10.11"
  }
 },
 "nbformat": 4,
 "nbformat_minor": 5
}
