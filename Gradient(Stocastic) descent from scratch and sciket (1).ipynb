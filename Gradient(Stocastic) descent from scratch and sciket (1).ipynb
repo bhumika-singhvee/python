{
 "cells": [
  {
   "cell_type": "code",
   "execution_count": 1,
   "id": "8f623ec6",
   "metadata": {},
   "outputs": [],
   "source": [
    "from sklearn.datasets import load_diabetes \n",
    "import numpy as np \n",
    "from sklearn.linear_model import LinearRegression \n",
    "from sklearn.metrics import r2_score \n",
    "from sklearn.model_selection import train_test_split "
   ]
  },
  {
   "cell_type": "code",
   "execution_count": 2,
   "id": "d157f8d8",
   "metadata": {},
   "outputs": [
    {
     "name": "stdout",
     "output_type": "stream",
     "text": [
      "(442, 10)\n",
      "(442,)\n"
     ]
    }
   ],
   "source": [
    "X,y = load_diabetes(return_X_y = True) \n",
    "print(X.shape) \n",
    "print(y.shape)"
   ]
  },
  {
   "cell_type": "code",
   "execution_count": 3,
   "id": "13c55a90",
   "metadata": {},
   "outputs": [],
   "source": [
    "X_train , X_test , y_train , y_test = train_test_split(X,y,test_size = 0.2 , random_state = 42) "
   ]
  },
  {
   "cell_type": "code",
   "execution_count": 4,
   "id": "ad7174bd",
   "metadata": {},
   "outputs": [
    {
     "data": {
      "text/plain": [
       "LinearRegression()"
      ]
     },
     "execution_count": 4,
     "metadata": {},
     "output_type": "execute_result"
    }
   ],
   "source": [
    "reg = LinearRegression() \n",
    "reg.fit(X_train , y_train) "
   ]
  },
  {
   "cell_type": "code",
   "execution_count": 5,
   "id": "889aea15",
   "metadata": {},
   "outputs": [
    {
     "data": {
      "text/plain": [
       "0.45260660216173787"
      ]
     },
     "execution_count": 5,
     "metadata": {},
     "output_type": "execute_result"
    }
   ],
   "source": [
    "y_pred = reg.predict(X_test) \n",
    "r2_score(y_test , y_pred) "
   ]
  },
  {
   "cell_type": "code",
   "execution_count": 6,
   "id": "de8f8f9b",
   "metadata": {},
   "outputs": [],
   "source": [
    "# Now we create our own class \n",
    "\n",
    "class SGDRegressor :\n",
    "    \n",
    "    def __init__(self , learning_rate = 0.01 , epochs = 100):\n",
    "        self.coef_ = None \n",
    "        self.intercept_ = None \n",
    "        self.lr = learning_rate  \n",
    "        self.epochs = epochs \n",
    "        \n",
    "        \n",
    "    def fit(self , X_train , y_train):\n",
    "        #init our coefs \n",
    "        self.intercept_ = 0 \n",
    "        self.coef_ = np.ones(X_train.shape[1])\n",
    "        \n",
    "        for i in range(self.epochs):\n",
    "            for j in range(X_train.shape[0]):\n",
    "                idx = np.random.randint(0 , X_train.shape[0]) \n",
    "                \n",
    "                y_hat = np.dot(X_train[idx] , self.coef_) + self.intercept_\n",
    "                \n",
    "                intercept_der = -2*(y_train[idx] - y_hat) \n",
    "                self.intercept_ = self.intercept_ - (self.lr*intercept_der)\n",
    "                \n",
    "                coef_der = -2*np.dot((y_train[idx] - y_hat) , X_train[idx]) \n",
    "                self.coef_ = self.coef_ - (self.lr*coef_der) \n",
    "                \n",
    "            \n",
    "        print(self.intercept_ , self.coef_) \n",
    "        \n",
    "    def predict(self , X_test):\n",
    "        return np.dot(X_test , self.coef_) + self.intercept_\n",
    "        \n",
    "            \n",
    "         \n"
   ]
  },
  {
   "cell_type": "code",
   "execution_count": 7,
   "id": "da5f7fcc",
   "metadata": {},
   "outputs": [],
   "source": [
    "# np.random.randint(0,X_train.shape[0]) "
   ]
  },
  {
   "cell_type": "code",
   "execution_count": 8,
   "id": "5742064d",
   "metadata": {},
   "outputs": [],
   "source": [
    "# X_train[48]"
   ]
  },
  {
   "cell_type": "code",
   "execution_count": 9,
   "id": "bb4d6008",
   "metadata": {},
   "outputs": [],
   "source": [
    "# coef_ = np.ones(X_train.shape[1]) \n",
    "# coef_"
   ]
  },
  {
   "cell_type": "code",
   "execution_count": 10,
   "id": "18f43e5d",
   "metadata": {},
   "outputs": [],
   "source": [
    "# intercept_ = 0 "
   ]
  },
  {
   "cell_type": "code",
   "execution_count": 11,
   "id": "4a7b4195",
   "metadata": {},
   "outputs": [],
   "source": [
    "# np.dot(X_train[48] , coef_)+ intercept_"
   ]
  },
  {
   "cell_type": "code",
   "execution_count": 12,
   "id": "49d00d51",
   "metadata": {},
   "outputs": [],
   "source": [
    "sgd = SGDRegressor(learning_rate = 0.01 , epochs = 50)\n"
   ]
  },
  {
   "cell_type": "code",
   "execution_count": 13,
   "id": "b8720b4a",
   "metadata": {},
   "outputs": [
    {
     "name": "stdout",
     "output_type": "stream",
     "text": [
      "152.6115223970945 [  53.76889364  -84.48541092  356.68019329  260.24341805   -2.08955872\n",
      "  -35.3434322  -182.87633592  148.42425833  282.75868195  144.16085003]\n"
     ]
    }
   ],
   "source": [
    "sgd.fit(X_train , y_train) "
   ]
  },
  {
   "cell_type": "code",
   "execution_count": 14,
   "id": "1fa44778",
   "metadata": {},
   "outputs": [],
   "source": [
    "y_pred = sgd.predict(X_test) "
   ]
  },
  {
   "cell_type": "code",
   "execution_count": 15,
   "id": "e9d0ee2c",
   "metadata": {},
   "outputs": [],
   "source": [
    "# y_pred"
   ]
  },
  {
   "cell_type": "code",
   "execution_count": 16,
   "id": "6e4996f7",
   "metadata": {},
   "outputs": [
    {
     "data": {
      "text/plain": [
       "0.44596710561346575"
      ]
     },
     "execution_count": 16,
     "metadata": {},
     "output_type": "execute_result"
    }
   ],
   "source": [
    "r2_score(y_test , y_pred) "
   ]
  },
  {
   "cell_type": "markdown",
   "id": "3e03221a",
   "metadata": {},
   "source": [
    "# By the help of sklearn SGDRegressor "
   ]
  },
  {
   "cell_type": "code",
   "execution_count": 17,
   "id": "69ccf5d4",
   "metadata": {},
   "outputs": [],
   "source": [
    "from sklearn.linear_model import SGDRegressor "
   ]
  },
  {
   "cell_type": "code",
   "execution_count": 18,
   "id": "9499e4af",
   "metadata": {},
   "outputs": [],
   "source": [
    "reg = SGDRegressor(max_iter=60 , learning_rate = 'constant' , eta0 = 0.01) \n"
   ]
  },
  {
   "cell_type": "code",
   "execution_count": 19,
   "id": "741300e4",
   "metadata": {},
   "outputs": [
    {
     "name": "stderr",
     "output_type": "stream",
     "text": [
      "C:\\Users\\saurabh\\anaconda3\\lib\\site-packages\\sklearn\\linear_model\\_stochastic_gradient.py:1503: ConvergenceWarning: Maximum number of iteration reached before convergence. Consider increasing max_iter to improve the fit.\n",
      "  warnings.warn(\n"
     ]
    },
    {
     "data": {
      "text/plain": [
       "SGDRegressor(learning_rate='constant', max_iter=60)"
      ]
     },
     "execution_count": 19,
     "metadata": {},
     "output_type": "execute_result"
    }
   ],
   "source": [
    "reg.fit(X_train , y_train) "
   ]
  },
  {
   "cell_type": "code",
   "execution_count": 20,
   "id": "b8d287df",
   "metadata": {},
   "outputs": [],
   "source": [
    "y_pred = reg.predict(X_test) \n"
   ]
  },
  {
   "cell_type": "code",
   "execution_count": 21,
   "id": "56566603",
   "metadata": {},
   "outputs": [
    {
     "data": {
      "text/plain": [
       "0.4196359294656722"
      ]
     },
     "execution_count": 21,
     "metadata": {},
     "output_type": "execute_result"
    }
   ],
   "source": [
    "r2_score(y_test , y_pred) \n"
   ]
  },
  {
   "cell_type": "code",
   "execution_count": null,
   "id": "2a0e8bd7",
   "metadata": {},
   "outputs": [],
   "source": []
  },
  {
   "cell_type": "code",
   "execution_count": null,
   "id": "130603df",
   "metadata": {},
   "outputs": [],
   "source": [
    "\n"
   ]
  }
 ],
 "metadata": {
  "kernelspec": {
   "display_name": "Python 3 (ipykernel)",
   "language": "python",
   "name": "python3"
  },
  "language_info": {
   "codemirror_mode": {
    "name": "ipython",
    "version": 3
   },
   "file_extension": ".py",
   "mimetype": "text/x-python",
   "name": "python",
   "nbconvert_exporter": "python",
   "pygments_lexer": "ipython3",
   "version": "3.11.4"
  }
 },
 "nbformat": 4,
 "nbformat_minor": 5
}
