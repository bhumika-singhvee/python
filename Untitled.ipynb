{
 "cells": [
  {
   "cell_type": "code",
   "execution_count": 2,
   "id": "614c2fb9",
   "metadata": {},
   "outputs": [],
   "source": [
    "a=1.0\n",
    "print(size(a))"
   ]
  },
  {
   "cell_type": "code",
   "execution_count": 5,
   "id": "0b99ef51",
   "metadata": {},
   "outputs": [],
   "source": [
    "a=1.0\n",
    "print(lenght(a))"
   ]
  },
  {
   "cell_type": "code",
   "execution_count": 6,
   "id": "be121044",
   "metadata": {},
   "outputs": [],
   "source": [
    "a.itemsize"
   ]
  },
  {
   "cell_type": "code",
   "execution_count": null,
   "id": "afdc0d45",
   "metadata": {},
   "outputs": [],
   "source": []
  },
  {
   "cell_type": "code",
   "execution_count": null,
   "id": "92ce40d1",
   "metadata": {},
   "outputs": [],
   "source": []
  },
  {
   "cell_type": "code",
   "execution_count": null,
   "id": "e411bb09",
   "metadata": {},
   "outputs": [],
   "source": []
  }
 ],
 "metadata": {
  "kernelspec": {
   "display_name": "Python 3 (ipykernel)",
   "language": "python",
   "name": "python3"
  },
  "language_info": {
   "codemirror_mode": {
    "name": "ipython",
    "version": 3
   },
   "file_extension": ".py",
   "mimetype": "text/x-python",
   "name": "python",
   "nbconvert_exporter": "python",
   "pygments_lexer": "ipython3",
   "version": "3.10.11"
  }
 },
 "nbformat": 4,
 "nbformat_minor": 5
}
