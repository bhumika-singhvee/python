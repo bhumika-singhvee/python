{
 "cells": [
  {
   "cell_type": "code",
   "execution_count": 1,
   "id": "f540dccb",
   "metadata": {},
   "outputs": [],
   "source": [
    "import pandas as pd \n",
    "import numpy as np"
   ]
  },
  {
   "cell_type": "code",
   "execution_count": 11,
   "id": "f13382cf",
   "metadata": {},
   "outputs": [
    {
     "ename": "NameError",
     "evalue": "name 'Ridge' is not defined",
     "output_type": "error",
     "traceback": [
      "\u001b[1;31m---------------------------------------------------------------------------\u001b[0m",
      "\u001b[1;31mNameError\u001b[0m                                 Traceback (most recent call last)",
      "Cell \u001b[1;32mIn[11], line 6\u001b[0m\n\u001b[0;32m      4\u001b[0m alphas\u001b[38;5;241m=\u001b[39m[\u001b[38;5;241m0.1\u001b[39m,\u001b[38;5;241m1.0\u001b[39m,\u001b[38;5;241m10.0\u001b[39m]\n\u001b[0;32m      5\u001b[0m \u001b[38;5;66;03m#create ridge model\u001b[39;00m\n\u001b[1;32m----> 6\u001b[0m ridge\u001b[38;5;241m=\u001b[39mRidge()\n\u001b[0;32m      7\u001b[0m \u001b[38;5;66;03m#perform grid search to find best alpha\u001b[39;00m\n\u001b[0;32m      8\u001b[0m grid\u001b[38;5;241m=\u001b[39mGridSearchCV(ridge,param_grid\u001b[38;5;241m=\u001b[39m{\u001b[38;5;124m'\u001b[39m\u001b[38;5;124malpha\u001b[39m\u001b[38;5;124m'\u001b[39m:alphas},cv\u001b[38;5;241m=\u001b[39m\u001b[38;5;241m5\u001b[39m)\n",
      "\u001b[1;31mNameError\u001b[0m: name 'Ridge' is not defined"
     ]
    }
   ],
   "source": [
    "from sklearn.model_selection import GridSearchCV\n",
    "\n",
    "#define a range of alpha values\n",
    "alphas=[0.1,1.0,10.0]\n",
    "#create ridge model\n",
    "ridge=Ridge()\n",
    "#perform grid search to find best alpha\n",
    "grid=GridSearchCV(ridge,param_grid={'alpha':alphas},cv=5)\n",
    "grid.fit(X_train_scaled,y_train)\n",
    "#GET THE BEST ALPHA VALUE\n",
    "best_alpha=grid.best_params_['alpha']\n",
    "best_alpha"
   ]
  },
  {
   "cell_type": "code",
   "execution_count": 12,
   "id": "56b821cc",
   "metadata": {},
   "outputs": [],
   "source": [
    "import numpy as np\n"
   ]
  },
  {
   "cell_type": "code",
   "execution_count": 16,
   "id": "7095d14c",
   "metadata": {},
   "outputs": [],
   "source": [
    "from sklearn.metrics import mean_squared_error"
   ]
  },
  {
   "cell_type": "code",
   "execution_count": 17,
   "id": "85408e71",
   "metadata": {},
   "outputs": [],
   "source": [
    "np.random.seed(42)\n",
    "X=np.random.rand(100,5)\n",
    "y=2*X[:,0]+3*X[:,1]-5*X[:,2]+np.random.randn(100)"
   ]
  },
  {
   "cell_type": "code",
   "execution_count": 18,
   "id": "263a338a",
   "metadata": {},
   "outputs": [],
   "source": [
    "from sklearn.model_selection import train_test_split"
   ]
  },
  {
   "cell_type": "code",
   "execution_count": 24,
   "id": "21be9034",
   "metadata": {},
   "outputs": [],
   "source": [
    "X_train,X_test,y_train,y_test = train_test_split(X,y,test_size=0.2  , random_state=42)"
   ]
  },
  {
   "cell_type": "code",
   "execution_count": 26,
   "id": "cd13fdd8",
   "metadata": {},
   "outputs": [],
   "source": [
    "from sklearn.preprocessing import StandardScaler"
   ]
  },
  {
   "cell_type": "code",
   "execution_count": 27,
   "id": "a33319d9",
   "metadata": {},
   "outputs": [],
   "source": [
    "sc=StandardScaler()"
   ]
  },
  {
   "cell_type": "code",
   "execution_count": null,
   "id": "ea5252cc",
   "metadata": {},
   "outputs": [],
   "source": [
    "from sklearn"
   ]
  }
 ],
 "metadata": {
  "kernelspec": {
   "display_name": "Python 3 (ipykernel)",
   "language": "python",
   "name": "python3"
  },
  "language_info": {
   "codemirror_mode": {
    "name": "ipython",
    "version": 3
   },
   "file_extension": ".py",
   "mimetype": "text/x-python",
   "name": "python",
   "nbconvert_exporter": "python",
   "pygments_lexer": "ipython3",
   "version": "3.11.4"
  }
 },
 "nbformat": 4,
 "nbformat_minor": 5
}
