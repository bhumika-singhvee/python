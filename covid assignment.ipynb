{
 "cells": [
  {
   "cell_type": "code",
   "execution_count": 1,
   "id": "0f862fe7",
   "metadata": {},
   "outputs": [],
   "source": [
    "import pandas as pd"
   ]
  },
  {
   "cell_type": "code",
   "execution_count": null,
   "id": "95e37c7c",
   "metadata": {},
   "outputs": [],
   "source": [
    "df=pd.read_csv(\"C:\\\\Users\\\\User\\\\Desktop\\\\covid_toy.csv\")"
   ]
  },
  {
   "cell_type": "code",
   "execution_count": null,
   "id": "a2861a77",
   "metadata": {},
   "outputs": [],
   "source": [
    "df"
   ]
  },
  {
   "cell_type": "code",
   "execution_count": null,
   "id": "bd3f4f4b",
   "metadata": {},
   "outputs": [],
   "source": [
    "df.head()"
   ]
  },
  {
   "cell_type": "code",
   "execution_count": 5,
   "id": "b66d85ea",
   "metadata": {},
   "outputs": [],
   "source": [
    "df.tail()"
   ]
  },
  {
   "cell_type": "code",
   "execution_count": 6,
   "id": "eb668297",
   "metadata": {},
   "outputs": [],
   "source": [
    "df.sample()"
   ]
  },
  {
   "cell_type": "code",
   "execution_count": 7,
   "id": "07ac278d",
   "metadata": {},
   "outputs": [],
   "source": [
    "df.info()"
   ]
  },
  {
   "cell_type": "code",
   "execution_count": 8,
   "id": "e93ba68d",
   "metadata": {},
   "outputs": [],
   "source": [
    "df.describe()"
   ]
  },
  {
   "cell_type": "code",
   "execution_count": 9,
   "id": "5e4eea09",
   "metadata": {},
   "outputs": [],
   "source": [
    "a=df.iloc[ 8:10]\n",
    "a"
   ]
  },
  {
   "cell_type": "code",
   "execution_count": 10,
   "id": "1eb2f591",
   "metadata": {},
   "outputs": [],
   "source": [
    "b=df.axes\n",
    "b"
   ]
  },
  {
   "cell_type": "code",
   "execution_count": 11,
   "id": "6db98876",
   "metadata": {},
   "outputs": [],
   "source": [
    "c=df.dtypes\n",
    "c"
   ]
  },
  {
   "cell_type": "code",
   "execution_count": 12,
   "id": "894f7f71",
   "metadata": {},
   "outputs": [],
   "source": [
    "c=df.empty\n",
    "c"
   ]
  },
  {
   "cell_type": "code",
   "execution_count": 13,
   "id": "1267eef0",
   "metadata": {},
   "outputs": [],
   "source": [
    "c=df.ndim\n",
    "c"
   ]
  },
  {
   "cell_type": "code",
   "execution_count": 14,
   "id": "32ec1ac4",
   "metadata": {},
   "outputs": [],
   "source": [
    "a=df.size\n",
    "a\n"
   ]
  },
  {
   "cell_type": "code",
   "execution_count": 15,
   "id": "43941fa3",
   "metadata": {},
   "outputs": [],
   "source": [
    "a=df.values\n",
    "a"
   ]
  },
  {
   "cell_type": "code",
   "execution_count": 16,
   "id": "df3721f4",
   "metadata": {},
   "outputs": [],
   "source": [
    "a=df.sort_values(by=\"age\")\n",
    "a"
   ]
  },
  {
   "cell_type": "code",
   "execution_count": 17,
   "id": "6b188c55",
   "metadata": {},
   "outputs": [],
   "source": [
    "c=df.sort_index()\n",
    "c"
   ]
  },
  {
   "cell_type": "code",
   "execution_count": 18,
   "id": "02538955",
   "metadata": {},
   "outputs": [],
   "source": [
    "s=df.count()\n",
    "s"
   ]
  },
  {
   "cell_type": "code",
   "execution_count": 19,
   "id": "7384365d",
   "metadata": {},
   "outputs": [],
   "source": [
    "s=df.max()\n",
    "s"
   ]
  },
  {
   "cell_type": "code",
   "execution_count": 20,
   "id": "cd7cd5ff",
   "metadata": {},
   "outputs": [],
   "source": [
    "c=df.mean()\n",
    "c\n"
   ]
  },
  {
   "cell_type": "code",
   "execution_count": null,
   "id": "5b22ea8d",
   "metadata": {},
   "outputs": [],
   "source": [
    "s=df.filter(items=['fever','age'])\n",
    "s"
   ]
  },
  {
   "cell_type": "code",
   "execution_count": null,
   "id": "14f53d13",
   "metadata": {},
   "outputs": [],
   "source": [
    "df=df['age'][2:10]=56"
   ]
  },
  {
   "cell_type": "code",
   "execution_count": null,
   "id": "5e485c82",
   "metadata": {},
   "outputs": [],
   "source": [
    "s=df.filter(items=[5,6] ,axis=0)\n",
    "s"
   ]
  },
  {
   "cell_type": "code",
   "execution_count": null,
   "id": "5a5a8d32",
   "metadata": {},
   "outputs": [],
   "source": [
    "s=df.filter(like=5 , axis=1)"
   ]
  },
  {
   "cell_type": "code",
   "execution_count": null,
   "id": "f0368e5c",
   "metadata": {},
   "outputs": [],
   "source": [
    "a=df.rows[1]"
   ]
  },
  {
   "cell_type": "code",
   "execution_count": null,
   "id": "1d0a913e",
   "metadata": {},
   "outputs": [],
   "source": [
    "df=pd.read_csv(\"C:\\\\Users\\\\User\\\\Desktop\\\\covid_toy.csv\")"
   ]
  },
  {
   "cell_type": "code",
   "execution_count": null,
   "id": "1145a797",
   "metadata": {},
   "outputs": [],
   "source": [
    "df"
   ]
  },
  {
   "cell_type": "code",
   "execution_count": null,
   "id": "99ae1e6b",
   "metadata": {},
   "outputs": [],
   "source": [
    "a=df.columns[1]\n",
    "a"
   ]
  },
  {
   "cell_type": "code",
   "execution_count": null,
   "id": "6cff9539",
   "metadata": {},
   "outputs": [],
   "source": [
    "q = df.columns.values    \n",
    "q"
   ]
  },
  {
   "cell_type": "code",
   "execution_count": null,
   "id": "4e644a15",
   "metadata": {},
   "outputs": [],
   "source": [
    "a=df.rename(columns={'age':'years','has_covid':\"covid_test\"})\n",
    "a"
   ]
  },
  {
   "cell_type": "code",
   "execution_count": null,
   "id": "f2b19d83",
   "metadata": {},
   "outputs": [],
   "source": [
    "df['senior']=df['age'].where(df['age']>50 ,other=0)\n",
    "df"
   ]
  },
  {
   "cell_type": "code",
   "execution_count": null,
   "id": "12d5dd92",
   "metadata": {},
   "outputs": [],
   "source": [
    "new={'age':56,'gender':'female','fever':101.5,'cough':'strong','city':'Delhi','has_covid':'yes'}\n",
    "df1=df.append(new,ignore_index='True')\n",
    "df1"
   ]
  },
  {
   "cell_type": "code",
   "execution_count": null,
   "id": "5db10a97",
   "metadata": {},
   "outputs": [],
   "source": [
    "list = [56, \"female\", 101.5, \"strong\",\"Delhi\",'yes',56]\n",
    "df.loc[len(df)] = list\n",
    "print(df)\n"
   ]
  },
  {
   "cell_type": "code",
   "execution_count": null,
   "id": "017bce46",
   "metadata": {},
   "outputs": [],
   "source": [
    "city_counts=a.grouphy(['city' ,'has_covid']).size().unstack(fill_values=0)"
   ]
  },
  {
   "cell_type": "code",
   "execution_count": null,
   "id": "1fed8cc1",
   "metadata": {},
   "outputs": [],
   "source": [
    "import pandas as pd"
   ]
  },
  {
   "cell_type": "code",
   "execution_count": null,
   "id": "5c07bdbb",
   "metadata": {},
   "outputs": [],
   "source": [
    "df=pd.read_csv(\"C:\\\\Users\\\\User\\\\Desktop\\\\covid_toy.csv\")"
   ]
  },
  {
   "cell_type": "code",
   "execution_count": null,
   "id": "30bee70d",
   "metadata": {},
   "outputs": [],
   "source": [
    "df"
   ]
  },
  {
   "cell_type": "code",
   "execution_count": null,
   "id": "af082bdd",
   "metadata": {},
   "outputs": [],
   "source": []
  }
 ],
 "metadata": {
  "kernelspec": {
   "display_name": "Python 3 (ipykernel)",
   "language": "python",
   "name": "python3"
  },
  "language_info": {
   "codemirror_mode": {
    "name": "ipython",
    "version": 3
   },
   "file_extension": ".py",
   "mimetype": "text/x-python",
   "name": "python",
   "nbconvert_exporter": "python",
   "pygments_lexer": "ipython3",
   "version": "3.11.4"
  }
 },
 "nbformat": 4,
 "nbformat_minor": 5
}
