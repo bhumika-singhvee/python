{
 "cells": [
  {
   "cell_type": "code",
   "execution_count": 2,
   "id": "50385c1a",
   "metadata": {},
   "outputs": [],
   "source": [
    "import numpy as np\n",
    "import cv2\n",
    "\n"
   ]
  },
  {
   "cell_type": "code",
   "execution_count": 3,
   "id": "6b21c280",
   "metadata": {},
   "outputs": [
    {
     "name": "stdout",
     "output_type": "stream",
     "text": [
      "Image captured!\n"
     ]
    }
   ],
   "source": [
    "cap = cv2.VideoCapture(0)  # Open the default camera (usually the built-in webcam)\n",
    "\n",
    "while True:\n",
    "    ret, frame = cap.read()  # Read a frame from the camera\n",
    "\n",
    "    if not ret:\n",
    "        break  # If there's no frame, exit the loop\n",
    "\n",
    "    frame = cv2.resize(frame, (400, 300))\n",
    "    gray = cv2.cvtColor(frame, cv2.COLOR_BGR2GRAY)\n",
    "\n",
    "    cv2.imshow('frame', frame)\n",
    "    cv2.imshow('gray', gray)\n",
    "\n",
    "    key = cv2.waitKey(1)\n",
    "\n",
    "    if key & 0xFF == ord('q'):\n",
    "        break\n",
    "    elif key & 0xFF == ord('s'):  # Press 's' to capture a picture\n",
    "        cv2.imwrite(\"C:/Users/User/Downloads/captured_image.jpg\", frame)\n",
    "\n",
    "        print(\"Image captured!\")\n",
    "\n",
    "cap.release()  # Release the camera\n",
    "cv2.destroyAllWindows()  # Close all OpenCV windows"
   ]
  },
  {
   "cell_type": "code",
   "execution_count": null,
   "id": "80859509",
   "metadata": {},
   "outputs": [],
   "source": []
  }
 ],
 "metadata": {
  "kernelspec": {
   "display_name": "Python 3 (ipykernel)",
   "language": "python",
   "name": "python3"
  },
  "language_info": {
   "codemirror_mode": {
    "name": "ipython",
    "version": 3
   },
   "file_extension": ".py",
   "mimetype": "text/x-python",
   "name": "python",
   "nbconvert_exporter": "python",
   "pygments_lexer": "ipython3",
   "version": "3.11.4"
  }
 },
 "nbformat": 4,
 "nbformat_minor": 5
}
