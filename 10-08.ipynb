{
 "cells": [
  {
   "cell_type": "code",
   "execution_count": 1,
   "id": "a8289275",
   "metadata": {},
   "outputs": [
    {
     "name": "stdout",
     "output_type": "stream",
     "text": [
      "80\n"
     ]
    }
   ],
   "source": [
    "a=10\n",
    "b=20\n",
    "c=30\n",
    "d=80\n",
    "if(a>b):\n",
    "    if(a>c):\n",
    "        if(a>d):\n",
    "            print(a)\n",
    "        else:\n",
    "            print(d)\n",
    "    else:\n",
    "        if(c>d):\n",
    "            print(c)\n",
    "        else:\n",
    "            print(d)\n",
    "            \n",
    "else:\n",
    "    if(b>c):\n",
    "        if(b>d):\n",
    "            print(b)\n",
    "        else:\n",
    "            print(d)\n",
    "    else:       \n",
    "        if(c>d):\n",
    "            print(c)\n",
    "        else:\n",
    "            print(d)\n",
    "        \n",
    "                        \n",
    "            \n",
    "            \n",
    "\n"
   ]
  },
  {
   "cell_type": "code",
   "execution_count": 3,
   "id": "78be2718",
   "metadata": {},
   "outputs": [],
   "source": [
    "a=10\n",
    "b=20\n",
    "c=30\n",
    "d=80\n",
    "if(a>b):\n",
    "    if(a>c):\n",
    "        if(a>d):\n",
    "            print(\"a is greater\")\n",
    "elif(b>a):\n",
    "    if(b>c):\n",
    "        if(b>d):\n",
    "            print(\"b is greater\")\n",
    "elif(c>a):\n",
    "    if(c>b):\n",
    "        if(c>d):\n",
    "            print(\"c is greater\")\n",
    "elif(d>a):\n",
    "    if(d>b):\n",
    "        if(d>c):\n",
    "            print(\"d is greater\")"
   ]
  },
  {
   "cell_type": "code",
   "execution_count": 11,
   "id": "239e3e2a",
   "metadata": {},
   "outputs": [
    {
     "ename": "IndentationError",
     "evalue": "expected an indented block after 'if' statement on line 12 (1816734424.py, line 13)",
     "output_type": "error",
     "traceback": [
      "\u001b[1;36m  Cell \u001b[1;32mIn[11], line 13\u001b[1;36m\u001b[0m\n\u001b[1;33m    if(b>d):\u001b[0m\n\u001b[1;37m    ^\u001b[0m\n\u001b[1;31mIndentationError\u001b[0m\u001b[1;31m:\u001b[0m expected an indented block after 'if' statement on line 12\n"
     ]
    }
   ],
   "source": [
    "a=10\n",
    "b=20\n",
    "c=30\n",
    "d=80\n",
    "if(a>b):\n",
    "    if(a>c):\n",
    "        if(a>d):\n",
    "            print(\"a is greater\")\n",
    "        else:\n",
    "            print(d)\n",
    "    else:\n",
    "        if(b>c):\n",
    "        if(b>d):\n",
    "            print(\"b is greater\")\n",
    "elif(c>a):\n",
    "    if(c>b):\n",
    "        if(c>d):\n",
    "            print(\"c is greater\")\n",
    "elif(d>a):\n",
    "    if(d>b):\n",
    "        if(d>c):\n",
    "            print(\"d is greater\")"
   ]
  },
  {
   "cell_type": "code",
   "execution_count": 13,
   "id": "50fa5320",
   "metadata": {},
   "outputs": [
    {
     "name": "stdout",
     "output_type": "stream",
     "text": [
      "[0, 2, 4, 6, 8, 10, 12, 14, 16, 18, 20, 22, 24, 26, 28, 30, 32, 34, 36, 38, 40, 42, 44, 46, 48]\n",
      "[1, 3, 5, 7, 9, 11, 13, 15, 17, 19, 21, 23, 25, 27, 29, 31, 33, 35, 37, 39, 41, 43, 45, 47, 49]\n"
     ]
    }
   ],
   "source": [
    "even=[]\n",
    "odd=[]\n",
    "for i in range(0,50):\n",
    "    if(i%2==0):\n",
    "        even.append(i)\n",
    "       \n",
    "    else:\n",
    "        odd.append(i)\n",
    "print(even)\n",
    "print(odd)"
   ]
  },
  {
   "cell_type": "code",
   "execution_count": 2,
   "id": "999491d3",
   "metadata": {},
   "outputs": [
    {
     "name": "stdout",
     "output_type": "stream",
     "text": [
      "[2, 4, 6, 8, 10, 12, 14, 16, 18, 20, 22, 24, 26, 28, 30, 32, 34, 36, 38, 40, 42, 44, 46, 48]\n",
      "[1, 3, 5, 7, 9, 11, 13, 15, 17, 19, 21, 23, 25, 27, 29, 31, 33, 35, 37, 39, 41, 43, 45, 47, 49]\n"
     ]
    }
   ],
   "source": [
    "even=[]\n",
    "odd=[]\n",
    "for i in range(2,50,2):\n",
    "    even.append(i)\n",
    "for i in range(1,50,2):\n",
    "    odd.append(i)\n",
    "print(even)    \n",
    "print(odd)"
   ]
  },
  {
   "cell_type": "code",
   "execution_count": null,
   "id": "b4c2fa8d",
   "metadata": {},
   "outputs": [],
   "source": [
    "sal=int(input(\"enter salary\"))\n",
    "year=int(input(\"enter year\"))\n",
    "work=(2023-year)\n",
    "bonus=sal*5/100\n",
    "if(work>=5):\n",
    "    print(\"your net bonus:\",bonus)\n",
    "else:\n",
    "    print(\"you are not applicable for bonus\")"
   ]
  },
  {
   "cell_type": "code",
   "execution_count": null,
   "id": "28f8e96a",
   "metadata": {},
   "outputs": [],
   "source": [
    "print(\"enter length\")\n",
    "l=int(input())\n",
    "print(\"enter breadth\")\n",
    "b=int(input())\n",
    "if(l==b):\n",
    "    print(\"it is a square\")\n",
    "else:\n",
    "    print(\"it is not a square\")"
   ]
  },
  {
   "cell_type": "code",
   "execution_count": null,
   "id": "6e5e900d",
   "metadata": {},
   "outputs": [],
   "source": [
    "a=int(input(\"enter total no. of class:\"))\n",
    "b=int(input(\"enter no. of class attended:\"))\n",
    "c=b/a*100\n",
    "print(\"perentage of classes you attended\",c)\n",
    "a=input(\"hpliday is due to medical reason, enter yes or no\")\n",
    "if(a==yes):\n",
    "if(c>=75):\n",
    "    print(\"student is allowed to sit in exam\")   \n",
    "if()    \n",
    "else:\n",
    "    print(\"student is allowed not to sit in exam\")\n",
    "    \n",
    "    "
   ]
  },
  {
   "cell_type": "code",
   "execution_count": null,
   "id": "21eaf7a2",
   "metadata": {},
   "outputs": [],
   "source": []
  },
  {
   "cell_type": "code",
   "execution_count": null,
   "id": "4cb26756",
   "metadata": {},
   "outputs": [],
   "source": []
  }
 ],
 "metadata": {
  "kernelspec": {
   "display_name": "Python 3 (ipykernel)",
   "language": "python",
   "name": "python3"
  },
  "language_info": {
   "codemirror_mode": {
    "name": "ipython",
    "version": 3
   },
   "file_extension": ".py",
   "mimetype": "text/x-python",
   "name": "python",
   "nbconvert_exporter": "python",
   "pygments_lexer": "ipython3",
   "version": "3.10.11"
  }
 },
 "nbformat": 4,
 "nbformat_minor": 5
}
