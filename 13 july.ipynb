{
 "cells": [
  {
   "cell_type": "code",
   "execution_count": 12,
   "id": "71968080",
   "metadata": {},
   "outputs": [
    {
     "name": "stdout",
     "output_type": "stream",
     "text": [
      "****\n",
      "***\n",
      "**\n",
      "*\n"
     ]
    }
   ],
   "source": [
    "for outerloop in range(1,5):\n",
    "    for innerloop in range(4,outerloop-1,-1):\n",
    "        print(\"*\",end=\"\")\n",
    "    print(\"\")    "
   ]
  },
  {
   "cell_type": "code",
   "execution_count": 49,
   "id": "d99915d0",
   "metadata": {},
   "outputs": [
    {
     "name": "stdout",
     "output_type": "stream",
     "text": [
      "*\n",
      "**\n",
      "***\n",
      "****\n",
      "*****\n"
     ]
    }
   ],
   "source": [
    "for n in range(2,):\n",
    "    for m in range(0,n,):\n",
    "        print(\"*\",end=\"\")\n",
    "    print(\"\")"
   ]
  },
  {
   "cell_type": "code",
   "execution_count": 75,
   "id": "ae5493db",
   "metadata": {},
   "outputs": [
    {
     "name": "stdout",
     "output_type": "stream",
     "text": [
      "12\n",
      "123\n",
      "1234\n",
      "12345\n"
     ]
    }
   ],
   "source": [
    "#1\n",
    "for i in range(4):\n",
    "    for j in range(0,i+2):\n",
    "        print(j+1,end=\"\")\n",
    "    print(\"\")"
   ]
  },
  {
   "cell_type": "code",
   "execution_count": 95,
   "id": "4b90a779",
   "metadata": {},
   "outputs": [
    {
     "name": "stdout",
     "output_type": "stream",
     "text": [
      "1\r\n",
      "23\r\n",
      "456\r\n",
      "78910\r\n"
     ]
    }
   ],
   "source": [
    "#2\n",
    "num=1\n",
    "for i in range(4):\n",
    "    for j in range(0,i+1):\n",
    "        print(num,end=\"\")\n",
    "        num=num+1\n",
    "    print(\"\\r\")"
   ]
  },
  {
   "cell_type": "code",
   "execution_count": 96,
   "id": "cbe458d8",
   "metadata": {},
   "outputs": [
    {
     "name": "stdout",
     "output_type": "stream",
     "text": [
      "A\r\n",
      "BC\r\n",
      "DEF\r\n",
      "GHIJ\r\n"
     ]
    }
   ],
   "source": [
    "num=65\n",
    "for i in range(4):\n",
    "    for j in range(0,i+1):\n",
    "        ch=chr(num)\n",
    "        print(ch,end=\"\")\n",
    "        num=num+1\n",
    "    print(\"\\r\")"
   ]
  },
  {
   "cell_type": "code",
   "execution_count": 9,
   "id": "a842e346",
   "metadata": {},
   "outputs": [
    {
     "name": "stdout",
     "output_type": "stream",
     "text": [
      "#\n",
      "##\n",
      "###\n",
      "####\n"
     ]
    }
   ],
   "source": [
    "for i in range(4):\n",
    "    for j in range(i+1):\n",
    "        print(\"#\",end=\"\")\n",
    "    print()  \n",
    "        "
   ]
  },
  {
   "cell_type": "code",
   "execution_count": null,
   "id": "c3a64f78",
   "metadata": {},
   "outputs": [],
   "source": [
    "for i in range(5):\n",
    "    for j in range(i):\n",
    "        print(\"\",end=\"\")\n",
    "    for k in range(5-i):\n",
    "        print(\"ABCDE\"[k],end=\"\")\n",
    "    print(\"\\r\")\n",
    "        "
   ]
  },
  {
   "cell_type": "code",
   "execution_count": 13,
   "id": "4e573091",
   "metadata": {},
   "outputs": [
    {
     "name": "stdout",
     "output_type": "stream",
     "text": [
      "[10, 20, 'a', 'b', 'c', 30]\n"
     ]
    }
   ],
   "source": [
    "list=[10,20,\"a\",\"b\",\"c\",30]\n",
    "print(list)"
   ]
  },
  {
   "cell_type": "code",
   "execution_count": 14,
   "id": "b9d5278a",
   "metadata": {},
   "outputs": [
    {
     "name": "stdout",
     "output_type": "stream",
     "text": [
      "<class 'list'>\n"
     ]
    }
   ],
   "source": [
    "list=[10,20,\"a\",\"b\",\"c\",30]\n",
    "print(type(list))\n"
   ]
  },
  {
   "cell_type": "code",
   "execution_count": 15,
   "id": "d9f4d04b",
   "metadata": {},
   "outputs": [
    {
     "name": "stdout",
     "output_type": "stream",
     "text": [
      "[10, 20, 'a', 'b', 'c', 30]\n"
     ]
    },
    {
     "data": {
      "text/plain": [
       "[10, 20]"
      ]
     },
     "execution_count": 15,
     "metadata": {},
     "output_type": "execute_result"
    }
   ],
   "source": [
    "list=[10,20,\"a\",\"b\",\"c\",30]\n",
    "print(list)\n",
    "list[0:2]"
   ]
  },
  {
   "cell_type": "code",
   "execution_count": 16,
   "id": "1a818243",
   "metadata": {},
   "outputs": [
    {
     "name": "stdout",
     "output_type": "stream",
     "text": [
      "[10, 20, 'a', 'b', 'c', 30]\n"
     ]
    },
    {
     "data": {
      "text/plain": [
       "[10, 20, 'a', 'b', 'c', 30]"
      ]
     },
     "execution_count": 16,
     "metadata": {},
     "output_type": "execute_result"
    }
   ],
   "source": [
    "list=[10,20,\"a\",\"b\",\"c\",30]\n",
    "print(list)\n",
    "list[::1]"
   ]
  },
  {
   "cell_type": "code",
   "execution_count": 17,
   "id": "17dcb7f4",
   "metadata": {},
   "outputs": [
    {
     "name": "stdout",
     "output_type": "stream",
     "text": [
      "[10, 20, 'a', 'b', 'c', 30]\n"
     ]
    },
    {
     "data": {
      "text/plain": [
       "[30, 'c', 'b', 'a', 20, 10]"
      ]
     },
     "execution_count": 17,
     "metadata": {},
     "output_type": "execute_result"
    }
   ],
   "source": [
    "list=[10,20,\"a\",\"b\",\"c\",30]\n",
    "print(list)\n",
    "list[::-1]"
   ]
  },
  {
   "cell_type": "code",
   "execution_count": 20,
   "id": "97e6bab1",
   "metadata": {},
   "outputs": [
    {
     "name": "stdout",
     "output_type": "stream",
     "text": [
      "[10, 20, 'a', 'b', 'c', 30]\n"
     ]
    },
    {
     "data": {
      "text/plain": [
       "[30, 'c', 'b', 'a', 20]"
      ]
     },
     "execution_count": 20,
     "metadata": {},
     "output_type": "execute_result"
    }
   ],
   "source": [
    "list=[10,20,\"a\",\"b\",\"c\",30]\n",
    "print(list)\n",
    "list[:0:-1]"
   ]
  },
  {
   "cell_type": "code",
   "execution_count": 26,
   "id": "c50c9ab6",
   "metadata": {},
   "outputs": [
    {
     "ename": "IndentationError",
     "evalue": "unexpected indent (4004824673.py, line 4)",
     "output_type": "error",
     "traceback": [
      "\u001b[1;36m  Cell \u001b[1;32mIn[26], line 4\u001b[1;36m\u001b[0m\n\u001b[1;33m    print(type(list))\u001b[0m\n\u001b[1;37m    ^\u001b[0m\n\u001b[1;31mIndentationError\u001b[0m\u001b[1;31m:\u001b[0m unexpected indent\n"
     ]
    }
   ],
   "source": [
    "list=[10,20,\"a\",\"b\",\"c\",30]\n",
    "print(list)\n",
    "print(tuple(list))\n",
    "    print(type(list))"
   ]
  },
  {
   "cell_type": "code",
   "execution_count": 20,
   "id": "25cfc41c",
   "metadata": {},
   "outputs": [
    {
     "name": "stdout",
     "output_type": "stream",
     "text": [
      "int_list= [1, 22, 44, 78, 11]\n",
      "str_list= ['e']\n"
     ]
    }
   ],
   "source": [
    "my_list=[1,'a',22,'b',44,'c',78,'d',11,'e']\n",
    "int_list=[]      \n",
    "str_list=[]\n",
    "for item in my_list:\n",
    "      if type(item)==int:\n",
    "        int_list.append(item)\n",
    "else:\n",
    "        str_list.append(item)\n",
    "print(\"int_list=\",int_list)\n",
    "print(\"str_list=\",str_list)\n",
    "\n",
    "     "
   ]
  },
  {
   "cell_type": "code",
   "execution_count": null,
   "id": "f4bc6e19",
   "metadata": {},
   "outputs": [],
   "source": [
    "d=['a','b','c',10,15,20]\n",
    "for item in d:\n",
    "      if type(item)==int:\n",
    "            d.append(item*item)\n",
    "            print(d)\n",
    "\n"
   ]
  },
  {
   "cell_type": "code",
   "execution_count": null,
   "id": "a4a185d0",
   "metadata": {},
   "outputs": [],
   "source": [
    "if i in range(1,4):\n",
    "    count=45\n",
    "    count+=i\n",
    "print(count)    "
   ]
  },
  {
   "cell_type": "code",
   "execution_count": null,
   "id": "90e4d7e9",
   "metadata": {},
   "outputs": [],
   "source": [
    "for i in range(1,5):\n",
    "    for j in range(2,i*2):\n",
    "        print(\"*\",end=\"\")\n",
    "        print(\"\")\n",
    "        "
   ]
  },
  {
   "cell_type": "code",
   "execution_count": null,
   "id": "96f126b9",
   "metadata": {},
   "outputs": [],
   "source": [
    "for n in range(5):\n",
    "    for m in range(0,n*2):\n",
    "        print(\"*\",end=\"\")\n",
    "    print(\"\")"
   ]
  },
  {
   "cell_type": "code",
   "execution_count": null,
   "id": "31be3904",
   "metadata": {},
   "outputs": [],
   "source": []
  }
 ],
 "metadata": {
  "kernelspec": {
   "display_name": "Python 3 (ipykernel)",
   "language": "python",
   "name": "python3"
  },
  "language_info": {
   "codemirror_mode": {
    "name": "ipython",
    "version": 3
   },
   "file_extension": ".py",
   "mimetype": "text/x-python",
   "name": "python",
   "nbconvert_exporter": "python",
   "pygments_lexer": "ipython3",
   "version": "3.10.11"
  }
 },
 "nbformat": 4,
 "nbformat_minor": 5
}
