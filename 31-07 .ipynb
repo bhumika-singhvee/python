{
 "cells": [
  {
   "cell_type": "code",
   "execution_count": 2,
   "id": "dd0170bf",
   "metadata": {},
   "outputs": [
    {
     "name": "stdout",
     "output_type": "stream",
     "text": [
      "hello world!\n",
      "BHUMIKA SINGHVEE\n"
     ]
    }
   ],
   "source": [
    "print(\"hello world!\")\n",
    "print(\"BHUMIKA SINGHVEE\")"
   ]
  },
  {
   "cell_type": "code",
   "execution_count": 3,
   "id": "dd179e60",
   "metadata": {},
   "outputs": [
    {
     "name": "stdout",
     "output_type": "stream",
     "text": [
      "hello world! BHUMIKA SINGHVEE\n"
     ]
    }
   ],
   "source": [
    "print(\"hello world!\",end=\" \")\n",
    "print(\"BHUMIKA SINGHVEE\")"
   ]
  },
  {
   "cell_type": "code",
   "execution_count": 4,
   "id": "71c4f508",
   "metadata": {},
   "outputs": [
    {
     "name": "stdout",
     "output_type": "stream",
     "text": [
      "hello world!\n",
      "BHUMIKA SINGHVEE here!\n"
     ]
    }
   ],
   "source": [
    "print(\"hello world!\")\n",
    "print(\"BHUMIKA SINGHVEE\",\"here!\")"
   ]
  },
  {
   "cell_type": "code",
   "execution_count": 5,
   "id": "76e25740",
   "metadata": {},
   "outputs": [
    {
     "name": "stdout",
     "output_type": "stream",
     "text": [
      "hello world!\n",
      "BHUMIKA SINGHVEE--bhumi\n"
     ]
    }
   ],
   "source": [
    "print(\"hello world!\")\n",
    "print(\"BHUMIKA SINGHVEE\",\"bhumi\",sep=\"--\")"
   ]
  },
  {
   "cell_type": "code",
   "execution_count": 6,
   "id": "1a8ccce6",
   "metadata": {},
   "outputs": [
    {
     "name": "stdout",
     "output_type": "stream",
     "text": [
      "<class 'float'>\n"
     ]
    }
   ],
   "source": [
    "x=15.5\n",
    "print(type(x))"
   ]
  },
  {
   "cell_type": "code",
   "execution_count": 7,
   "id": "de9be8f4",
   "metadata": {},
   "outputs": [
    {
     "name": "stdout",
     "output_type": "stream",
     "text": [
      "15.5\n"
     ]
    }
   ],
   "source": [
    "print(x)"
   ]
  },
  {
   "cell_type": "code",
   "execution_count": 8,
   "id": "10057e9a",
   "metadata": {},
   "outputs": [
    {
     "name": "stdout",
     "output_type": "stream",
     "text": [
      "age 10 company regex\n"
     ]
    }
   ],
   "source": [
    "age=10\n",
    "company=\"regex\"\n",
    "print(\"age\",age,\"company\",company)\n"
   ]
  },
  {
   "cell_type": "code",
   "execution_count": 9,
   "id": "64f714ba",
   "metadata": {},
   "outputs": [
    {
     "name": "stdout",
     "output_type": "stream",
     "text": [
      "age10companyregex\n"
     ]
    }
   ],
   "source": [
    "age=10\n",
    "company=\"regex\"\n",
    "print(f\"age{age}company{company}\")"
   ]
  },
  {
   "cell_type": "code",
   "execution_count": 11,
   "id": "9b815066",
   "metadata": {},
   "outputs": [
    {
     "name": "stdout",
     "output_type": "stream",
     "text": [
      "2240101156336\n"
     ]
    }
   ],
   "source": [
    "fname=\"singhvee\"\n",
    "print(id(fname))"
   ]
  },
  {
   "cell_type": "code",
   "execution_count": 12,
   "id": "059a421f",
   "metadata": {},
   "outputs": [
    {
     "name": "stdout",
     "output_type": "stream",
     "text": [
      "hello userbhumika\n",
      "hello userbhumika\n"
     ]
    }
   ],
   "source": [
    "un=\"bhumika\"\n",
    "msg=f\"hello user{un}\"\n",
    "print(msg)\n",
    "un=\"bhumi\"\n",
    "print(msg)\n"
   ]
  },
  {
   "cell_type": "code",
   "execution_count": 15,
   "id": "97ed35ed",
   "metadata": {},
   "outputs": [
    {
     "name": "stdout",
     "output_type": "stream",
     "text": [
      "hey10 bhumika 20\n"
     ]
    }
   ],
   "source": [
    "#place holder\n",
    "x=10\n",
    "y=20\n",
    "print(\"hey{} bhumika {}\".format(x,y))"
   ]
  },
  {
   "cell_type": "code",
   "execution_count": 17,
   "id": "897d0d4d",
   "metadata": {},
   "outputs": [
    {
     "data": {
      "text/plain": [
       "'aja'"
      ]
     },
     "execution_count": 17,
     "metadata": {},
     "output_type": "execute_result"
    }
   ],
   "source": [
    "a=\"rajasthan\"\n",
    "a[1:4]"
   ]
  },
  {
   "cell_type": "code",
   "execution_count": 18,
   "id": "c50253a9",
   "metadata": {},
   "outputs": [
    {
     "data": {
      "text/plain": [
       "''"
      ]
     },
     "execution_count": 18,
     "metadata": {},
     "output_type": "execute_result"
    }
   ],
   "source": [
    "a=\"rajasthan\"\n",
    "a[0:4:-1]"
   ]
  },
  {
   "cell_type": "code",
   "execution_count": 19,
   "id": "2f50b6fe",
   "metadata": {},
   "outputs": [
    {
     "data": {
      "text/plain": [
       "''"
      ]
     },
     "execution_count": 19,
     "metadata": {},
     "output_type": "execute_result"
    }
   ],
   "source": [
    "a=\"rajasthan\"\n",
    "a[0:4:-3]"
   ]
  },
  {
   "cell_type": "code",
   "execution_count": 20,
   "id": "3b07d69e",
   "metadata": {},
   "outputs": [
    {
     "data": {
      "text/plain": [
       "'r'"
      ]
     },
     "execution_count": 20,
     "metadata": {},
     "output_type": "execute_result"
    }
   ],
   "source": [
    "a=\"rajasthan\"\n",
    "a[0:4:9]"
   ]
  },
  {
   "cell_type": "code",
   "execution_count": 21,
   "id": "f492db85",
   "metadata": {},
   "outputs": [
    {
     "data": {
      "text/plain": [
       "'rsn'"
      ]
     },
     "execution_count": 21,
     "metadata": {},
     "output_type": "execute_result"
    }
   ],
   "source": [
    "a=\"rajasthan\"\n",
    "a[0::4]"
   ]
  },
  {
   "cell_type": "code",
   "execution_count": 22,
   "id": "954a0f90",
   "metadata": {},
   "outputs": [
    {
     "data": {
      "text/plain": [
       "'n'"
      ]
     },
     "execution_count": 22,
     "metadata": {},
     "output_type": "execute_result"
    }
   ],
   "source": [
    "a=\"rajasthan\"\n",
    "a[-1:]"
   ]
  },
  {
   "cell_type": "code",
   "execution_count": 23,
   "id": "18118a51",
   "metadata": {},
   "outputs": [
    {
     "data": {
      "text/plain": [
       "'n'"
      ]
     },
     "execution_count": 23,
     "metadata": {},
     "output_type": "execute_result"
    }
   ],
   "source": [
    "a=\"rajasthan\"\n",
    "a[-1::]"
   ]
  },
  {
   "cell_type": "code",
   "execution_count": 24,
   "id": "f12f7e8e",
   "metadata": {},
   "outputs": [
    {
     "data": {
      "text/plain": [
       "'nahtsajar'"
      ]
     },
     "execution_count": 24,
     "metadata": {},
     "output_type": "execute_result"
    }
   ],
   "source": [
    "a=\"rajasthan\"\n",
    "a[::-1]"
   ]
  },
  {
   "cell_type": "code",
   "execution_count": 25,
   "id": "791c5539",
   "metadata": {},
   "outputs": [
    {
     "data": {
      "text/plain": [
       "'rajastha'"
      ]
     },
     "execution_count": 25,
     "metadata": {},
     "output_type": "execute_result"
    }
   ],
   "source": [
    "a=\"rajasthan\"\n",
    "a[0:-1]"
   ]
  },
  {
   "cell_type": "code",
   "execution_count": 26,
   "id": "b0492d09",
   "metadata": {},
   "outputs": [
    {
     "data": {
      "text/plain": [
       "'r'"
      ]
     },
     "execution_count": 26,
     "metadata": {},
     "output_type": "execute_result"
    }
   ],
   "source": [
    "a=\"rajasthan\"\n",
    "a[0]"
   ]
  },
  {
   "cell_type": "code",
   "execution_count": 27,
   "id": "2dcba3d4",
   "metadata": {},
   "outputs": [
    {
     "data": {
      "text/plain": [
       "''"
      ]
     },
     "execution_count": 27,
     "metadata": {},
     "output_type": "execute_result"
    }
   ],
   "source": [
    "a=\"rajasthan\"\n",
    "a[0:4:-3]"
   ]
  },
  {
   "cell_type": "code",
   "execution_count": 28,
   "id": "378c7e05",
   "metadata": {},
   "outputs": [
    {
     "data": {
      "text/plain": [
       "'rjsh'"
      ]
     },
     "execution_count": 28,
     "metadata": {},
     "output_type": "execute_result"
    }
   ],
   "source": [
    "a=\"rajasthan\"\n",
    "a[0:8:2]"
   ]
  },
  {
   "cell_type": "code",
   "execution_count": null,
   "id": "66590fd6",
   "metadata": {},
   "outputs": [],
   "source": []
  }
 ],
 "metadata": {
  "kernelspec": {
   "display_name": "Python 3 (ipykernel)",
   "language": "python",
   "name": "python3"
  },
  "language_info": {
   "codemirror_mode": {
    "name": "ipython",
    "version": 3
   },
   "file_extension": ".py",
   "mimetype": "text/x-python",
   "name": "python",
   "nbconvert_exporter": "python",
   "pygments_lexer": "ipython3",
   "version": "3.10.11"
  }
 },
 "nbformat": 4,
 "nbformat_minor": 5
}
