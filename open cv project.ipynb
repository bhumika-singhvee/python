{
 "cells": [
  {
   "cell_type": "code",
   "execution_count": 2,
   "id": "b15583ee",
   "metadata": {
    "scrolled": true
   },
   "outputs": [
    {
     "name": "stdout",
     "output_type": "stream",
     "text": [
      "Collecting pytesseractNote: you may need to restart the kernel to use updated packages.\n",
      "\n",
      "  Downloading pytesseract-0.3.10-py3-none-any.whl (14 kB)\n",
      "Requirement already satisfied: packaging>=21.3 in c:\\users\\user\\anaconda3\\lib\\site-packages (from pytesseract) (23.0)\n",
      "Requirement already satisfied: Pillow>=8.0.0 in c:\\users\\user\\anaconda3\\lib\\site-packages (from pytesseract) (9.4.0)\n",
      "Installing collected packages: pytesseract\n",
      "Successfully installed pytesseract-0.3.10\n"
     ]
    }
   ],
   "source": [
    "pip install pytesseract"
   ]
  },
  {
   "cell_type": "code",
   "execution_count": 4,
   "id": "ac9a7a87",
   "metadata": {},
   "outputs": [
    {
     "name": "stdout",
     "output_type": "stream",
     "text": [
      "Requirement already satisfied: Pillow in c:\\users\\user\\anaconda3\\lib\\site-packages (9.4.0)\n",
      "Note: you may need to restart the kernel to use updated packages.\n"
     ]
    }
   ],
   "source": [
    "pip install Pillow"
   ]
  },
  {
   "cell_type": "code",
   "execution_count": 11,
   "id": "fcedd5aa",
   "metadata": {},
   "outputs": [
    {
     "ename": "FileNotFoundError",
     "evalue": "[Errno 2] No such file or directory: 'C:\\\\Users\\\\User\\\\Desktop\\\\random image'",
     "output_type": "error",
     "traceback": [
      "\u001b[1;31m---------------------------------------------------------------------------\u001b[0m",
      "\u001b[1;31mFileNotFoundError\u001b[0m                         Traceback (most recent call last)",
      "Cell \u001b[1;32mIn[11], line 3\u001b[0m\n\u001b[0;32m      1\u001b[0m \u001b[38;5;28;01mimport\u001b[39;00m \u001b[38;5;21;01mpytesseract\u001b[39;00m\n\u001b[0;32m      2\u001b[0m \u001b[38;5;28;01mfrom\u001b[39;00m \u001b[38;5;21;01mPIL\u001b[39;00m \u001b[38;5;28;01mimport\u001b[39;00m Image\n\u001b[1;32m----> 3\u001b[0m image\u001b[38;5;241m=\u001b[39mImage\u001b[38;5;241m.\u001b[39mopen(\u001b[38;5;124m\"\u001b[39m\u001b[38;5;124mC:\u001b[39m\u001b[38;5;130;01m\\\\\u001b[39;00m\u001b[38;5;124mUsers\u001b[39m\u001b[38;5;130;01m\\\\\u001b[39;00m\u001b[38;5;124mUser\u001b[39m\u001b[38;5;130;01m\\\\\u001b[39;00m\u001b[38;5;124mDesktop\u001b[39m\u001b[38;5;130;01m\\\\\u001b[39;00m\u001b[38;5;124mrandom image\u001b[39m\u001b[38;5;124m\"\u001b[39m)\n\u001b[0;32m      4\u001b[0m extractracted_text\u001b[38;5;241m=\u001b[39mpytesseract\u001b[38;5;241m.\u001b[39mimage_to_string(image)\n\u001b[0;32m      5\u001b[0m \u001b[38;5;28mprint\u001b[39m(extracted_text)\n",
      "File \u001b[1;32m~\\anaconda3\\Lib\\site-packages\\PIL\\Image.py:3227\u001b[0m, in \u001b[0;36mopen\u001b[1;34m(fp, mode, formats)\u001b[0m\n\u001b[0;32m   3224\u001b[0m     filename \u001b[38;5;241m=\u001b[39m fp\n\u001b[0;32m   3226\u001b[0m \u001b[38;5;28;01mif\u001b[39;00m filename:\n\u001b[1;32m-> 3227\u001b[0m     fp \u001b[38;5;241m=\u001b[39m builtins\u001b[38;5;241m.\u001b[39mopen(filename, \u001b[38;5;124m\"\u001b[39m\u001b[38;5;124mrb\u001b[39m\u001b[38;5;124m\"\u001b[39m)\n\u001b[0;32m   3228\u001b[0m     exclusive_fp \u001b[38;5;241m=\u001b[39m \u001b[38;5;28;01mTrue\u001b[39;00m\n\u001b[0;32m   3230\u001b[0m \u001b[38;5;28;01mtry\u001b[39;00m:\n",
      "\u001b[1;31mFileNotFoundError\u001b[0m: [Errno 2] No such file or directory: 'C:\\\\Users\\\\User\\\\Desktop\\\\random image'"
     ]
    }
   ],
   "source": [
    "import pytesseract\n",
    "from PIL import Image\n",
    "image=Image.open(\"C:\\\\Users\\\\User\\\\Desktop\\\\random image\")\n",
    "extractracted_text=pytesseract.image_to_string(image)\n",
    "print(extracted_text)"
   ]
  },
  {
   "cell_type": "code",
   "execution_count": 10,
   "id": "5b843df2",
   "metadata": {},
   "outputs": [
    {
     "ename": "SyntaxError",
     "evalue": "(unicode error) 'unicodeescape' codec can't decode bytes in position 2-3: truncated \\UXXXXXXXX escape (3586215370.py, line 8)",
     "output_type": "error",
     "traceback": [
      "\u001b[1;36m  Cell \u001b[1;32mIn[10], line 8\u001b[1;36m\u001b[0m\n\u001b[1;33m    image_path = \"C:\\Users\\User\\Desktop\\random image\"\u001b[0m\n\u001b[1;37m                                                      ^\u001b[0m\n\u001b[1;31mSyntaxError\u001b[0m\u001b[1;31m:\u001b[0m (unicode error) 'unicodeescape' codec can't decode bytes in position 2-3: truncated \\UXXXXXXXX escape\n"
     ]
    }
   ],
   "source": [
    "from PIL import Image\n",
    "import pytesseract\n",
    "\n",
    "# Set the path to the Tesseract executable (update this with your actual path)\n",
    "pytesseract.pytesseract.tesseract_cmd = r\"C:\\Users\\User\\Desktop\\random image\"\n",
    "\n",
    "# Load an image using PIL (Pillow)\n",
    "image_path = \"C:\\Users\\User\\Desktop\\random image\" \n",
    "image = Image.open(image_path)\n",
    "\n",
    "# Perform OCR on the image\n",
    "text = pytesseract.image_to_string(image)\n",
    "\n",
    "# Print the extracted text\n",
    "print(text)"
   ]
  },
  {
   "cell_type": "code",
   "execution_count": 1,
   "id": "8f6d3634",
   "metadata": {},
   "outputs": [
    {
     "name": "stdout",
     "output_type": "stream",
     "text": [
      "It was the best of\n",
      "times, it was the worst\n",
      "of times, it was the age\n",
      "of wisdom, it was the\n",
      "age of foolishness...\n",
      "\n"
     ]
    }
   ],
   "source": [
    "from PIL import Image\n",
    "import pytesseract\n",
    "\n",
    "class OCR:\n",
    "    def __init__(self, tesseract_cmd):\n",
    "        # Set the path to the Tesseract executable\n",
    "        pytesseract.pytesseract.tesseract_cmd = tesseract_cmd\n",
    "\n",
    "    def extract_text_from_image(self, image_path):\n",
    "        try:\n",
    "            # Load an image using PIL (Pillow)\n",
    "            image = Image.open(image_path)\n",
    "\n",
    "            # Perform OCR on the image\n",
    "            text = pytesseract.image_to_string(image)\n",
    "\n",
    "            return text\n",
    "        except Exception as e:\n",
    "            return str(e)\n",
    "\n",
    "# Example usage:\n",
    "if __name__ == \"__main__\":\n",
    "    # Replace with the actual path to your Tesseract executable\n",
    "    tesseract_cmd = r'C:\\Program Files\\Tesseract-OCR\\tesseract.exe'\n",
    "\n",
    "    # Create an OCR object\n",
    "    ocr = OCR(tesseract_cmd)\n",
    "\n",
    "    # Replace 'sample_image.png' with the path to your image\n",
    "    image_path = 'random image.png'\n",
    "    \n",
    "    # Extract text from the image\n",
    "    extracted_text = ocr.extract_text_from_image(image_path)\n",
    "    \n",
    "    # Print the extracted text\n",
    "    print(extracted_text)"
   ]
  },
  {
   "cell_type": "code",
   "execution_count": null,
   "id": "3079e510",
   "metadata": {},
   "outputs": [],
   "source": [
    "class OCR:\n",
    "    def __init__(self, tesseract_cmd):\n",
    "        pytesseract.pytesseract.tesseract_cmd = tesseract_cmd\n",
    "         def extract_text_from_image(self, image_path):\n",
    "        try:"
   ]
  },
  {
   "cell_type": "code",
   "execution_count": 15,
   "id": "0e4077eb",
   "metadata": {},
   "outputs": [
    {
     "ename": "ModuleNotFoundError",
     "evalue": "No module named 'pdfplumber'",
     "output_type": "error",
     "traceback": [
      "\u001b[1;31m---------------------------------------------------------------------------\u001b[0m",
      "\u001b[1;31mModuleNotFoundError\u001b[0m                       Traceback (most recent call last)",
      "Cell \u001b[1;32mIn[15], line 1\u001b[0m\n\u001b[1;32m----> 1\u001b[0m \u001b[38;5;28;01mimport\u001b[39;00m \u001b[38;5;21;01mpdfplumber\u001b[39;00m\n\u001b[0;32m      2\u001b[0m \u001b[38;5;28;01mimport\u001b[39;00m \u001b[38;5;21;01mpytesseract\u001b[39;00m\n\u001b[0;32m      3\u001b[0m \u001b[38;5;28;01mfrom\u001b[39;00m \u001b[38;5;21;01mPIL\u001b[39;00m \u001b[38;5;28;01mimport\u001b[39;00m Image\n",
      "\u001b[1;31mModuleNotFoundError\u001b[0m: No module named 'pdfplumber'"
     ]
    }
   ],
   "source": [
    "import pdfplumber\n",
    "import pytesseract\n",
    "from PIL import Image\n",
    "from reportlab.lib.pagesizes import letter\n",
    "from reportlab.platypus import SimpleDocTemplate, Paragraph\n",
    "from reportlab.lib.styles import getSampleStyleSheet\n",
    "\n",
    "# Function to extract text from an image using Tesseract OCR\n",
    "def extract_text_from_image(image_path):\n",
    "    text = pytesseract.image_to_string(Image.open(image_path))\n",
    "    return text\n",
    "\n",
    "# Function to create a PDF from extracted text\n",
    "def create_pdf_from_text(text, pdf_path):\n",
    "    doc = SimpleDocTemplate(pdf_path, pagesize=letter)\n",
    "    styles = getSampleStyleSheet()\n",
    "    story = []\n",
    "\n",
    "    # Split the extracted text into lines and add them to the PDF\n",
    "    lines = text.split('\\n')\n",
    "    for line in lines:\n",
    "        p = Paragraph(line, styles[\"Normal\"])\n",
    "        story.append(p)\n",
    "\n",
    "    doc.build(story)\n",
    "\n",
    "# Input image path and PDF output path\n",
    "image_path = 'random image.png'  # Replace with the path to your screenshot image\n",
    "pdf_path = 'out.pdf'  # Replace with the desired PDF output path\n",
    "\n",
    "# Extract text from the image\n",
    "extracted_text = extract_text_from_image(image_path)\n",
    "\n",
    "# Create a PDF from the extracted text\n",
    "create_pdf_from_text(extracted_text, pdf_path)\n",
    "\n",
    "print(f\"Text extracted from {image_path} and saved as {pdf_path}\")"
   ]
  },
  {
   "cell_type": "code",
   "execution_count": 5,
   "id": "4d81bf81",
   "metadata": {},
   "outputs": [
    {
     "name": "stdout",
     "output_type": "stream",
     "text": [
      "car number is extracted: “RJ14CV0002\n",
      "\n",
      "\n"
     ]
    }
   ],
   "source": [
    "from PIL import Image\n",
    "import pytesseract\n",
    "\n",
    "class OCR:\n",
    "    def __init__(self, tesseract_cmd):\n",
    "        # Set the path to the Tesseract executable\n",
    "        pytesseract.pytesseract.tesseract_cmd = tesseract_cmd\n",
    "\n",
    "    def extract_text_from_image(self, image_path):\n",
    "        try:\n",
    "            # Load an image using PIL (Pillow)\n",
    "            image = Image.open(image_path)\n",
    "\n",
    "            # Perform OCR on the image\n",
    "            text = pytesseract.image_to_string(image)\n",
    "\n",
    "            return text\n",
    "        except Exception as e:\n",
    "            return str(e)\n",
    "\n",
    "# Example usage:\n",
    "if __name__ == \"__main__\":\n",
    "    # Replace with the actual path to your Tesseract executable\n",
    "    tesseract_cmd = r'C:\\Program Files\\Tesseract-OCR\\tesseract.exe'\n",
    "\n",
    "    # Create an OCR object\n",
    "    ocr = OCR(tesseract_cmd)\n",
    "\n",
    "    # Replace 'sample_image.png' with the path to your image\n",
    "    image_path = 'car.jpg'\n",
    "    \n",
    "    # Extract text from the image\n",
    "    extracted_text = ocr.extract_text_from_image(image_path)\n",
    "    \n",
    "    # Print the extracted text\n",
    "    print(\"car number is extracted:\",extracted_text)"
   ]
  },
  {
   "cell_type": "code",
   "execution_count": null,
   "id": "32022ca0",
   "metadata": {},
   "outputs": [],
   "source": []
  }
 ],
 "metadata": {
  "kernelspec": {
   "display_name": "Python 3 (ipykernel)",
   "language": "python",
   "name": "python3"
  },
  "language_info": {
   "codemirror_mode": {
    "name": "ipython",
    "version": 3
   },
   "file_extension": ".py",
   "mimetype": "text/x-python",
   "name": "python",
   "nbconvert_exporter": "python",
   "pygments_lexer": "ipython3",
   "version": "3.11.4"
  }
 },
 "nbformat": 4,
 "nbformat_minor": 5
}
