{
 "cells": [
  {
   "cell_type": "code",
   "execution_count": 3,
   "id": "c1717558",
   "metadata": {},
   "outputs": [],
   "source": [
    "import numpy as np\n",
    "import pandas as pd\n",
    "import tensorflow as tf\n",
    "from sklearn.model_selection import train_test_split\n",
    "from sklearn.preprocessing import LabelEncoder , StandardScaler"
   ]
  },
  {
   "cell_type": "code",
   "execution_count": 4,
   "id": "406c89c3",
   "metadata": {},
   "outputs": [
    {
     "data": {
      "text/html": [
       "<div>\n",
       "<style scoped>\n",
       "    .dataframe tbody tr th:only-of-type {\n",
       "        vertical-align: middle;\n",
       "    }\n",
       "\n",
       "    .dataframe tbody tr th {\n",
       "        vertical-align: top;\n",
       "    }\n",
       "\n",
       "    .dataframe thead th {\n",
       "        text-align: right;\n",
       "    }\n",
       "</style>\n",
       "<table border=\"1\" class=\"dataframe\">\n",
       "  <thead>\n",
       "    <tr style=\"text-align: right;\">\n",
       "      <th></th>\n",
       "      <th>Daily Time Spent on Site</th>\n",
       "      <th>Age</th>\n",
       "      <th>Area Income</th>\n",
       "      <th>Daily Internet Usage</th>\n",
       "      <th>Ad Topic Line</th>\n",
       "      <th>City</th>\n",
       "      <th>Gender</th>\n",
       "      <th>Country</th>\n",
       "      <th>Timestamp</th>\n",
       "      <th>Clicked on Ad</th>\n",
       "    </tr>\n",
       "  </thead>\n",
       "  <tbody>\n",
       "    <tr>\n",
       "      <th>0</th>\n",
       "      <td>62.26</td>\n",
       "      <td>32.0</td>\n",
       "      <td>69481.85</td>\n",
       "      <td>172.83</td>\n",
       "      <td>Decentralized real-time circuit</td>\n",
       "      <td>Lisafort</td>\n",
       "      <td>Male</td>\n",
       "      <td>Svalbard &amp; Jan Mayen Islands</td>\n",
       "      <td>2016-06-09 21:43:05</td>\n",
       "      <td>0</td>\n",
       "    </tr>\n",
       "    <tr>\n",
       "      <th>1</th>\n",
       "      <td>41.73</td>\n",
       "      <td>31.0</td>\n",
       "      <td>61840.26</td>\n",
       "      <td>207.17</td>\n",
       "      <td>Optional full-range projection</td>\n",
       "      <td>West Angelabury</td>\n",
       "      <td>Male</td>\n",
       "      <td>Singapore</td>\n",
       "      <td>2016-01-16 17:56:05</td>\n",
       "      <td>0</td>\n",
       "    </tr>\n",
       "    <tr>\n",
       "      <th>2</th>\n",
       "      <td>44.40</td>\n",
       "      <td>30.0</td>\n",
       "      <td>57877.15</td>\n",
       "      <td>172.83</td>\n",
       "      <td>Total 5thgeneration standardization</td>\n",
       "      <td>Reyesfurt</td>\n",
       "      <td>Female</td>\n",
       "      <td>Guadeloupe</td>\n",
       "      <td>2016-06-29 10:50:45</td>\n",
       "      <td>0</td>\n",
       "    </tr>\n",
       "    <tr>\n",
       "      <th>3</th>\n",
       "      <td>59.88</td>\n",
       "      <td>28.0</td>\n",
       "      <td>56180.93</td>\n",
       "      <td>207.17</td>\n",
       "      <td>Balanced empowering success</td>\n",
       "      <td>New Michael</td>\n",
       "      <td>Female</td>\n",
       "      <td>Zambia</td>\n",
       "      <td>2016-06-21 14:32:32</td>\n",
       "      <td>0</td>\n",
       "    </tr>\n",
       "    <tr>\n",
       "      <th>4</th>\n",
       "      <td>49.21</td>\n",
       "      <td>30.0</td>\n",
       "      <td>54324.73</td>\n",
       "      <td>201.58</td>\n",
       "      <td>Total 5thgeneration standardization</td>\n",
       "      <td>West Richard</td>\n",
       "      <td>Female</td>\n",
       "      <td>Qatar</td>\n",
       "      <td>2016-07-21 10:54:35</td>\n",
       "      <td>1</td>\n",
       "    </tr>\n",
       "  </tbody>\n",
       "</table>\n",
       "</div>"
      ],
      "text/plain": [
       "   Daily Time Spent on Site   Age  Area Income  Daily Internet Usage  \\\n",
       "0                     62.26  32.0     69481.85                172.83   \n",
       "1                     41.73  31.0     61840.26                207.17   \n",
       "2                     44.40  30.0     57877.15                172.83   \n",
       "3                     59.88  28.0     56180.93                207.17   \n",
       "4                     49.21  30.0     54324.73                201.58   \n",
       "\n",
       "                         Ad Topic Line             City  Gender  \\\n",
       "0      Decentralized real-time circuit         Lisafort    Male   \n",
       "1       Optional full-range projection  West Angelabury    Male   \n",
       "2  Total 5thgeneration standardization        Reyesfurt  Female   \n",
       "3          Balanced empowering success      New Michael  Female   \n",
       "4  Total 5thgeneration standardization     West Richard  Female   \n",
       "\n",
       "                        Country            Timestamp  Clicked on Ad  \n",
       "0  Svalbard & Jan Mayen Islands  2016-06-09 21:43:05              0  \n",
       "1                     Singapore  2016-01-16 17:56:05              0  \n",
       "2                    Guadeloupe  2016-06-29 10:50:45              0  \n",
       "3                        Zambia  2016-06-21 14:32:32              0  \n",
       "4                         Qatar  2016-07-21 10:54:35              1  "
      ]
     },
     "execution_count": 4,
     "metadata": {},
     "output_type": "execute_result"
    }
   ],
   "source": [
    "df = pd.read_csv(\"C:\\\\Users\\\\User\\\\Desktop\\\\ML\\\\Click.csv\")\n",
    "df.head()"
   ]
  },
  {
   "cell_type": "code",
   "execution_count": 5,
   "id": "68088185",
   "metadata": {},
   "outputs": [],
   "source": [
    "le = LabelEncoder()\n",
    "df['Timestamp'] = le.fit_transform(df['Timestamp'])\n",
    "df['Ad Topic Line'] = le.fit_transform(df['Ad Topic Line'])\n",
    "df['City'] = le.fit_transform(df['City'])\n",
    "df['Gender'] = le.fit_transform(df['Gender'])\n",
    "df['Country'] = le.fit_transform(df['Country'])"
   ]
  },
  {
   "cell_type": "code",
   "execution_count": 6,
   "id": "9e771ad4",
   "metadata": {},
   "outputs": [],
   "source": [
    "x = df.iloc[:, 0:-1].values\n",
    "y = df.iloc[:, -1].values"
   ]
  },
  {
   "cell_type": "code",
   "execution_count": 7,
   "id": "e2362edb",
   "metadata": {},
   "outputs": [],
   "source": [
    "x_train, x_test, y_train, y_test = train_test_split(x, y, test_size=0.2, random_state=42)\n"
   ]
  },
  {
   "cell_type": "code",
   "execution_count": 8,
   "id": "47328982",
   "metadata": {},
   "outputs": [],
   "source": [
    "scaler = StandardScaler()\n",
    "x_train = scaler.fit_transform(x_train)\n",
    "x_test = scaler.transform(x_test)"
   ]
  },
  {
   "cell_type": "code",
   "execution_count": 9,
   "id": "388bc1d8",
   "metadata": {},
   "outputs": [],
   "source": [
    "model = tf.keras.Sequential([\n",
    "    tf.keras.layers.Dense(64, activation='relu', input_dim=x_train.shape[1]),\n",
    "    tf.keras.layers.Dense(64, activation='relu'),\n",
    "    tf.keras.layers.Dense(1, activation='sigmoid')\n",
    "])"
   ]
  },
  {
   "cell_type": "code",
   "execution_count": 10,
   "id": "035829a7",
   "metadata": {},
   "outputs": [],
   "source": [
    "loss_fn = tf.keras.losses.BinaryCrossentropy()\n",
    "metrics = ['accuracy']\n"
   ]
  },
  {
   "cell_type": "code",
   "execution_count": 11,
   "id": "8d31176f",
   "metadata": {},
   "outputs": [],
   "source": [
    "learning_rate = 0.01\n",
    "momentum = 0.9\n",
    "optimizer = tf.keras.optimizers.SGD(learning_rate=learning_rate , momentum=momentum)\n"
   ]
  },
  {
   "cell_type": "code",
   "execution_count": 12,
   "id": "673409d5",
   "metadata": {},
   "outputs": [],
   "source": [
    "model.compile(optimizer=optimizer, loss=loss_fn , metrics=metrics)"
   ]
  },
  {
   "cell_type": "code",
   "execution_count": 13,
   "id": "4a0d06b2",
   "metadata": {},
   "outputs": [
    {
     "name": "stdout",
     "output_type": "stream",
     "text": [
      "Epoch 1/10\n",
      "200/200 [==============================] - 17s 50ms/step - loss: 0.5804 - accuracy: 0.6997 - val_loss: 0.5525 - val_accuracy: 0.7275\n",
      "Epoch 2/10\n",
      "200/200 [==============================] - 8s 42ms/step - loss: 0.5413 - accuracy: 0.7377 - val_loss: 0.5482 - val_accuracy: 0.7400\n",
      "Epoch 3/10\n",
      "200/200 [==============================] - 5s 24ms/step - loss: 0.5341 - accuracy: 0.7408 - val_loss: 0.5454 - val_accuracy: 0.7400\n",
      "Epoch 4/10\n",
      "200/200 [==============================] - 5s 27ms/step - loss: 0.5301 - accuracy: 0.7467 - val_loss: 0.5442 - val_accuracy: 0.7331\n",
      "Epoch 5/10\n",
      "200/200 [==============================] - 7s 36ms/step - loss: 0.5263 - accuracy: 0.7470 - val_loss: 0.5436 - val_accuracy: 0.7350\n",
      "Epoch 6/10\n",
      "200/200 [==============================] - 10s 51ms/step - loss: 0.5236 - accuracy: 0.7506 - val_loss: 0.5428 - val_accuracy: 0.7350\n",
      "Epoch 7/10\n",
      "200/200 [==============================] - 8s 38ms/step - loss: 0.5211 - accuracy: 0.7519 - val_loss: 0.5402 - val_accuracy: 0.7381\n",
      "Epoch 8/10\n",
      "200/200 [==============================] - 6s 29ms/step - loss: 0.5181 - accuracy: 0.7523 - val_loss: 0.5454 - val_accuracy: 0.7425\n",
      "Epoch 9/10\n",
      "200/200 [==============================] - 6s 29ms/step - loss: 0.5152 - accuracy: 0.7570 - val_loss: 0.5474 - val_accuracy: 0.7294\n",
      "Epoch 10/10\n",
      "200/200 [==============================] - 5s 26ms/step - loss: 0.5158 - accuracy: 0.7539 - val_loss: 0.5383 - val_accuracy: 0.7437\n"
     ]
    },
    {
     "data": {
      "text/plain": [
       "<keras.src.callbacks.History at 0x1e3fb3c9750>"
      ]
     },
     "execution_count": 13,
     "metadata": {},
     "output_type": "execute_result"
    }
   ],
   "source": [
    "epochs = 10\n",
    "batch_size = 32\n",
    "model.fit(x_train , y_train , batch_size=batch_size ,epochs=epochs , validation_split=0.2)\n"
   ]
  },
  {
   "cell_type": "code",
   "execution_count": 14,
   "id": "791b5a32",
   "metadata": {},
   "outputs": [
    {
     "name": "stdout",
     "output_type": "stream",
     "text": [
      "63/63 [==============================] - 3s 30ms/step - loss: 0.5340 - accuracy: 0.7415\n",
      "test loss 0.5340058207511902\n",
      "test accuracy 0.7415000200271606\n"
     ]
    }
   ],
   "source": [
    "test_loss , test_acc = model.evaluate(x_test , y_test)\n",
    "print(\"test loss\", test_loss)\n",
    "print(\"test accuracy\" , test_acc)"
   ]
  },
  {
   "cell_type": "code",
   "execution_count": 15,
   "id": "2b91e80b",
   "metadata": {},
   "outputs": [],
   "source": [
    "learning_rate = 0.01\n",
    "optimizer = tf.keras.optimizers.RMSprop(learning_rate=learning_rate )"
   ]
  },
  {
   "cell_type": "code",
   "execution_count": 16,
   "id": "fc130698",
   "metadata": {},
   "outputs": [],
   "source": [
    "model.compile(optimizer=optimizer, loss=loss_fn , metrics=metrics)"
   ]
  },
  {
   "cell_type": "code",
   "execution_count": 17,
   "id": "083c7d72",
   "metadata": {},
   "outputs": [
    {
     "name": "stdout",
     "output_type": "stream",
     "text": [
      "Epoch 1/10\n",
      "200/200 [==============================] - 15s 29ms/step - loss: 0.5562 - accuracy: 0.7397 - val_loss: 0.5515 - val_accuracy: 0.7206\n",
      "Epoch 2/10\n",
      "200/200 [==============================] - 14s 68ms/step - loss: 0.5408 - accuracy: 0.7437 - val_loss: 0.5438 - val_accuracy: 0.7406\n",
      "Epoch 3/10\n",
      "200/200 [==============================] - 4s 20ms/step - loss: 0.5342 - accuracy: 0.7447 - val_loss: 0.5387 - val_accuracy: 0.7475\n",
      "Epoch 4/10\n",
      "200/200 [==============================] - 5s 23ms/step - loss: 0.5280 - accuracy: 0.7480 - val_loss: 0.5424 - val_accuracy: 0.7437\n",
      "Epoch 5/10\n",
      "200/200 [==============================] - 7s 33ms/step - loss: 0.5267 - accuracy: 0.7475 - val_loss: 0.5343 - val_accuracy: 0.7450\n",
      "Epoch 6/10\n",
      "200/200 [==============================] - 9s 43ms/step - loss: 0.5201 - accuracy: 0.7545 - val_loss: 0.5571 - val_accuracy: 0.7350\n",
      "Epoch 7/10\n",
      "200/200 [==============================] - 12s 62ms/step - loss: 0.5147 - accuracy: 0.7527 - val_loss: 0.5473 - val_accuracy: 0.7444\n",
      "Epoch 8/10\n",
      "200/200 [==============================] - 11s 55ms/step - loss: 0.5138 - accuracy: 0.7583 - val_loss: 0.5286 - val_accuracy: 0.7462\n",
      "Epoch 9/10\n",
      "200/200 [==============================] - 11s 53ms/step - loss: 0.5110 - accuracy: 0.7573 - val_loss: 0.5346 - val_accuracy: 0.7437\n",
      "Epoch 10/10\n",
      "200/200 [==============================] - 11s 57ms/step - loss: 0.5052 - accuracy: 0.7603 - val_loss: 0.5470 - val_accuracy: 0.7462\n"
     ]
    },
    {
     "data": {
      "text/plain": [
       "<keras.src.callbacks.History at 0x1e3fb777d50>"
      ]
     },
     "execution_count": 17,
     "metadata": {},
     "output_type": "execute_result"
    }
   ],
   "source": [
    "epochs = 10\n",
    "batch_size = 32\n",
    "model.fit(x_train , y_train , batch_size=batch_size ,epochs=epochs , validation_split=0.2)\n"
   ]
  },
  {
   "cell_type": "code",
   "execution_count": 18,
   "id": "1170bad6",
   "metadata": {},
   "outputs": [
    {
     "name": "stdout",
     "output_type": "stream",
     "text": [
      "63/63 [==============================] - 4s 37ms/step - loss: 0.5576 - accuracy: 0.7510\n",
      "test loss 0.5576358437538147\n",
      "test accuracy 0.7509999871253967\n"
     ]
    }
   ],
   "source": [
    "test_loss , test_acc = model.evaluate(x_test , y_test)\n",
    "print(\"test loss\", test_loss)\n",
    "print(\"test accuracy\" , test_acc)"
   ]
  },
  {
   "cell_type": "code",
   "execution_count": null,
   "id": "35ee2aba",
   "metadata": {},
   "outputs": [],
   "source": []
  }
 ],
 "metadata": {
  "kernelspec": {
   "display_name": "Python 3 (ipykernel)",
   "language": "python",
   "name": "python3"
  },
  "language_info": {
   "codemirror_mode": {
    "name": "ipython",
    "version": 3
   },
   "file_extension": ".py",
   "mimetype": "text/x-python",
   "name": "python",
   "nbconvert_exporter": "python",
   "pygments_lexer": "ipython3",
   "version": "3.11.4"
  }
 },
 "nbformat": 4,
 "nbformat_minor": 5
}
