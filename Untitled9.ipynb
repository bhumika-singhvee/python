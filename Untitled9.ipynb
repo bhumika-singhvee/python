{
 "cells": [
  {
   "cell_type": "code",
   "execution_count": 7,
   "id": "a6a2ed24",
   "metadata": {},
   "outputs": [
    {
     "name": "stdout",
     "output_type": "stream",
     "text": [
      "enter you want to print table of number5\n",
      "the reverese number is  inf\n"
     ]
    }
   ],
   "source": [
    "\n",
    "num=int(input(\"enter you want to print table of number\"))\n",
    "rem=0\n",
    "while (num>0):\n",
    "    a=num%10\n",
    "    rem=rem*10+a\n",
    "    num=num/10\n",
    "print(\"the reverese number is \",rem)"
   ]
  },
  {
   "cell_type": "code",
   "execution_count": null,
   "id": "a644a5ea",
   "metadata": {},
   "outputs": [],
   "source": [
    "a=int(input(\"enter your choice\"))\n",
    "if "
   ]
  }
 ],
 "metadata": {
  "kernelspec": {
   "display_name": "Python 3 (ipykernel)",
   "language": "python",
   "name": "python3"
  },
  "language_info": {
   "codemirror_mode": {
    "name": "ipython",
    "version": 3
   },
   "file_extension": ".py",
   "mimetype": "text/x-python",
   "name": "python",
   "nbconvert_exporter": "python",
   "pygments_lexer": "ipython3",
   "version": "3.10.11"
  }
 },
 "nbformat": 4,
 "nbformat_minor": 5
}
