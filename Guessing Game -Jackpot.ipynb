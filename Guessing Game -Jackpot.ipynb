{
 "cells": [
  {
   "cell_type": "code",
   "execution_count": 1,
   "id": "4edf3610",
   "metadata": {},
   "outputs": [],
   "source": [
    "import random"
   ]
  },
  {
   "cell_type": "code",
   "execution_count": 5,
   "id": "fb70db96",
   "metadata": {},
   "outputs": [
    {
     "name": "stdout",
     "output_type": "stream",
     "text": [
      "Enter your number45\n",
      "Guess lower!\n",
      "Enter your number23\n",
      "Guess lower!\n",
      "Enter your number15\n",
      "YOU GUESS IS RIGHT\n",
      "You took 3 attempts\n"
     ]
    }
   ],
   "source": [
    "jackpot=random.randint(1,100)\n",
    "\n",
    "guess=int(input(\"Enter your number\"))\n",
    "counter=1\n",
    "\n",
    "while guess!= jackpot:\n",
    "    if guess<jackpot:\n",
    "        print(\"Guess higher!\")\n",
    "    else:\n",
    "        print(\"Guess lower!\")\n",
    "    guess=int(input(\"Enter your number\")) \n",
    "    counter+=1\n",
    "\n",
    "print(\"YOU GUESS IS RIGHT\")    \n",
    "print(\"You took\",counter,\"attempts\")"
   ]
  },
  {
   "cell_type": "code",
   "execution_count": null,
   "id": "ddc58644",
   "metadata": {},
   "outputs": [],
   "source": []
  }
 ],
 "metadata": {
  "kernelspec": {
   "display_name": "Python 3 (ipykernel)",
   "language": "python",
   "name": "python3"
  },
  "language_info": {
   "codemirror_mode": {
    "name": "ipython",
    "version": 3
   },
   "file_extension": ".py",
   "mimetype": "text/x-python",
   "name": "python",
   "nbconvert_exporter": "python",
   "pygments_lexer": "ipython3",
   "version": "3.11.4"
  }
 },
 "nbformat": 4,
 "nbformat_minor": 5
}
